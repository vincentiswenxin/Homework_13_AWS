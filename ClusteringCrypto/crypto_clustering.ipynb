{
 "cells": [
  {
   "cell_type": "markdown",
   "metadata": {},
   "source": [
    "# Clustering Crypto"
   ]
  },
  {
   "cell_type": "code",
   "execution_count": 254,
   "metadata": {},
   "outputs": [],
   "source": [
    "# Initial imports\n",
    "import requests\n",
    "import pandas as pd\n",
    "import matplotlib.pyplot as plt\n",
    "import hvplot.pandas\n",
    "import plotly.express as px\n",
    "from sklearn.preprocessing import StandardScaler, MinMaxScaler\n",
    "from sklearn.decomposition import PCA\n",
    "from sklearn.cluster import KMeans\n"
   ]
  },
  {
   "cell_type": "markdown",
   "metadata": {},
   "source": [
    "### Fetching Cryptocurrency Data"
   ]
  },
  {
   "cell_type": "code",
   "execution_count": 255,
   "metadata": {},
   "outputs": [],
   "source": [
    "# Use the following endpoint to fetch json data\n",
    "#url = \"https://min-api.cryptocompare.com/data/all/coinlist\""
   ]
  },
  {
   "cell_type": "code",
   "execution_count": 256,
   "metadata": {},
   "outputs": [],
   "source": [
    "# Create a DataFrame \n",
    "# HINT: You will need to use the 'Data' key from the json response, then transpose the DataFrame."
   ]
  },
  {
   "cell_type": "code",
   "execution_count": 257,
   "metadata": {},
   "outputs": [
    {
     "data": {
      "text/html": [
       "<div>\n",
       "<style scoped>\n",
       "    .dataframe tbody tr th:only-of-type {\n",
       "        vertical-align: middle;\n",
       "    }\n",
       "\n",
       "    .dataframe tbody tr th {\n",
       "        vertical-align: top;\n",
       "    }\n",
       "\n",
       "    .dataframe thead th {\n",
       "        text-align: right;\n",
       "    }\n",
       "</style>\n",
       "<table border=\"1\" class=\"dataframe\">\n",
       "  <thead>\n",
       "    <tr style=\"text-align: right;\">\n",
       "      <th></th>\n",
       "      <th>CoinName</th>\n",
       "      <th>Algorithm</th>\n",
       "      <th>IsTrading</th>\n",
       "      <th>ProofType</th>\n",
       "      <th>TotalCoinsMined</th>\n",
       "      <th>TotalCoinSupply</th>\n",
       "    </tr>\n",
       "  </thead>\n",
       "  <tbody>\n",
       "    <tr>\n",
       "      <th>42</th>\n",
       "      <td>42 Coin</td>\n",
       "      <td>Scrypt</td>\n",
       "      <td>True</td>\n",
       "      <td>PoW/PoS</td>\n",
       "      <td>4.199995e+01</td>\n",
       "      <td>42</td>\n",
       "    </tr>\n",
       "    <tr>\n",
       "      <th>365</th>\n",
       "      <td>365Coin</td>\n",
       "      <td>X11</td>\n",
       "      <td>True</td>\n",
       "      <td>PoW/PoS</td>\n",
       "      <td>NaN</td>\n",
       "      <td>2300000000</td>\n",
       "    </tr>\n",
       "    <tr>\n",
       "      <th>404</th>\n",
       "      <td>404Coin</td>\n",
       "      <td>Scrypt</td>\n",
       "      <td>True</td>\n",
       "      <td>PoW/PoS</td>\n",
       "      <td>1.055185e+09</td>\n",
       "      <td>532000000</td>\n",
       "    </tr>\n",
       "    <tr>\n",
       "      <th>611</th>\n",
       "      <td>SixEleven</td>\n",
       "      <td>SHA-256</td>\n",
       "      <td>True</td>\n",
       "      <td>PoW</td>\n",
       "      <td>NaN</td>\n",
       "      <td>611000</td>\n",
       "    </tr>\n",
       "    <tr>\n",
       "      <th>808</th>\n",
       "      <td>808</td>\n",
       "      <td>SHA-256</td>\n",
       "      <td>True</td>\n",
       "      <td>PoW/PoS</td>\n",
       "      <td>0.000000e+00</td>\n",
       "      <td>0</td>\n",
       "    </tr>\n",
       "    <tr>\n",
       "      <th>...</th>\n",
       "      <td>...</td>\n",
       "      <td>...</td>\n",
       "      <td>...</td>\n",
       "      <td>...</td>\n",
       "      <td>...</td>\n",
       "      <td>...</td>\n",
       "    </tr>\n",
       "    <tr>\n",
       "      <th>XBC</th>\n",
       "      <td>BitcoinPlus</td>\n",
       "      <td>Scrypt</td>\n",
       "      <td>True</td>\n",
       "      <td>PoS</td>\n",
       "      <td>1.283270e+05</td>\n",
       "      <td>1000000</td>\n",
       "    </tr>\n",
       "    <tr>\n",
       "      <th>DVTC</th>\n",
       "      <td>DivotyCoin</td>\n",
       "      <td>Scrypt</td>\n",
       "      <td>False</td>\n",
       "      <td>PoW/PoS</td>\n",
       "      <td>2.149121e+07</td>\n",
       "      <td>100000000</td>\n",
       "    </tr>\n",
       "    <tr>\n",
       "      <th>GIOT</th>\n",
       "      <td>Giotto Coin</td>\n",
       "      <td>Scrypt</td>\n",
       "      <td>False</td>\n",
       "      <td>PoW/PoS</td>\n",
       "      <td>NaN</td>\n",
       "      <td>233100000</td>\n",
       "    </tr>\n",
       "    <tr>\n",
       "      <th>OPSC</th>\n",
       "      <td>OpenSourceCoin</td>\n",
       "      <td>SHA-256</td>\n",
       "      <td>False</td>\n",
       "      <td>PoW/PoS</td>\n",
       "      <td>NaN</td>\n",
       "      <td>21000000</td>\n",
       "    </tr>\n",
       "    <tr>\n",
       "      <th>PUNK</th>\n",
       "      <td>SteamPunk</td>\n",
       "      <td>PoS</td>\n",
       "      <td>False</td>\n",
       "      <td>PoS</td>\n",
       "      <td>NaN</td>\n",
       "      <td>40000000</td>\n",
       "    </tr>\n",
       "  </tbody>\n",
       "</table>\n",
       "<p>1252 rows × 6 columns</p>\n",
       "</div>"
      ],
      "text/plain": [
       "            CoinName Algorithm  IsTrading ProofType  TotalCoinsMined  \\\n",
       "42           42 Coin    Scrypt       True   PoW/PoS     4.199995e+01   \n",
       "365          365Coin       X11       True   PoW/PoS              NaN   \n",
       "404          404Coin    Scrypt       True   PoW/PoS     1.055185e+09   \n",
       "611        SixEleven   SHA-256       True       PoW              NaN   \n",
       "808              808   SHA-256       True   PoW/PoS     0.000000e+00   \n",
       "...              ...       ...        ...       ...              ...   \n",
       "XBC      BitcoinPlus    Scrypt       True       PoS     1.283270e+05   \n",
       "DVTC      DivotyCoin    Scrypt      False   PoW/PoS     2.149121e+07   \n",
       "GIOT     Giotto Coin    Scrypt      False   PoW/PoS              NaN   \n",
       "OPSC  OpenSourceCoin   SHA-256      False   PoW/PoS              NaN   \n",
       "PUNK       SteamPunk       PoS      False       PoS              NaN   \n",
       "\n",
       "     TotalCoinSupply  \n",
       "42                42  \n",
       "365       2300000000  \n",
       "404        532000000  \n",
       "611           611000  \n",
       "808                0  \n",
       "...              ...  \n",
       "XBC          1000000  \n",
       "DVTC       100000000  \n",
       "GIOT       233100000  \n",
       "OPSC        21000000  \n",
       "PUNK        40000000  \n",
       "\n",
       "[1252 rows x 6 columns]"
      ]
     },
     "execution_count": 257,
     "metadata": {},
     "output_type": "execute_result"
    }
   ],
   "source": [
    "# Alternatively, use the provided csv file:\n",
    "from pathlib import Path\n",
    "file_path = Path(\"Resources/crypto_data.csv\")\n",
    "\n",
    "# Create a DataFrame\n",
    "crypto_df = pd.read_csv(file_path, index_col=0)\n",
    "crypto_df"
   ]
  },
  {
   "cell_type": "markdown",
   "metadata": {},
   "source": [
    "### Data Preprocessing"
   ]
  },
  {
   "cell_type": "code",
   "execution_count": 258,
   "metadata": {},
   "outputs": [
    {
     "data": {
      "text/html": [
       "<div>\n",
       "<style scoped>\n",
       "    .dataframe tbody tr th:only-of-type {\n",
       "        vertical-align: middle;\n",
       "    }\n",
       "\n",
       "    .dataframe tbody tr th {\n",
       "        vertical-align: top;\n",
       "    }\n",
       "\n",
       "    .dataframe thead th {\n",
       "        text-align: right;\n",
       "    }\n",
       "</style>\n",
       "<table border=\"1\" class=\"dataframe\">\n",
       "  <thead>\n",
       "    <tr style=\"text-align: right;\">\n",
       "      <th></th>\n",
       "      <th>CoinName</th>\n",
       "      <th>Algorithm</th>\n",
       "      <th>IsTrading</th>\n",
       "      <th>ProofType</th>\n",
       "      <th>TotalCoinsMined</th>\n",
       "      <th>TotalCoinSupply</th>\n",
       "    </tr>\n",
       "  </thead>\n",
       "  <tbody>\n",
       "    <tr>\n",
       "      <th>42</th>\n",
       "      <td>42 Coin</td>\n",
       "      <td>Scrypt</td>\n",
       "      <td>True</td>\n",
       "      <td>PoW/PoS</td>\n",
       "      <td>4.199995e+01</td>\n",
       "      <td>42</td>\n",
       "    </tr>\n",
       "    <tr>\n",
       "      <th>365</th>\n",
       "      <td>365Coin</td>\n",
       "      <td>X11</td>\n",
       "      <td>True</td>\n",
       "      <td>PoW/PoS</td>\n",
       "      <td>NaN</td>\n",
       "      <td>2300000000</td>\n",
       "    </tr>\n",
       "    <tr>\n",
       "      <th>404</th>\n",
       "      <td>404Coin</td>\n",
       "      <td>Scrypt</td>\n",
       "      <td>True</td>\n",
       "      <td>PoW/PoS</td>\n",
       "      <td>1.055185e+09</td>\n",
       "      <td>532000000</td>\n",
       "    </tr>\n",
       "    <tr>\n",
       "      <th>611</th>\n",
       "      <td>SixEleven</td>\n",
       "      <td>SHA-256</td>\n",
       "      <td>True</td>\n",
       "      <td>PoW</td>\n",
       "      <td>NaN</td>\n",
       "      <td>611000</td>\n",
       "    </tr>\n",
       "    <tr>\n",
       "      <th>808</th>\n",
       "      <td>808</td>\n",
       "      <td>SHA-256</td>\n",
       "      <td>True</td>\n",
       "      <td>PoW/PoS</td>\n",
       "      <td>0.000000e+00</td>\n",
       "      <td>0</td>\n",
       "    </tr>\n",
       "    <tr>\n",
       "      <th>...</th>\n",
       "      <td>...</td>\n",
       "      <td>...</td>\n",
       "      <td>...</td>\n",
       "      <td>...</td>\n",
       "      <td>...</td>\n",
       "      <td>...</td>\n",
       "    </tr>\n",
       "    <tr>\n",
       "      <th>XBC</th>\n",
       "      <td>BitcoinPlus</td>\n",
       "      <td>Scrypt</td>\n",
       "      <td>True</td>\n",
       "      <td>PoS</td>\n",
       "      <td>1.283270e+05</td>\n",
       "      <td>1000000</td>\n",
       "    </tr>\n",
       "    <tr>\n",
       "      <th>DVTC</th>\n",
       "      <td>DivotyCoin</td>\n",
       "      <td>Scrypt</td>\n",
       "      <td>False</td>\n",
       "      <td>PoW/PoS</td>\n",
       "      <td>2.149121e+07</td>\n",
       "      <td>100000000</td>\n",
       "    </tr>\n",
       "    <tr>\n",
       "      <th>GIOT</th>\n",
       "      <td>Giotto Coin</td>\n",
       "      <td>Scrypt</td>\n",
       "      <td>False</td>\n",
       "      <td>PoW/PoS</td>\n",
       "      <td>NaN</td>\n",
       "      <td>233100000</td>\n",
       "    </tr>\n",
       "    <tr>\n",
       "      <th>OPSC</th>\n",
       "      <td>OpenSourceCoin</td>\n",
       "      <td>SHA-256</td>\n",
       "      <td>False</td>\n",
       "      <td>PoW/PoS</td>\n",
       "      <td>NaN</td>\n",
       "      <td>21000000</td>\n",
       "    </tr>\n",
       "    <tr>\n",
       "      <th>PUNK</th>\n",
       "      <td>SteamPunk</td>\n",
       "      <td>PoS</td>\n",
       "      <td>False</td>\n",
       "      <td>PoS</td>\n",
       "      <td>NaN</td>\n",
       "      <td>40000000</td>\n",
       "    </tr>\n",
       "  </tbody>\n",
       "</table>\n",
       "<p>1252 rows × 6 columns</p>\n",
       "</div>"
      ],
      "text/plain": [
       "            CoinName Algorithm  IsTrading ProofType  TotalCoinsMined  \\\n",
       "42           42 Coin    Scrypt       True   PoW/PoS     4.199995e+01   \n",
       "365          365Coin       X11       True   PoW/PoS              NaN   \n",
       "404          404Coin    Scrypt       True   PoW/PoS     1.055185e+09   \n",
       "611        SixEleven   SHA-256       True       PoW              NaN   \n",
       "808              808   SHA-256       True   PoW/PoS     0.000000e+00   \n",
       "...              ...       ...        ...       ...              ...   \n",
       "XBC      BitcoinPlus    Scrypt       True       PoS     1.283270e+05   \n",
       "DVTC      DivotyCoin    Scrypt      False   PoW/PoS     2.149121e+07   \n",
       "GIOT     Giotto Coin    Scrypt      False   PoW/PoS              NaN   \n",
       "OPSC  OpenSourceCoin   SHA-256      False   PoW/PoS              NaN   \n",
       "PUNK       SteamPunk       PoS      False       PoS              NaN   \n",
       "\n",
       "     TotalCoinSupply  \n",
       "42                42  \n",
       "365       2300000000  \n",
       "404        532000000  \n",
       "611           611000  \n",
       "808                0  \n",
       "...              ...  \n",
       "XBC          1000000  \n",
       "DVTC       100000000  \n",
       "GIOT       233100000  \n",
       "OPSC        21000000  \n",
       "PUNK        40000000  \n",
       "\n",
       "[1252 rows x 6 columns]"
      ]
     },
     "execution_count": 258,
     "metadata": {},
     "output_type": "execute_result"
    }
   ],
   "source": [
    "# Keep only necessary columns:\n",
    "# 'CoinName','Algorithm','IsTrading','ProofType','TotalCoinsMined','TotalCoinSupply'\n",
    "crypto_df_clean = crypto_df[['CoinName','Algorithm','IsTrading','ProofType','TotalCoinsMined','TotalCoinSupply']]\n",
    "crypto_df_clean"
   ]
  },
  {
   "cell_type": "code",
   "execution_count": 259,
   "metadata": {},
   "outputs": [
    {
     "data": {
      "text/html": [
       "<div>\n",
       "<style scoped>\n",
       "    .dataframe tbody tr th:only-of-type {\n",
       "        vertical-align: middle;\n",
       "    }\n",
       "\n",
       "    .dataframe tbody tr th {\n",
       "        vertical-align: top;\n",
       "    }\n",
       "\n",
       "    .dataframe thead th {\n",
       "        text-align: right;\n",
       "    }\n",
       "</style>\n",
       "<table border=\"1\" class=\"dataframe\">\n",
       "  <thead>\n",
       "    <tr style=\"text-align: right;\">\n",
       "      <th></th>\n",
       "      <th>CoinName</th>\n",
       "      <th>Algorithm</th>\n",
       "      <th>IsTrading</th>\n",
       "      <th>ProofType</th>\n",
       "      <th>TotalCoinsMined</th>\n",
       "      <th>TotalCoinSupply</th>\n",
       "    </tr>\n",
       "  </thead>\n",
       "  <tbody>\n",
       "    <tr>\n",
       "      <th>42</th>\n",
       "      <td>42 Coin</td>\n",
       "      <td>Scrypt</td>\n",
       "      <td>True</td>\n",
       "      <td>PoW/PoS</td>\n",
       "      <td>4.199995e+01</td>\n",
       "      <td>42</td>\n",
       "    </tr>\n",
       "    <tr>\n",
       "      <th>365</th>\n",
       "      <td>365Coin</td>\n",
       "      <td>X11</td>\n",
       "      <td>True</td>\n",
       "      <td>PoW/PoS</td>\n",
       "      <td>NaN</td>\n",
       "      <td>2300000000</td>\n",
       "    </tr>\n",
       "    <tr>\n",
       "      <th>404</th>\n",
       "      <td>404Coin</td>\n",
       "      <td>Scrypt</td>\n",
       "      <td>True</td>\n",
       "      <td>PoW/PoS</td>\n",
       "      <td>1.055185e+09</td>\n",
       "      <td>532000000</td>\n",
       "    </tr>\n",
       "    <tr>\n",
       "      <th>611</th>\n",
       "      <td>SixEleven</td>\n",
       "      <td>SHA-256</td>\n",
       "      <td>True</td>\n",
       "      <td>PoW</td>\n",
       "      <td>NaN</td>\n",
       "      <td>611000</td>\n",
       "    </tr>\n",
       "    <tr>\n",
       "      <th>808</th>\n",
       "      <td>808</td>\n",
       "      <td>SHA-256</td>\n",
       "      <td>True</td>\n",
       "      <td>PoW/PoS</td>\n",
       "      <td>0.000000e+00</td>\n",
       "      <td>0</td>\n",
       "    </tr>\n",
       "    <tr>\n",
       "      <th>...</th>\n",
       "      <td>...</td>\n",
       "      <td>...</td>\n",
       "      <td>...</td>\n",
       "      <td>...</td>\n",
       "      <td>...</td>\n",
       "      <td>...</td>\n",
       "    </tr>\n",
       "    <tr>\n",
       "      <th>SERO</th>\n",
       "      <td>Super Zero</td>\n",
       "      <td>Ethash</td>\n",
       "      <td>True</td>\n",
       "      <td>PoW</td>\n",
       "      <td>NaN</td>\n",
       "      <td>1000000000</td>\n",
       "    </tr>\n",
       "    <tr>\n",
       "      <th>UOS</th>\n",
       "      <td>UOS</td>\n",
       "      <td>SHA-256</td>\n",
       "      <td>True</td>\n",
       "      <td>DPoI</td>\n",
       "      <td>NaN</td>\n",
       "      <td>1000000000</td>\n",
       "    </tr>\n",
       "    <tr>\n",
       "      <th>BDX</th>\n",
       "      <td>Beldex</td>\n",
       "      <td>CryptoNight</td>\n",
       "      <td>True</td>\n",
       "      <td>PoW</td>\n",
       "      <td>9.802226e+08</td>\n",
       "      <td>1400222610</td>\n",
       "    </tr>\n",
       "    <tr>\n",
       "      <th>ZEN</th>\n",
       "      <td>Horizen</td>\n",
       "      <td>Equihash</td>\n",
       "      <td>True</td>\n",
       "      <td>PoW</td>\n",
       "      <td>7.296538e+06</td>\n",
       "      <td>21000000</td>\n",
       "    </tr>\n",
       "    <tr>\n",
       "      <th>XBC</th>\n",
       "      <td>BitcoinPlus</td>\n",
       "      <td>Scrypt</td>\n",
       "      <td>True</td>\n",
       "      <td>PoS</td>\n",
       "      <td>1.283270e+05</td>\n",
       "      <td>1000000</td>\n",
       "    </tr>\n",
       "  </tbody>\n",
       "</table>\n",
       "<p>1144 rows × 6 columns</p>\n",
       "</div>"
      ],
      "text/plain": [
       "         CoinName    Algorithm  IsTrading ProofType  TotalCoinsMined  \\\n",
       "42        42 Coin       Scrypt       True   PoW/PoS     4.199995e+01   \n",
       "365       365Coin          X11       True   PoW/PoS              NaN   \n",
       "404       404Coin       Scrypt       True   PoW/PoS     1.055185e+09   \n",
       "611     SixEleven      SHA-256       True       PoW              NaN   \n",
       "808           808      SHA-256       True   PoW/PoS     0.000000e+00   \n",
       "...           ...          ...        ...       ...              ...   \n",
       "SERO   Super Zero       Ethash       True       PoW              NaN   \n",
       "UOS           UOS      SHA-256       True      DPoI              NaN   \n",
       "BDX        Beldex  CryptoNight       True       PoW     9.802226e+08   \n",
       "ZEN       Horizen     Equihash       True       PoW     7.296538e+06   \n",
       "XBC   BitcoinPlus       Scrypt       True       PoS     1.283270e+05   \n",
       "\n",
       "     TotalCoinSupply  \n",
       "42                42  \n",
       "365       2300000000  \n",
       "404        532000000  \n",
       "611           611000  \n",
       "808                0  \n",
       "...              ...  \n",
       "SERO      1000000000  \n",
       "UOS       1000000000  \n",
       "BDX       1400222610  \n",
       "ZEN         21000000  \n",
       "XBC          1000000  \n",
       "\n",
       "[1144 rows x 6 columns]"
      ]
     },
     "execution_count": 259,
     "metadata": {},
     "output_type": "execute_result"
    }
   ],
   "source": [
    "# Keep only cryptocurrencies that are trading\n",
    "crypto_trading = crypto_df_clean[crypto_df_clean.IsTrading == True]\n",
    "crypto_trading"
   ]
  },
  {
   "cell_type": "code",
   "execution_count": 260,
   "metadata": {},
   "outputs": [],
   "source": [
    "# Keep only cryptocurrencies with a working algorithm\n",
    "crypto_trading = crypto_trading.loc[crypto_trading['Algorithm'] != 'N/A']"
   ]
  },
  {
   "cell_type": "code",
   "execution_count": 261,
   "metadata": {},
   "outputs": [],
   "source": [
    "# Remove the 'IsTrading' column\n",
    "crypto_trading = crypto_trading.drop(columns = 'IsTrading')"
   ]
  },
  {
   "cell_type": "code",
   "execution_count": 262,
   "metadata": {},
   "outputs": [
    {
     "data": {
      "text/plain": [
       "CoinName             0\n",
       "Algorithm            0\n",
       "ProofType            0\n",
       "TotalCoinsMined    459\n",
       "TotalCoinSupply      0\n",
       "dtype: int64"
      ]
     },
     "execution_count": 262,
     "metadata": {},
     "output_type": "execute_result"
    }
   ],
   "source": [
    "# get all columns that has null \n",
    "crypto_trading.isnull().sum()"
   ]
  },
  {
   "cell_type": "code",
   "execution_count": 263,
   "metadata": {},
   "outputs": [
    {
     "data": {
      "text/plain": [
       "CoinName           0\n",
       "Algorithm          0\n",
       "ProofType          0\n",
       "TotalCoinsMined    0\n",
       "TotalCoinSupply    0\n",
       "dtype: int64"
      ]
     },
     "execution_count": 263,
     "metadata": {},
     "output_type": "execute_result"
    }
   ],
   "source": [
    "# Remove rows with at least 1 null value\n",
    "crypto_trading = crypto_trading.dropna()\n",
    "crypto_trading.isnull().sum()"
   ]
  },
  {
   "cell_type": "code",
   "execution_count": 264,
   "metadata": {},
   "outputs": [
    {
     "data": {
      "text/html": [
       "<div>\n",
       "<style scoped>\n",
       "    .dataframe tbody tr th:only-of-type {\n",
       "        vertical-align: middle;\n",
       "    }\n",
       "\n",
       "    .dataframe tbody tr th {\n",
       "        vertical-align: top;\n",
       "    }\n",
       "\n",
       "    .dataframe thead th {\n",
       "        text-align: right;\n",
       "    }\n",
       "</style>\n",
       "<table border=\"1\" class=\"dataframe\">\n",
       "  <thead>\n",
       "    <tr style=\"text-align: right;\">\n",
       "      <th></th>\n",
       "      <th>CoinName</th>\n",
       "      <th>Algorithm</th>\n",
       "      <th>ProofType</th>\n",
       "      <th>TotalCoinsMined</th>\n",
       "      <th>TotalCoinSupply</th>\n",
       "    </tr>\n",
       "  </thead>\n",
       "  <tbody>\n",
       "    <tr>\n",
       "      <th>42</th>\n",
       "      <td>42 Coin</td>\n",
       "      <td>Scrypt</td>\n",
       "      <td>PoW/PoS</td>\n",
       "      <td>4.199995e+01</td>\n",
       "      <td>42</td>\n",
       "    </tr>\n",
       "    <tr>\n",
       "      <th>404</th>\n",
       "      <td>404Coin</td>\n",
       "      <td>Scrypt</td>\n",
       "      <td>PoW/PoS</td>\n",
       "      <td>1.055185e+09</td>\n",
       "      <td>532000000</td>\n",
       "    </tr>\n",
       "    <tr>\n",
       "      <th>1337</th>\n",
       "      <td>EliteCoin</td>\n",
       "      <td>X13</td>\n",
       "      <td>PoW/PoS</td>\n",
       "      <td>2.927942e+10</td>\n",
       "      <td>314159265359</td>\n",
       "    </tr>\n",
       "    <tr>\n",
       "      <th>BTC</th>\n",
       "      <td>Bitcoin</td>\n",
       "      <td>SHA-256</td>\n",
       "      <td>PoW</td>\n",
       "      <td>1.792718e+07</td>\n",
       "      <td>21000000</td>\n",
       "    </tr>\n",
       "    <tr>\n",
       "      <th>ETH</th>\n",
       "      <td>Ethereum</td>\n",
       "      <td>Ethash</td>\n",
       "      <td>PoW</td>\n",
       "      <td>1.076842e+08</td>\n",
       "      <td>0</td>\n",
       "    </tr>\n",
       "    <tr>\n",
       "      <th>...</th>\n",
       "      <td>...</td>\n",
       "      <td>...</td>\n",
       "      <td>...</td>\n",
       "      <td>...</td>\n",
       "      <td>...</td>\n",
       "    </tr>\n",
       "    <tr>\n",
       "      <th>ZEPH</th>\n",
       "      <td>ZEPHYR</td>\n",
       "      <td>SHA-256</td>\n",
       "      <td>DPoS</td>\n",
       "      <td>2.000000e+09</td>\n",
       "      <td>2000000000</td>\n",
       "    </tr>\n",
       "    <tr>\n",
       "      <th>GAP</th>\n",
       "      <td>Gapcoin</td>\n",
       "      <td>Scrypt</td>\n",
       "      <td>PoW/PoS</td>\n",
       "      <td>1.493105e+07</td>\n",
       "      <td>250000000</td>\n",
       "    </tr>\n",
       "    <tr>\n",
       "      <th>BDX</th>\n",
       "      <td>Beldex</td>\n",
       "      <td>CryptoNight</td>\n",
       "      <td>PoW</td>\n",
       "      <td>9.802226e+08</td>\n",
       "      <td>1400222610</td>\n",
       "    </tr>\n",
       "    <tr>\n",
       "      <th>ZEN</th>\n",
       "      <td>Horizen</td>\n",
       "      <td>Equihash</td>\n",
       "      <td>PoW</td>\n",
       "      <td>7.296538e+06</td>\n",
       "      <td>21000000</td>\n",
       "    </tr>\n",
       "    <tr>\n",
       "      <th>XBC</th>\n",
       "      <td>BitcoinPlus</td>\n",
       "      <td>Scrypt</td>\n",
       "      <td>PoS</td>\n",
       "      <td>1.283270e+05</td>\n",
       "      <td>1000000</td>\n",
       "    </tr>\n",
       "  </tbody>\n",
       "</table>\n",
       "<p>533 rows × 5 columns</p>\n",
       "</div>"
      ],
      "text/plain": [
       "         CoinName    Algorithm ProofType  TotalCoinsMined TotalCoinSupply\n",
       "42        42 Coin       Scrypt   PoW/PoS     4.199995e+01              42\n",
       "404       404Coin       Scrypt   PoW/PoS     1.055185e+09       532000000\n",
       "1337    EliteCoin          X13   PoW/PoS     2.927942e+10    314159265359\n",
       "BTC       Bitcoin      SHA-256       PoW     1.792718e+07        21000000\n",
       "ETH      Ethereum       Ethash       PoW     1.076842e+08               0\n",
       "...           ...          ...       ...              ...             ...\n",
       "ZEPH       ZEPHYR      SHA-256      DPoS     2.000000e+09      2000000000\n",
       "GAP       Gapcoin       Scrypt   PoW/PoS     1.493105e+07       250000000\n",
       "BDX        Beldex  CryptoNight       PoW     9.802226e+08      1400222610\n",
       "ZEN       Horizen     Equihash       PoW     7.296538e+06        21000000\n",
       "XBC   BitcoinPlus       Scrypt       PoS     1.283270e+05         1000000\n",
       "\n",
       "[533 rows x 5 columns]"
      ]
     },
     "execution_count": 264,
     "metadata": {},
     "output_type": "execute_result"
    }
   ],
   "source": [
    "# Remove rows with cryptocurrencies having no coins mined\n",
    "crypto_trading = crypto_trading.loc[crypto_trading['TotalCoinsMined'] != 0]\n",
    "crypto_trading"
   ]
  },
  {
   "cell_type": "code",
   "execution_count": 265,
   "metadata": {},
   "outputs": [],
   "source": [
    "# Drop rows where there are 'N/A' text values\n",
    "crypto_trading = crypto_trading.dropna()"
   ]
  },
  {
   "cell_type": "code",
   "execution_count": 266,
   "metadata": {},
   "outputs": [
    {
     "data": {
      "text/html": [
       "<div>\n",
       "<style scoped>\n",
       "    .dataframe tbody tr th:only-of-type {\n",
       "        vertical-align: middle;\n",
       "    }\n",
       "\n",
       "    .dataframe tbody tr th {\n",
       "        vertical-align: top;\n",
       "    }\n",
       "\n",
       "    .dataframe thead th {\n",
       "        text-align: right;\n",
       "    }\n",
       "</style>\n",
       "<table border=\"1\" class=\"dataframe\">\n",
       "  <thead>\n",
       "    <tr style=\"text-align: right;\">\n",
       "      <th></th>\n",
       "      <th>CoinName</th>\n",
       "    </tr>\n",
       "  </thead>\n",
       "  <tbody>\n",
       "    <tr>\n",
       "      <th>42</th>\n",
       "      <td>42 Coin</td>\n",
       "    </tr>\n",
       "    <tr>\n",
       "      <th>404</th>\n",
       "      <td>404Coin</td>\n",
       "    </tr>\n",
       "    <tr>\n",
       "      <th>1337</th>\n",
       "      <td>EliteCoin</td>\n",
       "    </tr>\n",
       "    <tr>\n",
       "      <th>BTC</th>\n",
       "      <td>Bitcoin</td>\n",
       "    </tr>\n",
       "    <tr>\n",
       "      <th>ETH</th>\n",
       "      <td>Ethereum</td>\n",
       "    </tr>\n",
       "  </tbody>\n",
       "</table>\n",
       "</div>"
      ],
      "text/plain": [
       "       CoinName\n",
       "42      42 Coin\n",
       "404     404Coin\n",
       "1337  EliteCoin\n",
       "BTC     Bitcoin\n",
       "ETH    Ethereum"
      ]
     },
     "execution_count": 266,
     "metadata": {},
     "output_type": "execute_result"
    }
   ],
   "source": [
    "# Store the 'CoinName'column in its own DataFrame prior to dropping it from crypto_df \n",
    "coinname = pd.DataFrame(crypto_trading[\"CoinName\"])\n",
    "coinname.head()"
   ]
  },
  {
   "cell_type": "code",
   "execution_count": 267,
   "metadata": {},
   "outputs": [
    {
     "data": {
      "text/html": [
       "<div>\n",
       "<style scoped>\n",
       "    .dataframe tbody tr th:only-of-type {\n",
       "        vertical-align: middle;\n",
       "    }\n",
       "\n",
       "    .dataframe tbody tr th {\n",
       "        vertical-align: top;\n",
       "    }\n",
       "\n",
       "    .dataframe thead th {\n",
       "        text-align: right;\n",
       "    }\n",
       "</style>\n",
       "<table border=\"1\" class=\"dataframe\">\n",
       "  <thead>\n",
       "    <tr style=\"text-align: right;\">\n",
       "      <th></th>\n",
       "      <th>Algorithm</th>\n",
       "      <th>ProofType</th>\n",
       "      <th>TotalCoinsMined</th>\n",
       "      <th>TotalCoinSupply</th>\n",
       "    </tr>\n",
       "  </thead>\n",
       "  <tbody>\n",
       "    <tr>\n",
       "      <th>42</th>\n",
       "      <td>Scrypt</td>\n",
       "      <td>PoW/PoS</td>\n",
       "      <td>4.199995e+01</td>\n",
       "      <td>42</td>\n",
       "    </tr>\n",
       "    <tr>\n",
       "      <th>404</th>\n",
       "      <td>Scrypt</td>\n",
       "      <td>PoW/PoS</td>\n",
       "      <td>1.055185e+09</td>\n",
       "      <td>532000000</td>\n",
       "    </tr>\n",
       "    <tr>\n",
       "      <th>1337</th>\n",
       "      <td>X13</td>\n",
       "      <td>PoW/PoS</td>\n",
       "      <td>2.927942e+10</td>\n",
       "      <td>314159265359</td>\n",
       "    </tr>\n",
       "    <tr>\n",
       "      <th>BTC</th>\n",
       "      <td>SHA-256</td>\n",
       "      <td>PoW</td>\n",
       "      <td>1.792718e+07</td>\n",
       "      <td>21000000</td>\n",
       "    </tr>\n",
       "    <tr>\n",
       "      <th>ETH</th>\n",
       "      <td>Ethash</td>\n",
       "      <td>PoW</td>\n",
       "      <td>1.076842e+08</td>\n",
       "      <td>0</td>\n",
       "    </tr>\n",
       "    <tr>\n",
       "      <th>...</th>\n",
       "      <td>...</td>\n",
       "      <td>...</td>\n",
       "      <td>...</td>\n",
       "      <td>...</td>\n",
       "    </tr>\n",
       "    <tr>\n",
       "      <th>ZEPH</th>\n",
       "      <td>SHA-256</td>\n",
       "      <td>DPoS</td>\n",
       "      <td>2.000000e+09</td>\n",
       "      <td>2000000000</td>\n",
       "    </tr>\n",
       "    <tr>\n",
       "      <th>GAP</th>\n",
       "      <td>Scrypt</td>\n",
       "      <td>PoW/PoS</td>\n",
       "      <td>1.493105e+07</td>\n",
       "      <td>250000000</td>\n",
       "    </tr>\n",
       "    <tr>\n",
       "      <th>BDX</th>\n",
       "      <td>CryptoNight</td>\n",
       "      <td>PoW</td>\n",
       "      <td>9.802226e+08</td>\n",
       "      <td>1400222610</td>\n",
       "    </tr>\n",
       "    <tr>\n",
       "      <th>ZEN</th>\n",
       "      <td>Equihash</td>\n",
       "      <td>PoW</td>\n",
       "      <td>7.296538e+06</td>\n",
       "      <td>21000000</td>\n",
       "    </tr>\n",
       "    <tr>\n",
       "      <th>XBC</th>\n",
       "      <td>Scrypt</td>\n",
       "      <td>PoS</td>\n",
       "      <td>1.283270e+05</td>\n",
       "      <td>1000000</td>\n",
       "    </tr>\n",
       "  </tbody>\n",
       "</table>\n",
       "<p>533 rows × 4 columns</p>\n",
       "</div>"
      ],
      "text/plain": [
       "        Algorithm ProofType  TotalCoinsMined TotalCoinSupply\n",
       "42         Scrypt   PoW/PoS     4.199995e+01              42\n",
       "404        Scrypt   PoW/PoS     1.055185e+09       532000000\n",
       "1337          X13   PoW/PoS     2.927942e+10    314159265359\n",
       "BTC       SHA-256       PoW     1.792718e+07        21000000\n",
       "ETH        Ethash       PoW     1.076842e+08               0\n",
       "...           ...       ...              ...             ...\n",
       "ZEPH      SHA-256      DPoS     2.000000e+09      2000000000\n",
       "GAP        Scrypt   PoW/PoS     1.493105e+07       250000000\n",
       "BDX   CryptoNight       PoW     9.802226e+08      1400222610\n",
       "ZEN      Equihash       PoW     7.296538e+06        21000000\n",
       "XBC        Scrypt       PoS     1.283270e+05         1000000\n",
       "\n",
       "[533 rows x 4 columns]"
      ]
     },
     "execution_count": 267,
     "metadata": {},
     "output_type": "execute_result"
    }
   ],
   "source": [
    "# Drop the 'CoinName' column since it's not going to be used on the clustering algorithm\n",
    "crypto_trading = crypto_trading.drop(columns = ['CoinName'])\n",
    "crypto_trading"
   ]
  },
  {
   "cell_type": "code",
   "execution_count": 268,
   "metadata": {},
   "outputs": [
    {
     "data": {
      "text/html": [
       "<div>\n",
       "<style scoped>\n",
       "    .dataframe tbody tr th:only-of-type {\n",
       "        vertical-align: middle;\n",
       "    }\n",
       "\n",
       "    .dataframe tbody tr th {\n",
       "        vertical-align: top;\n",
       "    }\n",
       "\n",
       "    .dataframe thead th {\n",
       "        text-align: right;\n",
       "    }\n",
       "</style>\n",
       "<table border=\"1\" class=\"dataframe\">\n",
       "  <thead>\n",
       "    <tr style=\"text-align: right;\">\n",
       "      <th></th>\n",
       "      <th>TotalCoinsMined</th>\n",
       "      <th>TotalCoinSupply</th>\n",
       "      <th>DPOS</th>\n",
       "      <th>DPoC</th>\n",
       "      <th>DPoS</th>\n",
       "      <th>HPoW</th>\n",
       "      <th>LPoS</th>\n",
       "      <th>POBh</th>\n",
       "      <th>PoA</th>\n",
       "      <th>PoC</th>\n",
       "      <th>...</th>\n",
       "      <th>Tribus</th>\n",
       "      <th>VBFT</th>\n",
       "      <th>VeChainThor Authority</th>\n",
       "      <th>X11</th>\n",
       "      <th>X11GOST</th>\n",
       "      <th>X13</th>\n",
       "      <th>X14</th>\n",
       "      <th>X15</th>\n",
       "      <th>X16R</th>\n",
       "      <th>XEVAN</th>\n",
       "    </tr>\n",
       "  </thead>\n",
       "  <tbody>\n",
       "    <tr>\n",
       "      <th>1337</th>\n",
       "      <td>2.927942e+10</td>\n",
       "      <td>314159265359</td>\n",
       "      <td>0</td>\n",
       "      <td>0</td>\n",
       "      <td>0</td>\n",
       "      <td>0</td>\n",
       "      <td>0</td>\n",
       "      <td>0</td>\n",
       "      <td>0</td>\n",
       "      <td>0</td>\n",
       "      <td>...</td>\n",
       "      <td>0</td>\n",
       "      <td>0</td>\n",
       "      <td>0</td>\n",
       "      <td>0</td>\n",
       "      <td>0</td>\n",
       "      <td>1</td>\n",
       "      <td>0</td>\n",
       "      <td>0</td>\n",
       "      <td>0</td>\n",
       "      <td>0</td>\n",
       "    </tr>\n",
       "    <tr>\n",
       "      <th>1CR</th>\n",
       "      <td>8.821300e+04</td>\n",
       "      <td>92000000000</td>\n",
       "      <td>0</td>\n",
       "      <td>0</td>\n",
       "      <td>0</td>\n",
       "      <td>0</td>\n",
       "      <td>0</td>\n",
       "      <td>0</td>\n",
       "      <td>0</td>\n",
       "      <td>0</td>\n",
       "      <td>...</td>\n",
       "      <td>0</td>\n",
       "      <td>0</td>\n",
       "      <td>0</td>\n",
       "      <td>0</td>\n",
       "      <td>0</td>\n",
       "      <td>0</td>\n",
       "      <td>0</td>\n",
       "      <td>0</td>\n",
       "      <td>0</td>\n",
       "      <td>0</td>\n",
       "    </tr>\n",
       "    <tr>\n",
       "      <th>404</th>\n",
       "      <td>1.055185e+09</td>\n",
       "      <td>532000000</td>\n",
       "      <td>0</td>\n",
       "      <td>0</td>\n",
       "      <td>0</td>\n",
       "      <td>0</td>\n",
       "      <td>0</td>\n",
       "      <td>0</td>\n",
       "      <td>0</td>\n",
       "      <td>0</td>\n",
       "      <td>...</td>\n",
       "      <td>0</td>\n",
       "      <td>0</td>\n",
       "      <td>0</td>\n",
       "      <td>0</td>\n",
       "      <td>0</td>\n",
       "      <td>0</td>\n",
       "      <td>0</td>\n",
       "      <td>0</td>\n",
       "      <td>0</td>\n",
       "      <td>0</td>\n",
       "    </tr>\n",
       "    <tr>\n",
       "      <th>42</th>\n",
       "      <td>4.199995e+01</td>\n",
       "      <td>42</td>\n",
       "      <td>0</td>\n",
       "      <td>0</td>\n",
       "      <td>0</td>\n",
       "      <td>0</td>\n",
       "      <td>0</td>\n",
       "      <td>0</td>\n",
       "      <td>0</td>\n",
       "      <td>0</td>\n",
       "      <td>...</td>\n",
       "      <td>0</td>\n",
       "      <td>0</td>\n",
       "      <td>0</td>\n",
       "      <td>0</td>\n",
       "      <td>0</td>\n",
       "      <td>0</td>\n",
       "      <td>0</td>\n",
       "      <td>0</td>\n",
       "      <td>0</td>\n",
       "      <td>0</td>\n",
       "    </tr>\n",
       "    <tr>\n",
       "      <th>8BIT</th>\n",
       "      <td>1.467841e+06</td>\n",
       "      <td>0</td>\n",
       "      <td>0</td>\n",
       "      <td>0</td>\n",
       "      <td>0</td>\n",
       "      <td>0</td>\n",
       "      <td>0</td>\n",
       "      <td>0</td>\n",
       "      <td>0</td>\n",
       "      <td>0</td>\n",
       "      <td>...</td>\n",
       "      <td>0</td>\n",
       "      <td>0</td>\n",
       "      <td>0</td>\n",
       "      <td>0</td>\n",
       "      <td>0</td>\n",
       "      <td>0</td>\n",
       "      <td>0</td>\n",
       "      <td>0</td>\n",
       "      <td>0</td>\n",
       "      <td>0</td>\n",
       "    </tr>\n",
       "  </tbody>\n",
       "</table>\n",
       "<p>5 rows × 100 columns</p>\n",
       "</div>"
      ],
      "text/plain": [
       "      TotalCoinsMined TotalCoinSupply  DPOS  DPoC  DPoS  HPoW  LPoS  POBh  \\\n",
       "1337     2.927942e+10    314159265359     0     0     0     0     0     0   \n",
       "1CR      8.821300e+04     92000000000     0     0     0     0     0     0   \n",
       "404      1.055185e+09       532000000     0     0     0     0     0     0   \n",
       "42       4.199995e+01              42     0     0     0     0     0     0   \n",
       "8BIT     1.467841e+06               0     0     0     0     0     0     0   \n",
       "\n",
       "      PoA  PoC  ...  Tribus  VBFT  VeChainThor Authority  X11  X11GOST  X13  \\\n",
       "1337    0    0  ...       0     0                      0    0        0    1   \n",
       "1CR     0    0  ...       0     0                      0    0        0    0   \n",
       "404     0    0  ...       0     0                      0    0        0    0   \n",
       "42      0    0  ...       0     0                      0    0        0    0   \n",
       "8BIT    0    0  ...       0     0                      0    0        0    0   \n",
       "\n",
       "      X14  X15  X16R  XEVAN  \n",
       "1337    0    0     0      0  \n",
       "1CR     0    0     0      0  \n",
       "404     0    0     0      0  \n",
       "42      0    0     0      0  \n",
       "8BIT    0    0     0      0  \n",
       "\n",
       "[5 rows x 100 columns]"
      ]
     },
     "execution_count": 268,
     "metadata": {},
     "output_type": "execute_result"
    }
   ],
   "source": [
    "# Create dummy variables for text features\n",
    "dummies_algo = pd.get_dummies(crypto_trading['Algorithm'])\n",
    "dummies_proof = pd.get_dummies(crypto_trading['ProofType'])\n",
    "\n",
    "crypto_dummy = crypto_trading.drop(columns=['Algorithm','ProofType'])\n",
    "X = pd.concat([crypto_dummy, dummies_proof,dummies_algo], axis=1,sort=True)\n",
    "X.head()"
   ]
  },
  {
   "cell_type": "code",
   "execution_count": 269,
   "metadata": {},
   "outputs": [
    {
     "data": {
      "text/plain": [
       "array([[ 0.52587231,  4.4937636 , -0.0433555 , ..., -0.08695652,\n",
       "        -0.08695652, -0.10670145],\n",
       "       [-0.11674595,  1.20787762, -0.0433555 , ..., -0.08695652,\n",
       "        -0.08695652, -0.10670145],\n",
       "       [-0.09358885, -0.14499604, -0.0433555 , ..., -0.08695652,\n",
       "        -0.08695652, -0.10670145],\n",
       "       ...,\n",
       "       [-0.11508831, -0.14916701, -0.0433555 , ..., -0.08695652,\n",
       "        -0.08695652, -0.10670145],\n",
       "       [-0.11634084, -0.15255408, -0.0433555 , ..., -0.08695652,\n",
       "        -0.08695652, -0.10670145],\n",
       "       [-0.11661084, -0.15272068, -0.0433555 , ..., -0.08695652,\n",
       "        -0.08695652, -0.10670145]])"
      ]
     },
     "execution_count": 269,
     "metadata": {},
     "output_type": "execute_result"
    }
   ],
   "source": [
    "# Standardize data\n",
    "X_standard = StandardScaler().fit_transform(X)\n",
    "X_standard"
   ]
  },
  {
   "cell_type": "markdown",
   "metadata": {},
   "source": [
    "### Reducing Dimensions Using PCA"
   ]
  },
  {
   "cell_type": "code",
   "execution_count": 270,
   "metadata": {},
   "outputs": [
    {
     "data": {
      "text/plain": [
       "array([[ 2.30226943,  1.75513503, -0.84115088],\n",
       "       [ 0.49075869, -1.20050359,  0.03386372],\n",
       "       [-0.31470568,  1.01462125, -0.66696755],\n",
       "       ...,\n",
       "       [-0.15899371, -1.16323486,  0.04106011],\n",
       "       [-0.14550956, -2.17300024,  0.46956598],\n",
       "       [-0.15510677, -1.27084592,  0.20032631]])"
      ]
     },
     "execution_count": 270,
     "metadata": {},
     "output_type": "execute_result"
    }
   ],
   "source": [
    "# Use PCA to reduce dimensions to 3 principal components\n",
    "pca = PCA(n_components=3)\n",
    "pc = pca.fit_transform(crypto_standard)\n",
    "crypto_pca"
   ]
  },
  {
   "cell_type": "code",
   "execution_count": 271,
   "metadata": {},
   "outputs": [
    {
     "data": {
      "text/html": [
       "<div>\n",
       "<style scoped>\n",
       "    .dataframe tbody tr th:only-of-type {\n",
       "        vertical-align: middle;\n",
       "    }\n",
       "\n",
       "    .dataframe tbody tr th {\n",
       "        vertical-align: top;\n",
       "    }\n",
       "\n",
       "    .dataframe thead th {\n",
       "        text-align: right;\n",
       "    }\n",
       "</style>\n",
       "<table border=\"1\" class=\"dataframe\">\n",
       "  <thead>\n",
       "    <tr style=\"text-align: right;\">\n",
       "      <th></th>\n",
       "      <th>PC 1</th>\n",
       "      <th>PC 2</th>\n",
       "      <th>PC 3</th>\n",
       "    </tr>\n",
       "  </thead>\n",
       "  <tbody>\n",
       "    <tr>\n",
       "      <th>42</th>\n",
       "      <td>2.302269</td>\n",
       "      <td>1.755135</td>\n",
       "      <td>-0.841151</td>\n",
       "    </tr>\n",
       "    <tr>\n",
       "      <th>404</th>\n",
       "      <td>0.490759</td>\n",
       "      <td>-1.200504</td>\n",
       "      <td>0.033864</td>\n",
       "    </tr>\n",
       "    <tr>\n",
       "      <th>1337</th>\n",
       "      <td>-0.314706</td>\n",
       "      <td>1.014621</td>\n",
       "      <td>-0.666968</td>\n",
       "    </tr>\n",
       "    <tr>\n",
       "      <th>BTC</th>\n",
       "      <td>-0.331393</td>\n",
       "      <td>1.014314</td>\n",
       "      <td>-0.666517</td>\n",
       "    </tr>\n",
       "    <tr>\n",
       "      <th>ETH</th>\n",
       "      <td>-0.331375</td>\n",
       "      <td>1.014315</td>\n",
       "      <td>-0.666518</td>\n",
       "    </tr>\n",
       "  </tbody>\n",
       "</table>\n",
       "</div>"
      ],
      "text/plain": [
       "          PC 1      PC 2      PC 3\n",
       "42    2.302269  1.755135 -0.841151\n",
       "404   0.490759 -1.200504  0.033864\n",
       "1337 -0.314706  1.014621 -0.666968\n",
       "BTC  -0.331393  1.014314 -0.666517\n",
       "ETH  -0.331375  1.014315 -0.666518"
      ]
     },
     "execution_count": 271,
     "metadata": {},
     "output_type": "execute_result"
    }
   ],
   "source": [
    "# Create a DataFrame with the principal components data\n",
    "pcs_df = pd.DataFrame(data = crypto_pca, columns=['PC 1','PC 2','PC 3'])\n",
    "\n",
    "# re-index the datafram to match the original index\n",
    "pcs_df.index = crypto_trading.index\n",
    "\n",
    "pcs_df.head()\n"
   ]
  },
  {
   "cell_type": "markdown",
   "metadata": {},
   "source": [
    "### Clustering Crytocurrencies Using K-Means\n",
    "\n",
    "#### Finding the Best Value for `k` Using the Elbow Curve"
   ]
  },
  {
   "cell_type": "code",
   "execution_count": 272,
   "metadata": {},
   "outputs": [
    {
     "name": "stderr",
     "output_type": "stream",
     "text": [
      "C:\\Users\\vince\\anaconda3\\envs\\alpacaenv\\lib\\site-packages\\sklearn\\cluster\\_kmeans.py:882: UserWarning:\n",
      "\n",
      "KMeans is known to have a memory leak on Windows with MKL, when there are less chunks than available threads. You can avoid it by setting the environment variable OMP_NUM_THREADS=3.\n",
      "\n"
     ]
    },
    {
     "data": {},
     "metadata": {},
     "output_type": "display_data"
    },
    {
     "data": {
      "application/vnd.holoviews_exec.v0+json": "",
      "text/html": [
       "<div id='3277'>\n",
       "\n",
       "\n",
       "\n",
       "\n",
       "\n",
       "  <div class=\"bk-root\" id=\"2e3e73aa-f120-4f8b-9be9-b869bf4c4fa2\" data-root-id=\"3277\"></div>\n",
       "</div>\n",
       "<script type=\"application/javascript\">(function(root) {\n",
       "  function embed_document(root) {\n",
       "    var docs_json = {\"bf205753-cee2-44a4-bdcf-6961eaec6e55\":{\"defs\":[{\"extends\":null,\"module\":null,\"name\":\"ReactiveHTML1\",\"overrides\":[],\"properties\":[]},{\"extends\":null,\"module\":null,\"name\":\"FlexBox1\",\"overrides\":[],\"properties\":[{\"default\":\"flex-start\",\"kind\":null,\"name\":\"align_content\"},{\"default\":\"flex-start\",\"kind\":null,\"name\":\"align_items\"},{\"default\":\"row\",\"kind\":null,\"name\":\"flex_direction\"},{\"default\":\"wrap\",\"kind\":null,\"name\":\"flex_wrap\"},{\"default\":\"flex-start\",\"kind\":null,\"name\":\"justify_content\"}]},{\"extends\":null,\"module\":null,\"name\":\"TemplateActions1\",\"overrides\":[],\"properties\":[{\"default\":0,\"kind\":null,\"name\":\"open_modal\"},{\"default\":0,\"kind\":null,\"name\":\"close_modal\"}]},{\"extends\":null,\"module\":null,\"name\":\"MaterialTemplateActions1\",\"overrides\":[],\"properties\":[{\"default\":0,\"kind\":null,\"name\":\"open_modal\"},{\"default\":0,\"kind\":null,\"name\":\"close_modal\"}]}],\"roots\":{\"references\":[{\"attributes\":{\"axis\":{\"id\":\"3291\"},\"grid_line_color\":null,\"ticker\":null},\"id\":\"3294\",\"type\":\"Grid\"},{\"attributes\":{},\"id\":\"3337\",\"type\":\"UnionRenderers\"},{\"attributes\":{\"axis_label\":\"inertia\",\"formatter\":{\"id\":\"3328\"},\"major_label_policy\":{\"id\":\"3327\"},\"ticker\":{\"id\":\"3296\"}},\"id\":\"3295\",\"type\":\"LinearAxis\"},{\"attributes\":{\"margin\":[5,5,5,5],\"name\":\"HSpacer05134\",\"sizing_mode\":\"stretch_width\"},\"id\":\"3278\",\"type\":\"Spacer\"},{\"attributes\":{},\"id\":\"3327\",\"type\":\"AllLabels\"},{\"attributes\":{\"below\":[{\"id\":\"3291\"}],\"center\":[{\"id\":\"3294\"},{\"id\":\"3298\"}],\"height\":300,\"left\":[{\"id\":\"3295\"}],\"margin\":[5,5,5,5],\"min_border_bottom\":10,\"min_border_left\":10,\"min_border_right\":10,\"min_border_top\":10,\"renderers\":[{\"id\":\"3318\"}],\"sizing_mode\":\"fixed\",\"title\":{\"id\":\"3283\"},\"toolbar\":{\"id\":\"3305\"},\"width\":700,\"x_range\":{\"id\":\"3279\"},\"x_scale\":{\"id\":\"3287\"},\"y_range\":{\"id\":\"3280\"},\"y_scale\":{\"id\":\"3289\"}},\"id\":\"3282\",\"subtype\":\"Figure\",\"type\":\"Plot\"},{\"attributes\":{\"children\":[{\"id\":\"3278\"},{\"id\":\"3282\"},{\"id\":\"3348\"}],\"margin\":[0,0,0,0],\"name\":\"Row05130\",\"tags\":[\"embedded\"]},\"id\":\"3277\",\"type\":\"Row\"},{\"attributes\":{\"active_multi\":null,\"tools\":[{\"id\":\"3281\"},{\"id\":\"3299\"},{\"id\":\"3300\"},{\"id\":\"3301\"},{\"id\":\"3302\"},{\"id\":\"3303\"}]},\"id\":\"3305\",\"type\":\"Toolbar\"},{\"attributes\":{},\"id\":\"3296\",\"type\":\"BasicTicker\"},{\"attributes\":{\"axis\":{\"id\":\"3295\"},\"dimension\":1,\"grid_line_color\":null,\"ticker\":null},\"id\":\"3298\",\"type\":\"Grid\"},{\"attributes\":{\"end\":3998.9332870444605,\"reset_end\":3998.9332870444605,\"reset_start\":-232.35234913567987,\"start\":-232.35234913567987,\"tags\":[[[\"inertia\",\"inertia\",null]]]},\"id\":\"3280\",\"type\":\"Range1d\"},{\"attributes\":{},\"id\":\"3313\",\"type\":\"Selection\"},{\"attributes\":{\"source\":{\"id\":\"3312\"}},\"id\":\"3319\",\"type\":\"CDSView\"},{\"attributes\":{\"bottom_units\":\"screen\",\"fill_alpha\":0.5,\"fill_color\":\"lightgrey\",\"left_units\":\"screen\",\"level\":\"overlay\",\"line_alpha\":1.0,\"line_color\":\"black\",\"line_dash\":[4,4],\"line_width\":2,\"right_units\":\"screen\",\"syncable\":false,\"top_units\":\"screen\"},\"id\":\"3304\",\"type\":\"BoxAnnotation\"},{\"attributes\":{\"ticks\":[1,2,3,4,5,6,7,8,9,10]},\"id\":\"3321\",\"type\":\"FixedTicker\"},{\"attributes\":{\"end\":10.0,\"reset_end\":10.0,\"reset_start\":1.0,\"start\":1.0,\"tags\":[[[\"k\",\"k\",null]]]},\"id\":\"3279\",\"type\":\"Range1d\"},{\"attributes\":{\"data_source\":{\"id\":\"3312\"},\"glyph\":{\"id\":\"3315\"},\"hover_glyph\":null,\"muted_glyph\":{\"id\":\"3317\"},\"nonselection_glyph\":{\"id\":\"3316\"},\"selection_glyph\":{\"id\":\"3320\"},\"view\":{\"id\":\"3319\"}},\"id\":\"3318\",\"type\":\"GlyphRenderer\"},{\"attributes\":{\"line_alpha\":0.1,\"line_color\":\"#30a2da\",\"line_width\":2,\"x\":{\"field\":\"k\"},\"y\":{\"field\":\"inertia\"}},\"id\":\"3316\",\"type\":\"Line\"},{\"attributes\":{\"line_alpha\":0.2,\"line_color\":\"#30a2da\",\"line_width\":2,\"x\":{\"field\":\"k\"},\"y\":{\"field\":\"inertia\"}},\"id\":\"3317\",\"type\":\"Line\"},{\"attributes\":{},\"id\":\"3322\",\"type\":\"AllLabels\"},{\"attributes\":{\"line_color\":\"#30a2da\",\"line_width\":2,\"x\":{\"field\":\"k\"},\"y\":{\"field\":\"inertia\"}},\"id\":\"3320\",\"type\":\"Line\"},{\"attributes\":{},\"id\":\"3299\",\"type\":\"SaveTool\"},{\"attributes\":{\"margin\":[5,5,5,5],\"name\":\"HSpacer05135\",\"sizing_mode\":\"stretch_width\"},\"id\":\"3348\",\"type\":\"Spacer\"},{\"attributes\":{},\"id\":\"3300\",\"type\":\"PanTool\"},{\"attributes\":{},\"id\":\"3323\",\"type\":\"BasicTickFormatter\"},{\"attributes\":{},\"id\":\"3303\",\"type\":\"ResetTool\"},{\"attributes\":{\"data\":{\"inertia\":{\"__ndarray__\":\"xFo5/aZ8rECC3+3HgFejQOPeEbu6ZZdA8LIMP5Jhf0DIQaLvv6dzQI1I1ZnKem9A1inDUNmAakBY1gHLCUllQL798BO/52FAfnUGb04QXkA=\",\"dtype\":\"float64\",\"order\":\"little\",\"shape\":[10]},\"k\":[1,2,3,4,5,6,7,8,9,10]},\"selected\":{\"id\":\"3313\"},\"selection_policy\":{\"id\":\"3337\"}},\"id\":\"3312\",\"type\":\"ColumnDataSource\"},{\"attributes\":{},\"id\":\"3287\",\"type\":\"LinearScale\"},{\"attributes\":{},\"id\":\"3301\",\"type\":\"WheelZoomTool\"},{\"attributes\":{\"overlay\":{\"id\":\"3304\"}},\"id\":\"3302\",\"type\":\"BoxZoomTool\"},{\"attributes\":{\"text\":\"Elbow Curve\",\"text_color\":\"black\",\"text_font_size\":\"12pt\"},\"id\":\"3283\",\"type\":\"Title\"},{\"attributes\":{},\"id\":\"3328\",\"type\":\"BasicTickFormatter\"},{\"attributes\":{},\"id\":\"3289\",\"type\":\"LinearScale\"},{\"attributes\":{\"callback\":null,\"renderers\":[{\"id\":\"3318\"}],\"tags\":[\"hv_created\"],\"tooltips\":[[\"k\",\"@{k}\"],[\"inertia\",\"@{inertia}\"]]},\"id\":\"3281\",\"type\":\"HoverTool\"},{\"attributes\":{\"axis_label\":\"k\",\"formatter\":{\"id\":\"3323\"},\"major_label_policy\":{\"id\":\"3322\"},\"ticker\":{\"id\":\"3321\"}},\"id\":\"3291\",\"type\":\"LinearAxis\"},{\"attributes\":{\"line_color\":\"#30a2da\",\"line_width\":2,\"x\":{\"field\":\"k\"},\"y\":{\"field\":\"inertia\"}},\"id\":\"3315\",\"type\":\"Line\"}],\"root_ids\":[\"3277\"]},\"title\":\"Bokeh Application\",\"version\":\"2.3.2\"}};\n",
       "    var render_items = [{\"docid\":\"bf205753-cee2-44a4-bdcf-6961eaec6e55\",\"root_ids\":[\"3277\"],\"roots\":{\"3277\":\"2e3e73aa-f120-4f8b-9be9-b869bf4c4fa2\"}}];\n",
       "    root.Bokeh.embed.embed_items_notebook(docs_json, render_items);\n",
       "  }\n",
       "  if (root.Bokeh !== undefined && root.Bokeh.Panel !== undefined) {\n",
       "    embed_document(root);\n",
       "  } else {\n",
       "    var attempts = 0;\n",
       "    var timer = setInterval(function(root) {\n",
       "      if (root.Bokeh !== undefined && root.Bokeh.Panel !== undefined) {\n",
       "        clearInterval(timer);\n",
       "        embed_document(root);\n",
       "      } else if (document.readyState == \"complete\") {\n",
       "        attempts++;\n",
       "        if (attempts > 200) {\n",
       "          clearInterval(timer);\n",
       "          console.log(\"Bokeh: ERROR: Unable to run BokehJS code because BokehJS library is missing\");\n",
       "        }\n",
       "      }\n",
       "    }, 25, root)\n",
       "  }\n",
       "})(window);</script>"
      ],
      "text/plain": [
       ":Curve   [k]   (inertia)"
      ]
     },
     "execution_count": 272,
     "metadata": {
      "application/vnd.holoviews_exec.v0+json": {
       "id": "3277"
      }
     },
     "output_type": "execute_result"
    }
   ],
   "source": [
    "inertia = []\n",
    "k = list(range(1, 11))\n",
    "\n",
    "# Calculate the inertia for the range of k values\n",
    "for i in k:\n",
    "    km = KMeans(n_clusters=i, random_state=0)\n",
    "    km.fit(pcs_df)\n",
    "    inertia.append(km.inertia_)\n",
    "\n",
    "# Create the Elbow Curve using hvPlot\n",
    "elbow_data = {\"k\": k, \"inertia\": inertia}\n",
    "df_elbow = pd.DataFrame(elbow_data)\n",
    "df_elbow.hvplot.line(x=\"k\", y=\"inertia\", xticks=k, title=\"Elbow Curve\")"
   ]
  },
  {
   "cell_type": "markdown",
   "metadata": {},
   "source": [
    "Running K-Means with `k=<your best value for k here>`"
   ]
  },
  {
   "cell_type": "code",
   "execution_count": 273,
   "metadata": {},
   "outputs": [
    {
     "data": {
      "text/html": [
       "<div>\n",
       "<style scoped>\n",
       "    .dataframe tbody tr th:only-of-type {\n",
       "        vertical-align: middle;\n",
       "    }\n",
       "\n",
       "    .dataframe tbody tr th {\n",
       "        vertical-align: top;\n",
       "    }\n",
       "\n",
       "    .dataframe thead th {\n",
       "        text-align: right;\n",
       "    }\n",
       "</style>\n",
       "<table border=\"1\" class=\"dataframe\">\n",
       "  <thead>\n",
       "    <tr style=\"text-align: right;\">\n",
       "      <th></th>\n",
       "      <th>Algorithm</th>\n",
       "      <th>ProofType</th>\n",
       "      <th>TotalCoinsMined</th>\n",
       "      <th>TotalCoinSupply</th>\n",
       "      <th>PC 1</th>\n",
       "      <th>PC 2</th>\n",
       "      <th>PC 3</th>\n",
       "      <th>CoinName</th>\n",
       "      <th>Class</th>\n",
       "    </tr>\n",
       "  </thead>\n",
       "  <tbody>\n",
       "    <tr>\n",
       "      <th>42</th>\n",
       "      <td>Scrypt</td>\n",
       "      <td>PoW/PoS</td>\n",
       "      <td>4.199995e+01</td>\n",
       "      <td>42</td>\n",
       "      <td>2.302269</td>\n",
       "      <td>1.755135</td>\n",
       "      <td>-0.841151</td>\n",
       "      <td>42 Coin</td>\n",
       "      <td>0</td>\n",
       "    </tr>\n",
       "    <tr>\n",
       "      <th>404</th>\n",
       "      <td>Scrypt</td>\n",
       "      <td>PoW/PoS</td>\n",
       "      <td>1.055185e+09</td>\n",
       "      <td>532000000</td>\n",
       "      <td>0.490759</td>\n",
       "      <td>-1.200504</td>\n",
       "      <td>0.033864</td>\n",
       "      <td>404Coin</td>\n",
       "      <td>1</td>\n",
       "    </tr>\n",
       "    <tr>\n",
       "      <th>1337</th>\n",
       "      <td>X13</td>\n",
       "      <td>PoW/PoS</td>\n",
       "      <td>2.927942e+10</td>\n",
       "      <td>314159265359</td>\n",
       "      <td>-0.314706</td>\n",
       "      <td>1.014621</td>\n",
       "      <td>-0.666968</td>\n",
       "      <td>EliteCoin</td>\n",
       "      <td>0</td>\n",
       "    </tr>\n",
       "    <tr>\n",
       "      <th>BTC</th>\n",
       "      <td>SHA-256</td>\n",
       "      <td>PoW</td>\n",
       "      <td>1.792718e+07</td>\n",
       "      <td>21000000</td>\n",
       "      <td>-0.331393</td>\n",
       "      <td>1.014314</td>\n",
       "      <td>-0.666517</td>\n",
       "      <td>Bitcoin</td>\n",
       "      <td>0</td>\n",
       "    </tr>\n",
       "    <tr>\n",
       "      <th>ETH</th>\n",
       "      <td>Ethash</td>\n",
       "      <td>PoW</td>\n",
       "      <td>1.076842e+08</td>\n",
       "      <td>0</td>\n",
       "      <td>-0.331375</td>\n",
       "      <td>1.014315</td>\n",
       "      <td>-0.666518</td>\n",
       "      <td>Ethereum</td>\n",
       "      <td>0</td>\n",
       "    </tr>\n",
       "  </tbody>\n",
       "</table>\n",
       "</div>"
      ],
      "text/plain": [
       "     Algorithm ProofType  TotalCoinsMined TotalCoinSupply      PC 1      PC 2  \\\n",
       "42      Scrypt   PoW/PoS     4.199995e+01              42  2.302269  1.755135   \n",
       "404     Scrypt   PoW/PoS     1.055185e+09       532000000  0.490759 -1.200504   \n",
       "1337       X13   PoW/PoS     2.927942e+10    314159265359 -0.314706  1.014621   \n",
       "BTC    SHA-256       PoW     1.792718e+07        21000000 -0.331393  1.014314   \n",
       "ETH     Ethash       PoW     1.076842e+08               0 -0.331375  1.014315   \n",
       "\n",
       "          PC 3   CoinName  Class  \n",
       "42   -0.841151    42 Coin      0  \n",
       "404   0.033864    404Coin      1  \n",
       "1337 -0.666968  EliteCoin      0  \n",
       "BTC  -0.666517    Bitcoin      0  \n",
       "ETH  -0.666518   Ethereum      0  "
      ]
     },
     "execution_count": 273,
     "metadata": {},
     "output_type": "execute_result"
    }
   ],
   "source": [
    "# Initialize the K-Means model\n",
    "k_model = KMeans(n_clusters = 4, random_state = 0)\n",
    "# Fit the model\n",
    "k_model.fit(pcs_df)\n",
    "# Predict clusters\n",
    "predictions = k_model.predict(pcs_df)\n",
    "# Create a new DataFrame including predicted clusters and cryptocurrencies features\n",
    "clustered_df = pd.DataFrame({\n",
    "    \"Algorithm\":crypto_trading.Algorithm,\n",
    "    \"ProofType\": crypto_trading.ProofType,\n",
    "    \"TotalCoinsMined\": crypto_trading.TotalCoinsMined,\n",
    "    \"TotalCoinSupply\": crypto_trading.TotalCoinSupply,\n",
    "    \"PC 1\": pcs_df['PC 1'],\n",
    "    \"PC 2\": pcs_df['PC 2'],\n",
    "    \"PC 3\": pcs_df['PC 3'],\n",
    "    \"CoinName\": coinname.CoinName,\n",
    "    \"Class\": k_model.labels_},\n",
    "    index=crypto_trading.index)\n",
    "\n",
    "clustered_df.head()\n"
   ]
  },
  {
   "cell_type": "markdown",
   "metadata": {},
   "source": [
    "### Visualizing Results\n",
    "\n",
    "#### 3D-Scatter with Clusters"
   ]
  },
  {
   "cell_type": "code",
   "execution_count": 274,
   "metadata": {},
   "outputs": [
    {
     "data": {
      "application/vnd.plotly.v1+json": {
       "config": {
        "plotlyServerURL": "https://plot.ly"
       },
       "data": [
        {
         "customdata": [
          [
           "Scrypt"
          ],
          [
           "X13"
          ],
          [
           "SHA-256"
          ],
          [
           "Ethash"
          ],
          [
           "X11"
          ],
          [
           "CryptoNight-V7"
          ],
          [
           "SHA-256"
          ],
          [
           "Scrypt"
          ],
          [
           "Scrypt"
          ],
          [
           "Multiple"
          ],
          [
           "Scrypt"
          ],
          [
           "Scrypt"
          ],
          [
           "Scrypt"
          ],
          [
           "Scrypt"
          ],
          [
           "Quark"
          ],
          [
           "Scrypt"
          ],
          [
           "Scrypt"
          ],
          [
           "X11"
          ],
          [
           "Scrypt"
          ],
          [
           "Groestl"
          ],
          [
           "Scrypt"
          ],
          [
           "Scrypt"
          ],
          [
           "Scrypt"
          ],
          [
           "NeoScrypt"
          ],
          [
           "Scrypt"
          ],
          [
           "Scrypt"
          ],
          [
           "Scrypt"
          ],
          [
           "SHA-256"
          ],
          [
           "Scrypt"
          ],
          [
           "Scrypt"
          ],
          [
           "Scrypt"
          ],
          [
           "Scrypt"
          ],
          [
           "SHA-256"
          ],
          [
           "Scrypt"
          ],
          [
           "Scrypt"
          ],
          [
           "NeoScrypt"
          ],
          [
           "Scrypt"
          ],
          [
           "Scrypt"
          ],
          [
           "Scrypt"
          ],
          [
           "Scrypt"
          ],
          [
           "X11"
          ],
          [
           "SHA-256"
          ],
          [
           "Multiple"
          ],
          [
           "SHA-256"
          ],
          [
           "X11"
          ],
          [
           "X11"
          ],
          [
           "Scrypt"
          ],
          [
           "Scrypt"
          ],
          [
           "Scrypt"
          ],
          [
           "X11"
          ],
          [
           "SHA-256"
          ],
          [
           "Scrypt"
          ],
          [
           "CryptoNight"
          ],
          [
           "CryptoNight"
          ],
          [
           "Shabal256"
          ],
          [
           "Groestl"
          ],
          [
           "Scrypt"
          ],
          [
           "Scrypt"
          ],
          [
           "Scrypt"
          ],
          [
           "X13"
          ],
          [
           "Stanford Folding"
          ],
          [
           "Multiple"
          ],
          [
           "Scrypt"
          ],
          [
           "Scrypt"
          ],
          [
           "Scrypt"
          ],
          [
           "M7 POW"
          ],
          [
           "X11"
          ],
          [
           "SHA3"
          ],
          [
           "Lyra2RE"
          ],
          [
           "SHA-256"
          ],
          [
           "X11"
          ],
          [
           "Scrypt"
          ],
          [
           "SHA-256"
          ],
          [
           "X15"
          ],
          [
           "SHA-256"
          ],
          [
           "SHA-256"
          ],
          [
           "X11"
          ],
          [
           "Scrypt"
          ],
          [
           "SHA-256"
          ],
          [
           "Scrypt"
          ],
          [
           "Scrypt"
          ],
          [
           "X11"
          ],
          [
           "Scrypt"
          ],
          [
           "X11GOST"
          ],
          [
           "SHA-256"
          ],
          [
           "Scrypt"
          ],
          [
           "PoS"
          ],
          [
           "Scrypt"
          ],
          [
           "SHA-256"
          ],
          [
           "NIST5"
          ],
          [
           "Scrypt"
          ],
          [
           "Scrypt"
          ],
          [
           "Equihash"
          ],
          [
           "X11"
          ],
          [
           "Scrypt"
          ],
          [
           "SHA-256"
          ],
          [
           "X11"
          ],
          [
           "Multiple"
          ],
          [
           "Scrypt"
          ],
          [
           "Scrypt"
          ],
          [
           "Scrypt"
          ],
          [
           "SHA-256D"
          ],
          [
           "PoS"
          ],
          [
           "X13"
          ],
          [
           "SHA-256D"
          ],
          [
           "Equihash"
          ],
          [
           "DPoS"
          ],
          [
           "X11"
          ],
          [
           "X13"
          ],
          [
           "X11"
          ],
          [
           "PoS"
          ],
          [
           "Scrypt"
          ],
          [
           "X11"
          ],
          [
           "PoS"
          ],
          [
           "SHA-256"
          ],
          [
           "Scrypt"
          ],
          [
           "Scrypt"
          ],
          [
           "X11"
          ],
          [
           "CryptoNight"
          ],
          [
           "Scrypt"
          ],
          [
           "Scrypt"
          ],
          [
           "Quark"
          ],
          [
           "QuBit"
          ],
          [
           "CryptoNight"
          ],
          [
           "X11"
          ],
          [
           "X11"
          ],
          [
           "CryptoNight-V7"
          ],
          [
           "Scrypt"
          ],
          [
           "Scrypt"
          ],
          [
           "X11"
          ],
          [
           "Scrypt"
          ],
          [
           "Scrypt"
          ],
          [
           "Blake2S"
          ],
          [
           "X11"
          ],
          [
           "Scrypt"
          ],
          [
           "X11"
          ],
          [
           "NIST5"
          ],
          [
           "PoS"
          ],
          [
           "Scrypt"
          ],
          [
           "SHA-256"
          ],
          [
           "Scrypt"
          ],
          [
           "Scrypt"
          ],
          [
           "X15"
          ],
          [
           "Scrypt"
          ],
          [
           "POS 3.0"
          ],
          [
           "CryptoNight-V7"
          ],
          [
           "Argon2d"
          ],
          [
           "Blake2b"
          ],
          [
           "Cloverhash"
          ],
          [
           "CryptoNight"
          ],
          [
           "Skein"
          ],
          [
           "X13"
          ],
          [
           "X11"
          ],
          [
           "X11"
          ],
          [
           "X13"
          ],
          [
           "Time Travel"
          ],
          [
           "SkunkHash v2 Raptor"
          ],
          [
           "X11"
          ],
          [
           "SHA-256"
          ],
          [
           "X11"
          ],
          [
           "Scrypt"
          ],
          [
           "Scrypt"
          ],
          [
           "PoS"
          ],
          [
           "Scrypt"
          ],
          [
           "Scrypt"
          ],
          [
           "Scrypt"
          ],
          [
           "SHA-512"
          ],
          [
           "Ouroboros"
          ],
          [
           "X11"
          ],
          [
           "Equihash"
          ],
          [
           "NeoScrypt"
          ],
          [
           "NeoScrypt"
          ],
          [
           "Lyra2REv2"
          ],
          [
           "Equihash"
          ],
          [
           "Scrypt"
          ],
          [
           "PHI1612"
          ],
          [
           "Dagger"
          ],
          [
           "Quark"
          ],
          [
           "Scrypt"
          ],
          [
           "Scrypt"
          ],
          [
           "SHA-256"
          ],
          [
           "Ethash"
          ],
          [
           "NeoScrypt"
          ],
          [
           "NIST5"
          ],
          [
           "X13"
          ],
          [
           "Multiple"
          ],
          [
           "Scrypt"
          ],
          [
           "Ethash"
          ],
          [
           "CryptoNight-V7"
          ],
          [
           "Scrypt"
          ],
          [
           "Scrypt"
          ],
          [
           "BLAKE256"
          ],
          [
           "X11"
          ],
          [
           "NeoScrypt"
          ],
          [
           "Scrypt"
          ],
          [
           "Scrypt"
          ],
          [
           "Scrypt"
          ],
          [
           "C11"
          ],
          [
           "POS 3.0"
          ],
          [
           "Ethash"
          ],
          [
           "Scrypt"
          ],
          [
           "CryptoNight"
          ],
          [
           "Dagger"
          ],
          [
           "Lyra2REv2"
          ],
          [
           "X13"
          ],
          [
           "Proof-of-BibleHash"
          ],
          [
           "Scrypt"
          ],
          [
           "Scrypt"
          ],
          [
           "X11"
          ],
          [
           "Proof-of-Authority"
          ],
          [
           "X11"
          ],
          [
           "XEVAN"
          ],
          [
           "VBFT"
          ],
          [
           "Scrypt"
          ],
          [
           "Scrypt"
          ],
          [
           "Scrypt"
          ],
          [
           "Lyra2Z"
          ],
          [
           "Green Protocol"
          ],
          [
           "PoS"
          ],
          [
           "XEVAN"
          ],
          [
           "Lyra2Z"
          ],
          [
           "CryptoNight Heavy"
          ],
          [
           "CryptoNight"
          ],
          [
           "Jump Consistent Hash"
          ],
          [
           "SHA-256D"
          ],
          [
           "Scrypt"
          ],
          [
           "Scrypt"
          ],
          [
           "Quark"
          ],
          [
           "SHA-256"
          ],
          [
           "DPoS"
          ],
          [
           "X16R"
          ],
          [
           "HMQ1725"
          ],
          [
           "X16R"
          ],
          [
           "Quark"
          ],
          [
           "Quark"
          ],
          [
           "Scrypt"
          ],
          [
           "Lyra2REv2"
          ],
          [
           "Scrypt"
          ],
          [
           "CryptoNight-V7"
          ],
          [
           "Cryptonight-GPU"
          ],
          [
           "CryptoNight Heavy"
          ],
          [
           "X11"
          ],
          [
           "X11"
          ],
          [
           "PoS"
          ],
          [
           "SHA-256"
          ],
          [
           "ECC 256K1"
          ],
          [
           "SHA-256"
          ],
          [
           "XEVAN"
          ],
          [
           "X11"
          ],
          [
           "CryptoNight"
          ],
          [
           "Blake"
          ],
          [
           "Equihash"
          ],
          [
           "Exosis"
          ],
          [
           "Equihash"
          ],
          [
           "Equihash"
          ],
          [
           "Scrypt"
          ],
          [
           "QuBit"
          ],
          [
           "X11"
          ],
          [
           "SHA-256"
          ],
          [
           "X13"
          ],
          [
           "SHA-256"
          ],
          [
           "X11"
          ],
          [
           "X11"
          ],
          [
           "NeoScrypt"
          ],
          [
           "Scrypt"
          ],
          [
           "Scrypt"
          ],
          [
           "SHA-256"
          ],
          [
           "Scrypt"
          ],
          [
           "X11"
          ],
          [
           "Scrypt"
          ],
          [
           "Scrypt"
          ],
          [
           "Scrypt"
          ],
          [
           "X11"
          ],
          [
           "Scrypt"
          ],
          [
           "PoS"
          ],
          [
           "Scrypt"
          ],
          [
           "SHA-256"
          ],
          [
           "DPoS"
          ],
          [
           "Scrypt"
          ],
          [
           "SHA3-256"
          ],
          [
           "Multiple"
          ],
          [
           "DPoS"
          ],
          [
           "Ethash"
          ],
          [
           "Leased POS"
          ],
          [
           "TRC10"
          ],
          [
           "Scrypt"
          ]
         ],
         "hovertemplate": "<b>%{hovertext}</b><br><br>Class=%{marker.color}<br>PC 1=%{x}<br>PC 2=%{y}<br>PC 3=%{z}<br>Algorithm=%{customdata[0]}<extra></extra>",
         "hovertext": [
          "42 Coin",
          "EliteCoin",
          "Bitcoin",
          "Ethereum",
          "Dash",
          "Monero",
          "PayCoin",
          "ProsperCoin",
          "Aurora Coin",
          "MyriadCoin",
          "MoonCoin",
          "SexCoin",
          "Quatloo",
          "EnergyCoin",
          "QuarkCoin",
          "Digitalcoin ",
          "BitBar",
          "CryptCoin",
          "CasinoCoin",
          "Diamond",
          "Einsteinium",
          "FlutterCoin",
          "Franko",
          "FeatherCoin",
          "GoldCoin",
          "HoboNickels",
          "Infinite Coin",
          "IXcoin",
          "KrugerCoin",
          "Litebar ",
          "MegaCoin",
          "MintCoin",
          "MazaCoin",
          "Nautilus Coin",
          "NobleCoin",
          "Orbitcoin",
          "PotCoin",
          "RonPaulCoin",
          "StableCoin",
          "SmartCoin",
          "SyncCoin",
          "SysCoin",
          "TeslaCoin",
          "TigerCoin",
          "TorCoin",
          "UroCoin",
          "UltraCoin",
          "VeriCoin",
          "WorldCoin",
          "X11 Coin",
          "JouleCoin",
          "ZCC Coin",
          "ByteCoin",
          "DigitalNote ",
          "BurstCoin",
          "FairCoin",
          "Gulden",
          "RubyCoin",
          "8BIT Coin",
          "Sativa Coin",
          "Folding Coin",
          "Unitus",
          "OmniCron",
          "Vtorrent",
          "GreenCoin",
          "Cryptonite",
          "IslaCoin",
          "Nexus",
          "Crypto",
          "Anarchists Prime",
          "Squall Coin",
          "Song Coin",
          "Emercoin",
          "EverGreenCoin",
          "I0coin",
          "EDRCoin",
          "Hitcoin",
          "Gamecredits",
          "DubaiCoin",
          "BillaryCoin",
          "GPU Coin",
          "Adzcoin",
          "YoCoin",
          "SibCoin",
          "SwingCoin",
          "SafeExchangeCoin",
          "Nebuchadnezzar",
          "Francs",
          "Revenu",
          "VIP Tokens",
          "PutinCoin",
          "Frankywillcoin",
          "Komodo",
          "GoldBlocks",
          "CarterCoin",
          "ZayedCoin",
          "MustangCoin",
          "Circuits of Value",
          "RootCoin",
          "Swiscoin",
          "Shilling",
          "BuzzCoin",
          "CoffeeCoin",
          "RoyalCoin",
          "LanaCoin",
          "ZClassic",
          "ARK",
          "InsaneCoin",
          "EmberCoin",
          "XenixCoin",
          "FreeCoin",
          "PLNCoin",
          "Kurrent",
          "Creatio",
          "Eurocoin",
          "BitcoinFast",
          "MoneyCoin",
          "Enigma",
          "Cannabis Industry Coin",
          "GameUnits",
          "GAKHcoin",
          "Allsafe",
          "LiteCreed",
          "Bikercoins",
          "KushCoin",
          "PacCoin",
          "Citadel",
          "Zilbercoin",
          "FirstCoin",
          "VaultCoin",
          "OpenChat",
          "Canada eCoin",
          "TajCoin",
          "Impact",
          "EB3coin",
          "HappyCoin",
          "Coinonat",
          "MacronCoin",
          "Independent Money System",
          "ProCurrency",
          "GrowthCoin",
          "Degas Coin",
          "HTML5 Coin",
          "EquiTrader",
          "QTUM",
          "Quantum Resistant Ledger",
          "Dynamic",
          "Nano",
          "ChanCoin",
          "Dinastycoin",
          "Bitcoin Planet",
          "BritCoin",
          "ArcticCoin",
          "DAS",
          "DeepOnion",
          "Bitcore",
          "Signatum",
          "Onix",
          "Bitcoin Cash",
          "Monoeci",
          "Draftcoin",
          "Sojourn Coin",
          "Stakecoin",
          "Kronecoin",
          "AdCoin",
          "Linx",
          "Obsidian",
          "Cardano",
          "Regalcoin",
          "BitcoinZ",
          "TrezarCoin",
          "VIVO Coin",
          "Rupee",
          "Bitcoin Gold",
          "WomenCoin",
          "LUXCoin",
          "Pirl",
          "Bitcloud 2.0",
          "eBoost",
          "BlackholeCoin",
          "Infinity Economics",
          "Ellaism",
          "GoByte",
          "Electra",
          "Bitcoin Diamond",
          "SHIELD",
          "Cash & Back Coin",
          "DaxxCoin",
          "Lethean",
          "GermanCoin",
          "LiteCoin Ultra",
          "Photon",
          "Sucre",
          "GunCoin",
          "IrishCoin",
          "Trollcoin",
          "Litecoin Plus",
          "Interzone",
          "TokenPay",
          "1717 Masonic Commemorative Token",
          "My Big Coin",
          "Niobio Cash",
          "Travelflex",
          "KREDS",
          "Tokyo Coin",
          "BiblePay",
          "BitFlip",
          "LottoCoin",
          "Crypto Improvement Fund",
          "Poa Network",
          "Pushi",
          "Ellerium",
          "Ontology",
          "Poseidon",
          "Briacoin",
          "Ignition",
          "Alpenschillling",
          "Bitcoin Green",
          "Deviant Coin",
          "Bitcoin Incognito",
          "GINcoin",
          "Loki",
          "Newton Coin",
          "MassGrid",
          "TheVig",
          "EmaratCoin",
          "Lynx",
          "Poseidon Quark",
          "BitcoinWSpectrum",
          "Muse",
          "Motion",
          "PlusOneCoin",
          "Trivechain",
          "Dystem",
          "Giant",
          "Peony Coin",
          "Absolute Coin",
          "TPCash",
          "Webchain",
          "Ryo",
          "Qwertycoin",
          "ARENON",
          "EUNO",
          "Ketan",
          "Project Pai",
          "Acute Angle Cloud",
          "Bitcoin SV",
          "BitMoney",
          "Junson Ming Chan Coin",
          "FREDEnergy",
          "Lithium",
          "PirateCash",
          "Exosis",
          "Beam",
          "Bithereum",
          "Credit",
          "SLICE",
          "Dash Platinum",
          "BLAST",
          "Bitcoin Rhodium",
          "GlobalToken",
          "Insane Coin",
          "TruckCoin",
          "UFO Coin",
          "OrangeCoin",
          "BitstarCoin",
          "NeosCoin",
          "HyperCoin",
          "PinkCoin",
          "Crypto Escudo",
          "AudioCoin",
          "Genstake",
          "CapriCoin",
          " ClubCoin",
          "Radium",
          "Bata",
          "OKCash",
          "Lisk",
          "HiCoin",
          "Fiii",
          "JoinCoin",
          "EOS",
          "Reality Clash",
          "Waves",
          "BitTorrent",
          "Gapcoin"
         ],
         "legendgroup": "0",
         "marker": {
          "color": [
           0,
           0,
           0,
           0,
           0,
           0,
           0,
           0,
           0,
           0,
           0,
           0,
           0,
           0,
           0,
           0,
           0,
           0,
           0,
           0,
           0,
           0,
           0,
           0,
           0,
           0,
           0,
           0,
           0,
           0,
           0,
           0,
           0,
           0,
           0,
           0,
           0,
           0,
           0,
           0,
           0,
           0,
           0,
           0,
           0,
           0,
           0,
           0,
           0,
           0,
           0,
           0,
           0,
           0,
           0,
           0,
           0,
           0,
           0,
           0,
           0,
           0,
           0,
           0,
           0,
           0,
           0,
           0,
           0,
           0,
           0,
           0,
           0,
           0,
           0,
           0,
           0,
           0,
           0,
           0,
           0,
           0,
           0,
           0,
           0,
           0,
           0,
           0,
           0,
           0,
           0,
           0,
           0,
           0,
           0,
           0,
           0,
           0,
           0,
           0,
           0,
           0,
           0,
           0,
           0,
           0,
           0,
           0,
           0,
           0,
           0,
           0,
           0,
           0,
           0,
           0,
           0,
           0,
           0,
           0,
           0,
           0,
           0,
           0,
           0,
           0,
           0,
           0,
           0,
           0,
           0,
           0,
           0,
           0,
           0,
           0,
           0,
           0,
           0,
           0,
           0,
           0,
           0,
           0,
           0,
           0,
           0,
           0,
           0,
           0,
           0,
           0,
           0,
           0,
           0,
           0,
           0,
           0,
           0,
           0,
           0,
           0,
           0,
           0,
           0,
           0,
           0,
           0,
           0,
           0,
           0,
           0,
           0,
           0,
           0,
           0,
           0,
           0,
           0,
           0,
           0,
           0,
           0,
           0,
           0,
           0,
           0,
           0,
           0,
           0,
           0,
           0,
           0,
           0,
           0,
           0,
           0,
           0,
           0,
           0,
           0,
           0,
           0,
           0,
           0,
           0,
           0,
           0,
           0,
           0,
           0,
           0,
           0,
           0,
           0,
           0,
           0,
           0,
           0,
           0,
           0,
           0,
           0,
           0,
           0,
           0,
           0,
           0,
           0,
           0,
           0,
           0,
           0,
           0,
           0,
           0,
           0,
           0,
           0,
           0,
           0,
           0,
           0,
           0,
           0,
           0,
           0,
           0,
           0,
           0,
           0,
           0,
           0,
           0,
           0,
           0,
           0,
           0,
           0,
           0,
           0,
           0,
           0,
           0,
           0,
           0,
           0,
           0,
           0,
           0,
           0,
           0,
           0,
           0,
           0,
           0,
           0,
           0,
           0,
           0,
           0,
           0,
           0,
           0,
           0,
           0
          ],
          "coloraxis": "coloraxis",
          "symbol": "circle"
         },
         "mode": "markers",
         "name": "0",
         "scene": "scene",
         "showlegend": true,
         "type": "scatter3d",
         "x": [
          2.3022694344395154,
          -0.3147056816763041,
          -0.33139288701728803,
          -0.33137492301129684,
          -0.3310592056072247,
          -0.36423244268521165,
          0.6445808645180559,
          -0.2449253899875608,
          3.7347994355317486,
          -0.3310650501130744,
          -0.3460673927109588,
          -0.3311760067969699,
          3.7176794100974684,
          -0.35023125874257355,
          -0.32213707343691805,
          -0.3310520132323375,
          -0.39068778844880714,
          -0.33105869987640013,
          -0.28031291565327726,
          -0.3309110915578744,
          -0.34356117376750595,
          -0.3682517872615965,
          0.4183488982526586,
          -0.3307562769092211,
          -0.3310877514638133,
          -0.3309848952656735,
          -0.32361597286112187,
          -0.33136126258409176,
          -0.28357541074450177,
          -0.39257084429014694,
          -0.3524293243291797,
          -0.33138882077907866,
          -0.32478120822575024,
          -0.2821553724785464,
          -0.39583392507499393,
          -0.4150059626500864,
          -0.388214263123741,
          -0.3019424172576373,
          -0.14647416978904174,
          0.03924674270228889,
          -0.30543216737019985,
          -0.2763726056709914,
          -0.3247967869554961,
          -0.39449953736515286,
          -0.3313730782979782,
          -0.3221756088026253,
          -0.3120621029735,
          -0.32102584929953987,
          -0.32898997072552677,
          -0.3285453598401149,
          -0.28341185570095717,
          -0.3899155009736461,
          -0.3562264720546366,
          0.5763511238112037,
          -0.41450994973891636,
          0.6157364080743498,
          -0.35034786614125185,
          -0.3302263218262301,
          -0.39358853656815734,
          -0.34654481429786416,
          -0.324815765052121,
          -0.07349405582229593,
          -0.33038683548581704,
          -0.27788340455609933,
          -0.3233875894751809,
          -0.28387922090252354,
          -0.2822980012733194,
          -0.2038079054377446,
          -0.3634708022984244,
          -0.3528306935557997,
          -0.45197662873853256,
          -0.3502307530888785,
          0.20737817586550908,
          -0.32475206939219753,
          -0.2516265250045537,
          -0.34911124603743254,
          -0.33053281983718324,
          0.8503220261979273,
          -0.3173341519891384,
          -0.32988672959353904,
          -0.39335529590545387,
          3.7279590338313935,
          -0.39100444823932556,
          0.5537717051975813,
          -0.33131169853278897,
          -0.32465920076111965,
          -0.393123892417447,
          -0.3242099044897697,
          -0.3628912719017727,
          -0.23660588014296235,
          -0.24159710660662004,
          -0.3233128788155321,
          -0.28701619439817655,
          -0.3294598093436144,
          -0.33430652496195434,
          -0.33132879102539703,
          -0.3972696261469492,
          -0.32943718643035513,
          -0.3933100130737407,
          -0.33055217375766516,
          0.08331091338242824,
          -0.3975191925023916,
          -0.39507688172608746,
          -0.28216801269410063,
          -0.26643524473292907,
          -0.37997793953536685,
          -0.32944933380025004,
          -0.39681302752998326,
          -0.39288250796868185,
          -0.07098333181698852,
          0.8839107186858265,
          -0.2835729614743595,
          -0.32614997592445494,
          -0.3312750121506213,
          -0.33102308530058927,
          -0.33134296029903526,
          -0.33123356824945516,
          -0.33117674469643704,
          -0.39172098901216257,
          -0.3934178386915978,
          -0.39335134272768707,
          -0.39348304156131814,
          -0.32477315785246397,
          -0.3938365644929585,
          -0.13606205914339145,
          -0.641735798500223,
          -0.3275536546374176,
          -0.3664057275130195,
          -0.3226759764287583,
          -0.35011700531853496,
          -0.24918386673960907,
          -0.28393861002736626,
          -0.3937194921603453,
          -0.2757256067779718,
          -0.3339929569048691,
          -0.3313338681930445,
          0.1043086225472833,
          0.1338997232725966,
          -0.35225253768302744,
          -0.32429492347423505,
          3.7180715885403344,
          -0.34829985899641897,
          -0.3302260665368422,
          -0.38780253046176455,
          2.2865978397043736,
          -0.39236635465277153,
          -0.4652951052236749,
          -0.323117214413915,
          -0.29206630753544366,
          -0.31652970767452987,
          -0.27741371710170476,
          -0.3236077448018237,
          -0.023616004490461157,
          -0.2810682845783403,
          -0.3266449283139537,
          -0.34649041371980455,
          -0.39382576631893784,
          -0.23540709324518905,
          1.017198934613326,
          -0.28804476882168584,
          -0.33758175183721356,
          -0.2839183076599226,
          -0.28323962898900507,
          -0.32389280236120244,
          -0.2775885097199742,
          -0.10404233466865805,
          -0.27854767401184055,
          -0.330545705133526,
          -0.3239919496012719,
          -0.5343162322752797,
          -0.23850310735481695,
          -0.32357652109751456,
          -0.3299312278856729,
          -0.44634877154832353,
          -0.3232944035287883,
          -0.2836462009088684,
          -0.32969421998111925,
          -0.283862967159113,
          -0.3346807872536044,
          -0.33106309754665014,
          3.7292054200664304,
          -0.324104570313435,
          -0.34592896606024576,
          -0.3239272584198153,
          -0.38071426389777285,
          -0.3849686623667235,
          -0.23731022219041611,
          -0.3309104095387927,
          0.3601967047859243,
          -0.39294761388640914,
          -0.16450798497286795,
          -0.34582341942609796,
          -0.3256889797754642,
          0.25532774466198305,
          -0.31964007391836163,
          -0.3311063655121413,
          -0.33098260237081867,
          -0.39365126259748,
          -0.3072578097367776,
          -0.22971328305858416,
          -0.3297927039080431,
          -0.3510293343528478,
          -0.3241688234571079,
          -0.38882011202368655,
          -0.2838983704128473,
          -0.33026912588101875,
          0.027398578960908592,
          -0.3935747267108108,
          -0.3233588400071563,
          -0.28354571465386996,
          -0.33136914564416203,
          -0.23683832756287868,
          -0.31714219474547833,
          -0.11598240874481208,
          -0.2251362106864168,
          3.9110391376858344,
          -0.1342188823012199,
          -0.31455859529545827,
          -0.36835090965008127,
          -0.35053692271975806,
          -0.38737050051007127,
          -0.32379360490173414,
          -0.2838906888181727,
          -0.34607267452684676,
          -0.3246157584834035,
          -0.3938550691282706,
          -0.42853222778746736,
          3.7225404962802346,
          -0.2584604101918903,
          -0.32192669096656273,
          -0.3312673480858541,
          -0.24807574945410915,
          -0.30500108720498775,
          -0.22839456629566876,
          -0.39376664783806203,
          -0.3525348810443225,
          -0.3242349061298593,
          -0.2840458910004715,
          -0.3908862407130621,
          -0.3177767354986145,
          -0.3661376055678416,
          -0.19076696553770106,
          -0.2957717830673428,
          -0.32967490207019734,
          -0.34651852520975285,
          -0.3312581882152219,
          -0.2762456401981237,
          -0.3065959212017441,
          -0.32687331046661583,
          -0.33006887760710374,
          -0.34108553339557945,
          -0.35129305478604617,
          -0.34894874887343885,
          -0.28303874113734495,
          -0.2642525011526167,
          -0.33110902143554866,
          -0.3513312996347891,
          -0.349281222274093,
          0.438995808672152,
          -0.2842224173275978,
          -0.34277893322944564,
          -0.393731014673937,
          -0.2485433429431855,
          -0.32389280236120244,
          -0.330811548285209,
          -0.3526900452408218,
          -0.3937806027944416,
          -0.393361257316437,
          -0.09085757565349599,
          -0.10381413146881838,
          -0.3312176491842107,
          -0.39363383208448316,
          -0.3938096606914582,
          -0.32284852621966154,
          -0.2775557368029279,
          -0.39167639241146257,
          -0.37438862591254074,
          -0.2836434328736011,
          -0.2838256554717842,
          -0.39298480804094077,
          -0.32618105339125375,
          -0.28380525859334865,
          -0.32248979930535093,
          0.8703503024726015,
          2.459491010761944,
          -0.3312123585107624
         ],
         "y": [
          1.7551350288832201,
          1.0146212466126892,
          1.0143142438483579,
          1.0143149712145343,
          1.0143069662781088,
          0.8553215999714721,
          1.1840960722313583,
          1.010539430030489,
          1.6843061307210732,
          1.0142984144881149,
          0.9985981315657708,
          1.0143032072651845,
          1.6842192785410213,
          1.3539295758279355,
          1.4270390600170764,
          1.0143164259259192,
          1.3225903599372992,
          1.014308372613482,
          1.868114652272998,
          1.0143108844170194,
          1.2936607048833517,
          1.246036345831695,
          0.5369983004104407,
          1.0143024236498628,
          1.0143163511495734,
          1.0143016598440295,
          1.0146291200848685,
          1.0143134455172687,
          1.8681072857949024,
          1.3227088308766946,
          1.603410898473615,
          1.014314062048903,
          0.9066317722190426,
          0.6902560368123193,
          1.6780067607722777,
          2.075762673405374,
          1.294109697158675,
          0.9696058434125295,
          0.4211259683372876,
          2.10540896118274,
          1.2792774236700235,
          0.5824857734928269,
          0.9066318343879259,
          1.678060788235209,
          1.0143143529748406,
          1.427086205882408,
          1.0144039903430977,
          0.9064352778182007,
          1.0143006658213898,
          1.0142840210085025,
          1.8681000493158577,
          1.3227685298187788,
          0.8639313615011184,
          0.9992363812380394,
          2.0757827562635827,
          0.23448159124027435,
          1.3539259840351197,
          1.014299112788028,
          1.3227486987159902,
          0.9986032618559919,
          0.9066383417517295,
          0.9657733503798163,
          1.0142822198751276,
          1.0129316156051102,
          1.4270038738188187,
          0.6901741795824214,
          0.690180969022842,
          1.6260387822406015,
          0.9243902903778373,
          1.6034223647846266,
          2.0763225498409827,
          1.3539254387240052,
          1.6053234697978245,
          0.9066329520090227,
          1.9501985793440666,
          1.2937408793303484,
          1.014290860696062,
          1.9134489801567294,
          0.9062556078755719,
          1.0143752260521108,
          1.3227318109772885,
          1.6847221020944643,
          1.3226024842949655,
          1.8744177097700894,
          1.0143146207798759,
          0.9066380979870227,
          1.3227481094710367,
          1.427031557249854,
          0.9244167897717049,
          1.5439679744689838,
          0.1844063643293276,
          1.4270332300691313,
          0.12916881161687915,
          1.0143232184944337,
          0.6145329528649977,
          1.0143145414250345,
          1.6780740265738916,
          1.0142201950357945,
          1.3227405737100393,
          1.0143378892203139,
          0.9964585355994022,
          1.678073543312375,
          2.0101936818443376,
          0.6901023511333734,
          0.6895066634114807,
          1.3222756226234391,
          1.0143097840438697,
          1.6780682860148237,
          1.3227232363084036,
          1.3174284908566927,
          1.9338294350627916,
          0.6901806244799372,
          0.999442670603326,
          1.01431901646337,
          1.0142984967484436,
          1.014312800691749,
          1.0143054962141127,
          1.0143082966681454,
          1.3227633352658479,
          1.3227500665943686,
          1.3227527589214931,
          1.3227529700589657,
          0.9066327910967437,
          1.322753900867106,
          1.0071390603421486,
          1.2858548044250813,
          1.0141232241821778,
          1.3210254137897322,
          1.4269481486186004,
          1.3539307371391744,
          1.9500731764354748,
          1.8681050531032397,
          1.3227521592968108,
          2.1013136396015857,
          0.9986698647482543,
          1.0143138617477276,
          1.0077026458433935,
          0.9985068046526445,
          1.3637448036481588,
          1.0139087008172138,
          1.6842109612988894,
          0.6209002941941894,
          1.0142575473530278,
          1.8302927400687667,
          0.22443170133887266,
          1.3227136457240345,
          1.5899943224229836,
          0.9066450964621565,
          0.1442661995903566,
          1.4270653457008178,
          0.6901015549423373,
          1.0143522814186021,
          0.7007239285781961,
          0.6901198897815829,
          1.014055620574181,
          0.9986045636497455,
          1.3227522592812686,
          1.5438879904416916,
          1.4907101819881454,
          0.9064580878184565,
          1.6032151866434703,
          0.6901734464713366,
          1.8681416690068717,
          1.4270305376741756,
          0.5824914663868265,
          0.9154527634997182,
          0.6900556426377825,
          1.0142903389887163,
          0.90663185342164,
          1.0848358300672138,
          1.7409031849605519,
          1.427001767681974,
          1.0142348384751205,
          1.294187528987442,
          0.906634457678976,
          1.8681121123752429,
          1.2025648977203767,
          1.8681164309297886,
          0.6145568794560747,
          1.0143130450647124,
          1.684772566502684,
          1.4270298392305307,
          0.9985725544357508,
          1.427022213302088,
          1.322592274656797,
          1.3227664848668526,
          -0.010993104434293726,
          1.0143070732014525,
          0.6937334141716339,
          1.322755246738362,
          0.6833227620922817,
          1.353668032734404,
          1.0142541565803886,
          0.5521133259310711,
          0.5857205245339699,
          1.014311986135772,
          1.0143308557199986,
          1.3227440802395973,
          1.0139055798302132,
          1.6084141431479344,
          1.014311125925426,
          1.3637482496002933,
          1.4270269841968177,
          1.3226105451410588,
          0.6901854653018126,
          1.0142599615184764,
          1.0288412006871936,
          1.3227457932098887,
          0.9065502736095483,
          0.6901758887477358,
          1.014315205131929,
          1.5439668952917966,
          0.531196201623207,
          0.23108446177561173,
          0.10728489211401673,
          1.6437455899776854,
          1.0152296581294409,
          1.164307202036892,
          1.419705624415227,
          0.97951017139368,
          0.6892275947568688,
          1.4270057281945516,
          1.8681083792239737,
          0.9986360288362444,
          0.9066259983127049,
          1.3227531509477777,
          1.9607991668734974,
          1.6841562484449435,
          0.5825875579642901,
          1.4269154295361568,
          1.0143084246795546,
          0.031699661960470575,
          1.5060413266726003,
          1.5437561599838374,
          1.3227498023979318,
          1.3637392618674515,
          1.0139111308342357,
          1.868108941451745,
          1.3228733552861476,
          1.0142419059417187,
          0.9098636524916294,
          1.0075352562936501,
          2.1022384797798574,
          0.6144850011721051,
          0.9986041183849707,
          1.014310689556834,
          0.5824217445372196,
          1.0142095505655127,
          1.0143364754630833,
          1.0142985581856003,
          2.103799145051857,
          1.6034291872325248,
          1.353922603821438,
          0.6901343472094144,
          0.10907001076845405,
          1.014311878601206,
          1.6034068508672725,
          1.3538952838552747,
          1.02818294981845,
          0.6901716521730069,
          0.6602361820763768,
          1.3227543633169798,
          0.031750022716469144,
          1.4270305376741756,
          1.014304346221667,
          0.9660405336919409,
          1.3227534965929073,
          1.3227454281986604,
          0.6910659951857119,
          0.5833055299474587,
          1.0143067874884415,
          1.3227555213456057,
          1.3227515255162043,
          1.427035400737623,
          0.5824986832166198,
          1.3227893934521242,
          0.8680062368295218,
          1.8681253195611704,
          0.6901579205275307,
          1.3227190943237903,
          1.0143173847612643,
          0.6901511241434264,
          1.0139817877307116,
          0.668319331853564,
          0.7761851855338008,
          1.0143070017002942
         ],
         "z": [
          -0.8411508807634271,
          -0.6669675540268148,
          -0.6665170389479331,
          -0.666517607346754,
          -0.6665232277409818,
          -0.3859148451022957,
          -0.08105123774745547,
          -0.667723738543774,
          -0.11061489491587011,
          -0.6665212951740286,
          -0.19930712839951664,
          -0.6665197359678751,
          -0.11020063860011411,
          -0.2053230094843362,
          -0.10328319267053329,
          -0.6665253822950135,
          -0.6124101953560671,
          -0.6665235350164699,
          -0.8051589173016701,
          -0.6665274772540456,
          -0.5341255831831103,
          0.010694813419913688,
          -0.10130662939850844,
          -0.6665292800134556,
          -0.6665245399203324,
          -0.6665238313249727,
          -0.6667631055217036,
          -0.6665176026607035,
          -0.8050819045032936,
          -0.6123915382319325,
          -0.7494667132835175,
          -0.6665170947939806,
          -0.5072988627793509,
          -0.2535069031315951,
          -0.618421211412707,
          -1.0291342663942107,
          -0.059969134393863824,
          -0.12093992156822056,
          -0.08820793356720523,
          -0.9498677573290694,
          -0.33638893646125273,
          -0.09425110178197675,
          -0.5072985154952372,
          -0.6184634322984067,
          -0.6665175200777521,
          -0.10329221022503571,
          -0.6669830404797472,
          -0.5073444293817135,
          -0.6665697668645273,
          -0.6665765527930548,
          -0.8050841667517228,
          -0.6124655060555274,
          -0.08879942526884843,
          -0.6843450019614215,
          -1.0291499605618606,
          -0.28282104894498744,
          -0.2053195573393937,
          -0.6665408425045554,
          -0.6123763773129951,
          -0.19929716345657256,
          -0.5072994442036999,
          -0.5056596884800074,
          -0.6665335791953033,
          -0.6674641682123095,
          -0.10324687178978213,
          -0.2534498245179488,
          -0.25348782657285035,
          -0.4821254999427663,
          -0.5299302537452987,
          -0.7494598391797049,
          -1.0490785274115133,
          -0.20532215166203,
          -0.7628175570494004,
          -0.5072997847507928,
          -0.8951898078780834,
          -0.5340140555699106,
          -0.6665320185317989,
          -0.8408397266970472,
          -0.5073920595233261,
          -0.6665646947440131,
          -0.6123782229947072,
          -0.11054409712396965,
          -0.6124054189656398,
          -0.9204631242801162,
          -0.666518996134874,
          -0.507303014447871,
          -0.6123870011191463,
          -0.10323366926251376,
          -0.5299492283496309,
          -0.3920022619627746,
          -0.3187776004613777,
          -0.10325476988604868,
          -0.1749467505300498,
          -0.666563639083497,
          -0.44380161518824346,
          -0.6665185840911761,
          -0.6184021399466162,
          -0.6665425093491647,
          -0.6123811121418289,
          -0.6665414551087195,
          -0.672356688069243,
          -0.618396265675032,
          -0.9325256496164502,
          -0.2534743097627606,
          -0.25371302424979164,
          -0.6125917739939079,
          -0.6665610577980474,
          -0.618411494971253,
          -0.6123873568324602,
          -0.6187203573695151,
          -0.918015444127471,
          -0.25345826314377834,
          -0.19994533831228495,
          -0.6665207685906704,
          -0.6665222831482668,
          -0.6665178904829405,
          -0.6665188855993253,
          -0.6665207885681974,
          -0.612422651670388,
          -0.6123806132082854,
          -0.612382717183368,
          -0.612379715242888,
          -0.5072992631352605,
          -0.6123717335620906,
          -0.20595984230397274,
          0.02115524230978362,
          -0.666565696277206,
          -0.00025269391569855194,
          -0.1032516199803017,
          -0.20532589635158954,
          -0.8952199521952363,
          -0.8050730341088409,
          -0.6123740755182785,
          -0.9417214172018472,
          -0.19960149789195744,
          -0.666518323799943,
          -0.6752056228837674,
          -0.6739573505635854,
          -0.023482653996534736,
          -0.6665959861683679,
          -0.1102079619701837,
          -0.45658860912248206,
          -0.66653211236693,
          -0.6773905447776783,
          -0.34316431686296694,
          -0.6123972802310343,
          -0.6392116059326998,
          -0.5073401529345007,
          -0.42202829077365983,
          -0.10341842086363742,
          -0.2535841136990076,
          -0.6667051110951568,
          -0.261687255081918,
          -0.2535034336932385,
          -0.6665725073288561,
          -0.19929869539786943,
          -0.6123716383125068,
          -0.39201318032233523,
          -0.0938512557436751,
          -0.508112106536292,
          -0.7497690175733045,
          -0.2534487663228128,
          -0.8050968979616563,
          -0.1032407898395067,
          -0.09422417329887711,
          -0.5142587157622,
          -0.25354823457277004,
          -0.6665316108327322,
          -0.5073171361317691,
          -0.20584093047156546,
          -0.16872490373632862,
          -0.10324205896704368,
          -0.6665341594056012,
          -0.058640787533254725,
          -0.5073338183723052,
          -0.8050812814906971,
          0.06371679575863229,
          -0.8050771751408912,
          -0.44379798694061146,
          -0.6665244153297872,
          -0.1105835335863847,
          -0.10323574465407762,
          -0.19930495464645132,
          -0.10323824325845236,
          -0.6126412946768679,
          -0.6125795012315278,
          0.06397211388405265,
          -0.6665266920050366,
          -0.26909596383133716,
          -0.6123925786852878,
          -0.25477099097367073,
          -0.2053699969127403,
          -0.6666363467431188,
          -0.10016627591530973,
          -0.06093579116388826,
          -0.6665231919404393,
          -0.666530020624243,
          -0.6123739557103112,
          -0.6669894144898022,
          -0.7533568096321748,
          -0.6665533973591287,
          -0.02351167208180474,
          -0.10323365836054754,
          -0.6124576388863148,
          -0.2534517535554891,
          -0.66653162376309,
          -0.6778694317881211,
          -0.6123760860811714,
          -0.5073146344543704,
          -0.2534578980524248,
          -0.6665177901463682,
          -0.3919966584211126,
          0.02715908096473025,
          -0.26518171864612977,
          -0.2583768291699562,
          -0.04291859529980454,
          -0.6712702547525279,
          0.04101476640127674,
          -0.09079451610017579,
          -0.5153162965058329,
          -0.08297436153027027,
          -0.10323787002021241,
          -0.8050748416405713,
          -0.19931497131001374,
          -0.5073014762511072,
          -0.6123711479178862,
          -0.8509443689232628,
          -0.1102998326499562,
          -0.09468682013139199,
          -0.10326207489478707,
          -0.6665187197324656,
          0.15560560116022681,
          -0.2651161665565138,
          -0.3921476790355025,
          -0.6123724894008454,
          -0.023474958384732614,
          -0.6665978851557596,
          -0.8050713698364249,
          -0.6124650837047584,
          -0.6668167895217022,
          -0.47402715364198916,
          -0.6683450690463247,
          -0.9414521094053581,
          -0.44389867065220623,
          -0.19929795156915928,
          -0.6665194076308628,
          -0.09424058128341993,
          -0.6670686118365542,
          -0.6666262534988282,
          -0.6665443677717586,
          -0.9407319740931399,
          -0.7494968401061868,
          -0.2053512097836543,
          -0.2534608938008938,
          -0.24216840252204247,
          -0.6665231079053138,
          -0.7494912609069929,
          -0.2053377773729586,
          -0.687251709985235,
          -0.2534413548656918,
          -0.004618131404704142,
          -0.6123742722232212,
          0.15560583242716702,
          -0.1032407898395067,
          -0.66652840561295,
          -0.5418707122471114,
          -0.6123729430395979,
          -0.61238094711021,
          -0.25810203252074393,
          -0.09841483253863306,
          -0.6665195252165346,
          -0.6123767635362773,
          -0.6123718566310844,
          -0.10326596701489364,
          -0.09422644816887116,
          -0.6124291600276964,
          -0.1732664363567233,
          -0.8050841213469354,
          -0.25344764627856997,
          -0.6123841199923529,
          -0.6666382536476002,
          -0.25344668964281714,
          -0.6666531014585086,
          -0.27555486923222766,
          -0.11145892926077558,
          -0.6665196926168465
         ]
        },
        {
         "customdata": [
          [
           "Scrypt"
          ],
          [
           "Ethash"
          ],
          [
           "Equihash"
          ],
          [
           "SHA-512"
          ],
          [
           "Multiple"
          ],
          [
           "SHA-256"
          ],
          [
           "X15"
          ],
          [
           "X11"
          ],
          [
           "Scrypt"
          ],
          [
           "Scrypt"
          ],
          [
           "SHA-256"
          ],
          [
           "Groestl"
          ],
          [
           "Scrypt"
          ],
          [
           "Scrypt"
          ],
          [
           "Multiple"
          ],
          [
           "SHA-256"
          ],
          [
           "Scrypt"
          ],
          [
           "Scrypt"
          ],
          [
           "Scrypt"
          ],
          [
           "PoS"
          ],
          [
           "Scrypt"
          ],
          [
           "Scrypt"
          ],
          [
           "X11"
          ],
          [
           "X11"
          ],
          [
           "Scrypt"
          ],
          [
           "SHA3"
          ],
          [
           "HybridScryptHash256"
          ],
          [
           "Scrypt"
          ],
          [
           "X13"
          ],
          [
           "SHA-256"
          ],
          [
           "Scrypt"
          ],
          [
           "X13"
          ],
          [
           "Scrypt"
          ],
          [
           "X11"
          ],
          [
           "PHI1612"
          ],
          [
           "SHA-256"
          ],
          [
           "SHA-256"
          ],
          [
           "SHA-256"
          ],
          [
           "Scrypt"
          ],
          [
           "Scrypt"
          ],
          [
           "Lyra2REv2"
          ],
          [
           "Multiple"
          ],
          [
           "X13"
          ],
          [
           "Counterparty"
          ],
          [
           "Scrypt"
          ],
          [
           "SHA-256"
          ],
          [
           "Scrypt"
          ],
          [
           "X13"
          ],
          [
           "Scrypt"
          ],
          [
           "Scrypt"
          ],
          [
           "Scrypt"
          ],
          [
           "Scrypt"
          ],
          [
           "X11"
          ],
          [
           "QuBit"
          ],
          [
           "Scrypt"
          ],
          [
           "SHA-256"
          ],
          [
           "Scrypt"
          ],
          [
           "X11"
          ],
          [
           "QUAIT"
          ],
          [
           "X11"
          ],
          [
           "Scrypt"
          ],
          [
           "Scrypt"
          ],
          [
           "Ethash"
          ],
          [
           "X13"
          ],
          [
           "Blake2b"
          ],
          [
           "X11"
          ],
          [
           "BLAKE256"
          ],
          [
           "Scrypt"
          ],
          [
           "1GB AES Pattern Search"
          ],
          [
           "SHA-256"
          ],
          [
           "NIST5"
          ],
          [
           "Dagger"
          ],
          [
           "X11"
          ],
          [
           "Scrypt"
          ],
          [
           "X11"
          ],
          [
           "X11"
          ],
          [
           "X11"
          ],
          [
           "Scrypt"
          ],
          [
           "POS 3.0"
          ],
          [
           "Scrypt"
          ],
          [
           "X13"
          ],
          [
           "X11"
          ],
          [
           "X11"
          ],
          [
           "CryptoNight"
          ],
          [
           "SHA-256"
          ],
          [
           "Scrypt"
          ],
          [
           "Scrypt"
          ],
          [
           "Scrypt"
          ],
          [
           "SHA-256"
          ],
          [
           "PoS"
          ],
          [
           "Scrypt"
          ],
          [
           "X11"
          ],
          [
           "Lyra2Z"
          ],
          [
           "X14"
          ],
          [
           "PoS"
          ],
          [
           "Ethash"
          ],
          [
           "Scrypt"
          ],
          [
           "X11"
          ],
          [
           "Scrypt"
          ],
          [
           "X11"
          ],
          [
           "X11"
          ],
          [
           "Scrypt"
          ],
          [
           "Scrypt"
          ],
          [
           "Scrypt"
          ],
          [
           "Scrypt"
          ],
          [
           "Lyra2RE"
          ],
          [
           "Scrypt"
          ],
          [
           "SHA-256"
          ],
          [
           "Scrypt"
          ],
          [
           "Scrypt"
          ],
          [
           "Scrypt"
          ],
          [
           "X13"
          ],
          [
           "Equihash"
          ],
          [
           "Lyra2RE"
          ],
          [
           "Scrypt"
          ],
          [
           "Dagger-Hashimoto"
          ],
          [
           "X11"
          ],
          [
           "X11"
          ],
          [
           "Scrypt"
          ],
          [
           "Scrypt"
          ],
          [
           "X11"
          ],
          [
           "Scrypt"
          ],
          [
           "SHA-256"
          ],
          [
           "PoS"
          ],
          [
           "SHA-256"
          ],
          [
           "536"
          ],
          [
           "NIST5"
          ],
          [
           "X11"
          ],
          [
           "NIST5"
          ],
          [
           "Scrypt"
          ],
          [
           "Scrypt"
          ],
          [
           "Scrypt"
          ],
          [
           "CryptoNight"
          ],
          [
           "Scrypt"
          ],
          [
           "Keccak"
          ],
          [
           "Skein"
          ],
          [
           "VeChainThor Authority"
          ],
          [
           "Scrypt"
          ],
          [
           "Scrypt"
          ],
          [
           "Scrypt"
          ],
          [
           "Scrypt"
          ],
          [
           "CryptoNight"
          ],
          [
           "X11"
          ],
          [
           "Scrypt"
          ],
          [
           "SHA-256"
          ],
          [
           "NIST5"
          ],
          [
           "Scrypt"
          ],
          [
           "POS 2.0"
          ],
          [
           "X11"
          ],
          [
           "NeoScrypt"
          ],
          [
           "X11"
          ],
          [
           "DPoS"
          ],
          [
           "CryptoNight"
          ],
          [
           "CryptoNight"
          ],
          [
           "NIST5"
          ],
          [
           "Quark"
          ],
          [
           "X11"
          ],
          [
           "X11"
          ],
          [
           "NeoScrypt"
          ],
          [
           "Quark"
          ],
          [
           "X11"
          ],
          [
           "X11"
          ],
          [
           "SHA-256"
          ],
          [
           "CryptoNight"
          ],
          [
           "SkunkHash"
          ],
          [
           "Scrypt"
          ],
          [
           "Scrypt"
          ],
          [
           "SHA-256 + Hive"
          ],
          [
           "C11"
          ],
          [
           "Scrypt"
          ],
          [
           "Ethash"
          ],
          [
           "CryptoNight"
          ],
          [
           "IMesh"
          ],
          [
           "NIST5"
          ],
          [
           "Equihash"
          ],
          [
           "Scrypt"
          ],
          [
           "Scrypt"
          ],
          [
           "Semux BFT consensus"
          ],
          [
           "X11"
          ],
          [
           "Quark"
          ],
          [
           "PoS"
          ],
          [
           "CryptoNight"
          ],
          [
           "X16R"
          ],
          [
           "Scrypt"
          ],
          [
           "NIST5"
          ],
          [
           "Lyra2RE"
          ],
          [
           "Tribus"
          ],
          [
           "Scrypt"
          ],
          [
           "CryptoNight"
          ],
          [
           "Scrypt"
          ],
          [
           "Scrypt"
          ],
          [
           "CryptoNight"
          ],
          [
           "X15"
          ],
          [
           "X11"
          ],
          [
           "Quark"
          ],
          [
           "Scrypt"
          ],
          [
           "XEVAN"
          ],
          [
           "Scrypt"
          ],
          [
           "Keccak"
          ],
          [
           "X11"
          ],
          [
           "X11"
          ],
          [
           "Scrypt"
          ],
          [
           "SHA-512"
          ],
          [
           "X16R"
          ],
          [
           "Equihash"
          ],
          [
           "XEVAN"
          ],
          [
           "Lyra2Z"
          ],
          [
           "Blake"
          ],
          [
           "Scrypt"
          ],
          [
           "Scrypt"
          ],
          [
           "Quark"
          ],
          [
           "Quark"
          ],
          [
           "XEVAN"
          ],
          [
           "SHA-256D"
          ],
          [
           "X11"
          ],
          [
           "DPoS"
          ],
          [
           "Scrypt"
          ],
          [
           "Scrypt"
          ],
          [
           "Blake"
          ],
          [
           "SHA-256"
          ],
          [
           "X11"
          ],
          [
           "SHA-256"
          ],
          [
           "Scrypt"
          ],
          [
           "Scrypt"
          ],
          [
           "Groestl"
          ],
          [
           "Scrypt"
          ],
          [
           "X11"
          ],
          [
           "Scrypt"
          ],
          [
           "NeoScrypt"
          ],
          [
           "X13"
          ],
          [
           "Equihash+Scrypt"
          ],
          [
           "DPoS"
          ],
          [
           "SHA-256"
          ],
          [
           "PoS"
          ],
          [
           "PoS"
          ],
          [
           "SHA-256"
          ],
          [
           "CryptoNight"
          ],
          [
           "Equihash"
          ],
          [
           "Scrypt"
          ]
         ],
         "hovertemplate": "<b>%{hovertext}</b><br><br>Class=%{marker.color}<br>PC 1=%{x}<br>PC 2=%{y}<br>PC 3=%{z}<br>Algorithm=%{customdata[0]}<extra></extra>",
         "hovertext": [
          "404Coin",
          "Ethereum Classic",
          "ZCash",
          "Bitshares",
          "DigiByte",
          "BitcoinDark",
          "KoboCoin",
          "Spreadcoin",
          "Argentum",
          "BlueCoin",
          "ZetaCoin",
          "Riecoin",
          "Catcoin",
          "CryptoBullion",
          "Verge",
          "DevCoin",
          "EarthCoin",
          "E-Gulden",
          "Emerald",
          "Exclusive Coin",
          "GrandCoin",
          "GlobalCoin",
          "HyperStake",
          "IOCoin",
          "LuckyCoin",
          "MaxCoin",
          "MediterraneanCoin",
          "MinCoin",
          "NavCoin",
          "Namecoin",
          "NyanCoin",
          "OpalCoin",
          "Reddcoin",
          "SuperCoin",
          "TittieCoin",
          "TerraCoin",
          "UnbreakableCoin",
          "Unobtanium",
          "UnitaryStatus Dollar",
          "ViaCoin",
          "Vertcoin",
          "Crypti",
          "StealthCoin",
          "StorjCoin",
          "MonaCoin",
          "Neutron",
          "PesetaCoin",
          "Kore",
          "Wild Beast Coin",
          "Dnotes",
          "Flo",
          "ArtByte",
          "Ucoin",
          "CypherPunkCoin",
          "MasterCoin",
          "SoonCoin",
          "1Credit",
          "MarsCoin ",
          "Droidz",
          "BowsCoin",
          "BitZeny",
          "Diggits",
          "Expanse",
          "Paycon",
          "Siacoin",
          "MindCoin",
          "Decred",
          "Revolution VR",
          "HOdlcoin",
          "CarpeDiemCoin",
          "PWR Coin",
          "SoilCoin",
          "EuropeCoin",
          "ZeitCoin",
          "BolivarCoin",
          "Ratecoin",
          "BitSend",
          "Omni",
          "Let it Ride",
          "iBankCoin",
          "MudraCoin",
          "PizzaCoin",
          "Lutetium Coin",
          "Karbo",
          "BitTokens",
          "ZoneCoin",
          "DopeCoin",
          "BitCurrency",
          "DollarCoin",
          "Opair",
          "PesoBit",
          "Halloween Coin",
          "ZCoin",
          "GanjaCoin V2",
          "TeamUP",
          "Elementrem",
          "KiloCoin",
          "ArtexCoin",
          "AquariusCoin",
          "Eternity",
          "Stakenet",
          "BitConnect Coin",
          "Russiacoin",
          "PandaCoin",
          "OsmiumCoin",
          "HexxCoin",
          "Klingon Empire Darsek",
          "Internet of People",
          "Printerium",
          "Impeach",
          "BeaverCoin",
          "FindCoin",
          "Zero",
          "Zoin",
          "RenosCoin",
          "DubaiCoin",
          "VirtacoinPlus",
          "Condensate",
          "ArgusCoin",
          "LomoCoin",
          "GoldReserve",
          "BenjiRolls",
          "ILCoin",
          "Phreak",
          "Ultimate Secure Cash",
          "Espers",
          "Denarius",
          "DigitalPrice",
          "Virta Unique Coin",
          "Unify",
          "SocialCoin",
          "Linda",
          "LeviarCoin",
          "gCn Coin",
          "SmartCash",
          "Cream",
          "Vechain",
          "NewYorkCoin",
          "FrazCoin",
          "CoinonatX",
          "Ethereum Dark",
          "Sumokoin",
          "Elements",
          "TerraNovaCoin",
          "Theresa May Coin",
          "NamoCoin",
          "Xios",
          "KekCoin",
          "Pura",
          "Innova",
          "Magnet",
          "Lamden Tau",
          "UltraNote",
          "BitCoal",
          "Bulwark",
          "Kalkulus",
          "AC3",
          "PhantomX",
          "SparksPay",
          "Digiwage",
          "Monkey Project",
          "Pioneer Coin",
          "UnitedBitcoin",
          "TurtleCoin",
          "MUNcoin",
          "Unified Society USDEX",
          "ShareChain",
          "LitecoinCash",
          "Stipend",
          "Velox",
          "Callisto Network",
          "BitTube",
          "Aidos Kuneen",
          "Bitspace",
          "Bitrolium",
          "MedicCoin",
          "Abjcoin",
          "Semux",
          "FuturoCoin",
          "Carebit",
          "Zealium",
          "Monero Classic",
          "Proton",
          "iDealCash",
          "Jumpcoin",
          "Infinex",
          "KEYCO",
          "HollyWoodCoin",
          "PlatinCoin",
          "Swisscoin",
          "Xt3ch",
          "PluraCoin",
          "Dekado",
          "Axe",
          "Vitae",
          "HexCoin",
          "Urals Coin",
          "MMOCoin",
          "XDNA",
          "PAXEX",
          "Azart",
          "ThunderStake",
          "Kcash",
          "Xchange",
          "CrypticCoin",
          "Bettex coin",
          "Actinium",
          "Universal Molecule",
          "Block-Logic",
          "Oduwa",
          "Galilel",
          "Crypto Sports",
          "Beetle Coin",
          "Titan Coin",
          "Award",
          "ALAX",
          "LiteDoge",
          "SolarCoin",
          "BlakeCoin",
          "IncaKoin",
          "Piggy Coin",
          "Crown Coin",
          "SmileyCoin",
          "XiaoMiCoin",
          "Groestlcoin",
          "Pakcoin",
          "Creditbit ",
          "WhiteCoin",
          "FriendshipCoin",
          "Triangles Coin",
          "Vollar",
          "Oxycoin",
          "TigerCash",
          "Particl",
          "Nxt",
          "ZEPHYR",
          "Beldex",
          "Horizen",
          "BitcoinPlus"
         ],
         "legendgroup": "1",
         "marker": {
          "color": [
           1,
           1,
           1,
           1,
           1,
           1,
           1,
           1,
           1,
           1,
           1,
           1,
           1,
           1,
           1,
           1,
           1,
           1,
           1,
           1,
           1,
           1,
           1,
           1,
           1,
           1,
           1,
           1,
           1,
           1,
           1,
           1,
           1,
           1,
           1,
           1,
           1,
           1,
           1,
           1,
           1,
           1,
           1,
           1,
           1,
           1,
           1,
           1,
           1,
           1,
           1,
           1,
           1,
           1,
           1,
           1,
           1,
           1,
           1,
           1,
           1,
           1,
           1,
           1,
           1,
           1,
           1,
           1,
           1,
           1,
           1,
           1,
           1,
           1,
           1,
           1,
           1,
           1,
           1,
           1,
           1,
           1,
           1,
           1,
           1,
           1,
           1,
           1,
           1,
           1,
           1,
           1,
           1,
           1,
           1,
           1,
           1,
           1,
           1,
           1,
           1,
           1,
           1,
           1,
           1,
           1,
           1,
           1,
           1,
           1,
           1,
           1,
           1,
           1,
           1,
           1,
           1,
           1,
           1,
           1,
           1,
           1,
           1,
           1,
           1,
           1,
           1,
           1,
           1,
           1,
           1,
           1,
           1,
           1,
           1,
           1,
           1,
           1,
           1,
           1,
           1,
           1,
           1,
           1,
           1,
           1,
           1,
           1,
           1,
           1,
           1,
           1,
           1,
           1,
           1,
           1,
           1,
           1,
           1,
           1,
           1,
           1,
           1,
           1,
           1,
           1,
           1,
           1,
           1,
           1,
           1,
           1,
           1,
           1,
           1,
           1,
           1,
           1,
           1,
           1,
           1,
           1,
           1,
           1,
           1,
           1,
           1,
           1,
           1,
           1,
           1,
           1,
           1,
           1,
           1,
           1,
           1,
           1,
           1,
           1,
           1,
           1,
           1,
           1,
           1,
           1,
           1,
           1,
           1,
           1,
           1,
           1,
           1,
           1,
           1,
           1,
           1,
           1,
           1,
           1,
           1,
           1,
           1,
           1,
           1,
           1,
           1,
           1,
           1,
           1,
           1,
           1,
           1,
           1,
           1,
           1,
           1,
           1,
           1
          ],
          "coloraxis": "coloraxis",
          "symbol": "diamond"
         },
         "mode": "markers",
         "name": "1",
         "scene": "scene",
         "showlegend": true,
         "type": "scatter3d",
         "x": [
          0.49075869202940325,
          -0.14490045630848664,
          -0.2192708198940466,
          -0.16058337115054158,
          -0.14953643682377807,
          -0.15469048463288995,
          -0.15031170456714918,
          -0.22300650229909125,
          -0.1478368556808041,
          -0.2234100781895625,
          -0.16108885295037548,
          -0.2105235108385692,
          -0.22394428167136265,
          -0.22391563462377342,
          -0.1548830566254337,
          3.8578296757652235,
          0.3187593783439104,
          -0.11338031989038655,
          -0.16119205389341226,
          0.29712414825168115,
          -0.15415833310948032,
          -0.09715316634200809,
          -0.16040924809918752,
          -0.2238099121987417,
          -0.2238112345194718,
          -0.15488309426017383,
          -0.1615948198677325,
          -0.15488389394819038,
          0.09703179592213251,
          -0.11532136673383148,
          -0.11515397644159285,
          -0.11431108959960623,
          -0.12737861873621772,
          -0.16163016096629,
          -0.1614548236621897,
          -0.16154135967991712,
          -0.15976095505141266,
          -0.14505132021398265,
          -0.1580557249793243,
          -0.21802233826088027,
          -0.09623836491971174,
          0.29697605458215476,
          -0.10647912036945349,
          -0.15467303917908806,
          -0.009949537548661323,
          -0.22396550879478785,
          -0.14702759169590135,
          -0.14525070213898345,
          -0.1827858015536174,
          -0.17945022647455838,
          -0.223988182604294,
          -0.06807225854395112,
          -0.16586886142685792,
          0.3331619808033168,
          0.16130049974166222,
          -0.16094122449324547,
          0.2641922022934948,
          -0.15506533062421157,
          -0.1588436863124091,
          -0.22301507152276998,
          0.22344862523612277,
          -0.1450810217093668,
          0.0875120430896977,
          -0.13254026974812058,
          -0.15975916090631168,
          -0.1612872661833058,
          -0.1448592969838018,
          -0.1432240296424909,
          -0.17830891074338023,
          -0.15688727540839992,
          -0.16122655798716684,
          -0.16101415618851844,
          -0.14248918059428015,
          -0.14404792988298415,
          -0.1450151329380004,
          -0.14511752199773234,
          -0.15432710173760186,
          -0.16125611615455665,
          -0.15869379031263373,
          -0.16143151293554808,
          0.37698521047788447,
          -0.16159844854763042,
          -0.16146986040258907,
          -0.16010942124529304,
          -0.22305591915398126,
          -0.1602416822147326,
          -0.16474926770863088,
          3.2522984101941623,
          -0.14079661137894156,
          -0.15013905740689004,
          -0.1603919233952545,
          -0.1606699040306202,
          -0.15302522771713392,
          -0.03434798582270959,
          -0.19219980116751031,
          -0.15783103803711368,
          -0.16151801147019793,
          -0.16765435434026354,
          -0.1457915842912627,
          -0.15484631670797228,
          1.5896250123540623,
          -0.12139478754797141,
          -0.1456367007747837,
          -0.16464901019719502,
          -0.16068157463756583,
          -0.18080205806689179,
          -0.15484519229043955,
          -0.1271676255980461,
          -0.1828450992835302,
          -0.17130238253466112,
          -0.15795623518330712,
          -0.08837118908769036,
          -0.11776556921044198,
          0.2969989880246131,
          -0.17938676195569275,
          -0.16088278665919922,
          -0.22178633892053082,
          -0.1605702779945272,
          -0.14670907708296926,
          -0.16131374646320415,
          0.5674397773216787,
          0.1462019844186122,
          -0.16166902702743355,
          -0.16032486853587347,
          -0.13598523283531522,
          -0.22352593101572385,
          -0.2678735555105544,
          -0.16092731949791178,
          -0.1551636127145393,
          -0.15811235188890876,
          -0.1615501612567077,
          -0.22384664653218575,
          -0.16011199175438043,
          2.5615763198818784,
          -0.16168014202481792,
          -0.15507832334833913,
          -0.02443998135955159,
          0.30085438260578967,
          2.1071329417320928,
          -0.14469826073973907,
          -0.15492294565187534,
          -0.02635630026332178,
          -0.15520567920066988,
          1.5885579293603462,
          -0.16154410462646104,
          -0.16168020059709598,
          -0.21485431845733732,
          -0.16166192579492708,
          0.49160226004836804,
          -0.15954853738468897,
          -0.22388744437449065,
          1.1024626523037793,
          -0.158158894219714,
          -0.22396015945135214,
          0.301088473638417,
          0.310779034526111,
          -0.11295573041525447,
          -0.07771527148624907,
          -0.11465758411251059,
          -0.16147259027835195,
          -0.16149337319601112,
          -0.15882906300044242,
          -0.21952771772696777,
          -0.2229990098199517,
          -0.14688426445177136,
          -0.16089288092348014,
          3.0927987500261773,
          -0.14489249944204322,
          -0.1926394000682551,
          -0.16152967456177217,
          -0.1576326522010654,
          -0.12776397804477732,
          -0.15962278764400567,
          0.3766040353321771,
          -0.16134327445288746,
          -0.13422257883663827,
          -0.1786607483540161,
          0.5346979238284264,
          -0.12275527540076486,
          -0.16101577435022071,
          0.5549767966450264,
          -0.16109698056637933,
          -0.15940081956084365,
          -0.08722180722363329,
          -0.1598025628003157,
          -0.15495077430880205,
          -0.16480119681745178,
          -0.22387602199413822,
          0.03161573153606762,
          -0.2239621423153402,
          0.2975722150459231,
          -0.15834105523822126,
          -0.14206003193931407,
          -0.15438598644293394,
          -0.15467366988942702,
          -0.15766062995382285,
          8.039052469489038,
          0.30490389209658125,
          -0.1548624077020444,
          -0.08986869982107565,
          -0.12643135640765518,
          -0.1463171316545221,
          -0.15465700257755277,
          -0.161333477860198,
          -0.15524800040086706,
          -0.17817135269992682,
          -0.22413954362230787,
          -0.16124566220889214,
          -0.16480370279074233,
          -0.21669058813192343,
          -0.13342197894551058,
          -0.1938451437396788,
          -0.1616712531536992,
          -0.15834593170693562,
          -0.1358724221577855,
          -0.19664558195041804,
          0.29699323149174633,
          -0.1373733723396649,
          0.45228009130684566,
          -0.1544533849884602,
          0.2973886163718065,
          0.297158850674123,
          -0.19721813262957044,
          -0.1482633120721632,
          -0.09238214201114052,
          -0.11431847816999229,
          -0.11665178509178907,
          1.1356282013189187,
          0.18513778748953805,
          -0.15005463468434144,
          -0.16049040608791348,
          -0.11546320149708175,
          -0.11544154461631019,
          -0.1154426035140978,
          -0.11547555907151628,
          -0.1519649470282344,
          -0.15899371447310212,
          -0.14550955562138176,
          -0.15510676812469726
         ],
         "y": [
          -1.2005035894092035,
          -1.163183938919964,
          -0.854915358224763,
          -1.1631952812954436,
          -2.1889701813823126,
          -1.2708595703214485,
          -2.2895418571915003,
          -0.8547437055418443,
          -2.1890510405327137,
          -0.8547434154478651,
          -1.163190802072721,
          -0.8545265456302035,
          -0.8547380203366822,
          -0.8547396321765045,
          -1.2708446669167535,
          -2.2499130795613818,
          -2.266352328904729,
          -1.8643890058073516,
          -1.1631752461767046,
          -2.2662753762938106,
          -1.2708451198604662,
          -2.147895199712487,
          -1.1632020898908633,
          -0.8547353516256889,
          -0.8547326334464899,
          -1.2708446684405306,
          -1.1631704051127176,
          -1.2708447008187622,
          -1.8702391361978112,
          -1.8643000456785106,
          -1.864300118584601,
          -1.864293094538967,
          -2.1194359385396226,
          -1.1631706996191817,
          -1.1631758237375613,
          -1.1631738810319576,
          -1.1631619828357964,
          -1.1631900471852021,
          -2.3076056927190107,
          -0.8548301625007736,
          -2.004197172169052,
          -2.2662727107771077,
          -1.8216338169352895,
          -1.2708507151286283,
          -1.8652854028362569,
          -0.8547368010041922,
          -2.2080173023882,
          -2.173020791639478,
          -0.5740753319103243,
          -1.5565646636818065,
          -0.8547383426711019,
          -2.005482019856753,
          -2.225415051648938,
          -2.266184791449429,
          -1.8245118050169677,
          -1.1631738529601445,
          -1.2688478412990205,
          -1.2708448670028403,
          -1.1631941368796697,
          -0.8547551393698868,
          -1.270063522958708,
          -2.0884559898223136,
          -1.1624355059730762,
          -1.164762281088492,
          -1.1631619101934096,
          -1.1631690395732495,
          -2.0016798813446366,
          -2.001789533367296,
          -0.854123030610066,
          -1.163184073721359,
          -1.1631742038093602,
          -1.1631933211431107,
          -2.0017112753066333,
          -2.0016288716516297,
          -2.1700693104234454,
          -2.001683892858634,
          -2.2389533071646026,
          -1.163180944013746,
          -1.1631603506226893,
          -1.16317418698983,
          -2.26862346262114,
          -1.1631748730117317,
          -1.1631757396242992,
          -1.5629612527709724,
          -0.8547567932324522,
          -1.163170359923439,
          -1.562938324403057,
          -1.1635291572170798,
          -1.1633092328867725,
          -2.188943650313879,
          -1.1631667419621228,
          -1.163179553115016,
          -1.270871306702919,
          -1.1649441921207297,
          -1.2531009795285386,
          -1.562982644712785,
          -1.1631791479915141,
          -2.2603817112997056,
          -2.17300403327445,
          -1.2708431793696828,
          -1.155041951660777,
          -1.2712065467548577,
          -2.1730090431541798,
          -1.5629434117885168,
          -1.1631743119523568,
          -1.1979761076386484,
          -1.2708431338436141,
          -1.8216418899014322,
          -0.5740588490758523,
          -2.0854302208491897,
          -1.1632035372476948,
          -1.1671315148833112,
          -0.7012113123320592,
          -2.266270049910794,
          -1.3222761715457585,
          -1.1631963173317348,
          -0.8547940847109676,
          -1.1631947511721545,
          -2.1450686232744394,
          -1.1631694187926465,
          -2.2341194249269933,
          -1.1634594248089503,
          -1.1631708804624514,
          -1.1631737280194194,
          -2.208134591250482,
          -0.8547293970671456,
          -0.1483392137255894,
          -1.1631690173632032,
          -2.2635631214357828,
          -2.281227601110254,
          -1.1631720615966015,
          -0.854730602580975,
          -1.1631797436124183,
          -1.3189945455149454,
          -1.163170824292647,
          -2.240801283991381,
          -2.2687427115805736,
          -2.2663398454847137,
          -2.320472400048643,
          -1.163646944383385,
          -1.2708462819667734,
          -1.1680852677330202,
          -1.163141770483826,
          -1.0923057416649482,
          -1.1631672231759638,
          -1.1631708245645789,
          -0.8551176515920126,
          -1.1631715382976795,
          -0.8950449579202705,
          -1.163210202566984,
          -0.8547371049343105,
          -1.2333190052318175,
          -2.2519307355759,
          -0.8547414349235275,
          -2.266513301223998,
          -2.2663981156284394,
          -2.323178814625808,
          -1.163235424306458,
          -1.2706565951489615,
          -1.1631765430826135,
          -1.1631773845534281,
          -1.1631702526695957,
          -0.854787173748767,
          -0.49938403359172834,
          -2.2079560649099355,
          -1.1632078129065047,
          -2.259591996733954,
          -2.001680035492726,
          -1.253104226743642,
          -1.1631788543441632,
          -1.1631520331239402,
          -2.0794001803800173,
          -1.1632603280619938,
          -2.2522692173125343,
          -1.1631775436342235,
          -2.219917361235525,
          -1.5566019917863,
          -1.2029514224101192,
          -1.2122168363840502,
          -1.1631789737261273,
          -1.1688004496588862,
          -1.1631987533730872,
          -2.2518934977049696,
          -1.1674314428051578,
          -1.1632400560249252,
          -1.2708474087095631,
          -1.5629329433000745,
          -0.8547345636697896,
          -1.1622734149034732,
          -0.8547379119733606,
          -2.2663015052023785,
          -1.1632084325375285,
          -1.27092625075712,
          -1.2708425657116764,
          -1.270850740665194,
          -2.251871544966168,
          -2.6457278941517575,
          -2.266635991800025,
          -1.2708432529679552,
          -1.5626561995020944,
          -1.8216101392050916,
          -2.145108112932789,
          -1.2708763971512378,
          -1.1631697165622539,
          -1.2708450646842575,
          -0.8837980135200418,
          -0.8547313746957582,
          -1.163168740946466,
          -1.5629372023405044,
          -0.8551227065906205,
          -2.3043417191435798,
          -1.3221575544925903,
          -1.1631718561590703,
          -1.163219315506389,
          -2.2086500801205746,
          -1.267642017119889,
          -2.266277905209372,
          -2.3615945746922526,
          -2.2669053045312464,
          -1.2708439004310241,
          -2.266284763311423,
          -2.266269397907176,
          -1.2676112028356732,
          -2.207939142989424,
          -1.8216173939231077,
          -0.3093764755842896,
          -1.8216715117383233,
          -2.291207224354423,
          -1.8204665953717134,
          -2.188947785089549,
          -1.1632388799057298,
          -1.8643057883666045,
          -1.8643049115102655,
          -1.8643049543835326,
          -1.864303516989154,
          -1.2708296216598425,
          -1.1632348577828748,
          -2.1730002365596484,
          -1.2708459195194532
         ],
         "z": [
          0.033863715867502066,
          0.04072342067387328,
          0.09518055747451863,
          0.04108856496285902,
          0.5123826137605508,
          0.20031954592422158,
          0.5952434362906163,
          0.09523089006510074,
          0.5123602954941815,
          0.0952401641798824,
          0.0410993158031514,
          0.09489650514193305,
          0.09525138688191458,
          0.09525106301857339,
          0.2003208679604993,
          0.3993962562289598,
          0.48471337188308694,
          0.358501394288575,
          0.04109843346618881,
          0.4851976412995727,
          0.20030419962968016,
          0.513559098042077,
          0.041085968335863476,
          0.0952477178930224,
          0.09524717718442469,
          0.20032086915128666,
          0.041106732343735145,
          0.2003208944539301,
          0.3548639214813089,
          0.35852759525255695,
          0.3585237386825922,
          0.35850276564304184,
          0.47025551236280544,
          0.04110761171428496,
          0.04110463296442201,
          0.0411062263135172,
          0.04106254318833091,
          0.0407281941049108,
          0.6902188435546216,
          0.09513377286640605,
          0.503021439921376,
          0.48520050661707326,
          0.4497131140674788,
          0.2003172812486703,
          0.3562973449895004,
          0.09525162161100026,
          0.5113715507247135,
          0.46956430995530213,
          -0.04183903486023618,
          0.2510529617569144,
          0.09525247009814874,
          0.5026399754100753,
          0.5209475335803371,
          0.48434501400569335,
          0.4441240055927245,
          0.04109233872880518,
          0.19020758354582407,
          0.20032512618074197,
          0.041048083907156994,
          0.09523349139155697,
          0.19140552704911282,
          0.42707097072040673,
          0.03519020114471241,
          0.04076924717569469,
          0.04106248642042558,
          0.04109933133798172,
          0.5036170140150105,
          0.5036022349475643,
          0.0940665424624997,
          0.04100071527350873,
          0.04109901249770558,
          0.04109811744489836,
          0.5035687892665319,
          0.5035875253439347,
          0.6304901029945411,
          0.5036238301222049,
          0.5062155786504837,
          0.04110111283249258,
          0.04103751562451558,
          0.04110374976111365,
          0.4838438912905044,
          0.04110775532209514,
          0.04110496309964394,
          0.26372241087911896,
          0.09523478383689028,
          0.04107542351437831,
          0.26382491585576123,
          -0.037784390359447036,
          0.040654828668165305,
          0.5123909767499802,
          0.04107813832512958,
          0.041087260868117634,
          0.20028349368559883,
          0.038536201648811684,
          0.1776608387758143,
          0.26367420582320544,
          0.041106793234421256,
          0.542196873729271,
          0.4695732988618215,
          0.200319705485872,
          -0.001109013217431575,
          0.1996223115025835,
          0.4695707692168945,
          0.2638236660509247,
          0.04108642925528668,
          0.19230927931962985,
          0.20031966990857777,
          0.4501933551645947,
          -0.04184112753922788,
          0.26957066814625685,
          0.041029532066192545,
          0.040245530559261083,
          -0.040279206970256526,
          0.48519941689590024,
          0.3213846365081635,
          0.04109570847149509,
          0.09521325502708539,
          0.04108815068697879,
          0.5141112947538189,
          0.04110002355415645,
          0.487223188229188,
          0.03404785106523265,
          0.04110854873125924,
          0.04107805558310219,
          0.5111407819642331,
          0.09523989764102767,
          0.2090781627095763,
          0.04109100076856304,
          0.5042704287872617,
          0.5988628859508891,
          0.0411060475011439,
          0.09524756945869604,
          0.04107439587649961,
          0.010867694109469351,
          0.041108794025954465,
          0.47226487156170943,
          0.5948305994007721,
          0.48512490736637104,
          0.45472135068352215,
          0.04081605618096587,
          0.20032213007496097,
          0.039011524171231826,
          0.040952927279321816,
          -0.014269954894688254,
          0.04110489048740914,
          0.04110879543793909,
          0.0951209168329372,
          0.04110852273410333,
          0.08717166744500816,
          0.04106776438404944,
          0.09524987978711,
          0.18323211220172494,
          0.5839003846420624,
          0.09525247181276568,
          0.4851559487975622,
          0.4849075879082548,
          0.6564651650603863,
          0.03918018587460615,
          0.19935088728345488,
          0.04110519511158865,
          0.04110585269647537,
          0.04104272577675909,
          0.09515955850342762,
          0.08911258880767682,
          0.5113553648049637,
          0.0410983580512172,
          0.43416300241510547,
          0.5036178144169079,
          0.17767168959257582,
          0.04110700129504477,
          0.04101122237787172,
          0.407427622457945,
          0.04108001702052596,
          0.5820917510007972,
          0.04110241420793949,
          0.4574107025820588,
          0.2510425458531304,
          0.03336183550883817,
          0.16452444838338026,
          0.04109513939665844,
          0.025715063116929306,
          0.04110117497226116,
          0.583921285035512,
          0.040281981837103124,
          0.04107991469823796,
          0.20032301059157143,
          0.26382498604744997,
          0.09524908146488907,
          0.03644906718977152,
          0.09525177723987881,
          0.48519276875872436,
          0.04103946218252573,
          0.20004140641780294,
          0.20030892864298336,
          0.20031730120475102,
          0.5838764189010244,
          0.3858713261397871,
          0.48509348119485884,
          0.20032009315408705,
          0.2620335629311287,
          0.4501696513503132,
          0.514110528456721,
          0.20032230804320503,
          0.04110054254363274,
          0.2003293930502918,
          0.1735947049658893,
          0.09525450672037529,
          0.041098306235301085,
          0.26382593915957214,
          0.09516445389500872,
          0.5974351915830346,
          0.321694141900699,
          0.04110880529130918,
          0.04104186231493526,
          0.5112465157615437,
          0.23360811475011284,
          0.48520120104241404,
          0.6373348277233606,
          0.4817411357001473,
          0.20031076815950796,
          0.4851934968287438,
          0.48519558208893276,
          0.2336148819670124,
          0.5113837068824635,
          0.4493835861373387,
          -0.09744580281402307,
          0.4499563397881924,
          0.4710423307573065,
          0.44272242236583426,
          0.5123898930031384,
          0.041095577961210814,
          0.3585320829957245,
          0.3585313977580826,
          0.3585314312622899,
          0.3585318914496542,
          0.2002502072263097,
          0.041060112740645596,
          0.4695659772995017,
          0.20032630588201775
         ]
        },
        {
         "customdata": [
          [
           "Scrypt"
          ],
          [
           "Scrypt"
          ],
          [
           "SHA-256"
          ],
          [
           "PoS"
          ],
          [
           "Scrypt"
          ],
          [
           "Quark"
          ],
          [
           "Scrypt"
          ]
         ],
         "hovertemplate": "<b>%{hovertext}</b><br><br>Class=%{marker.color}<br>PC 1=%{x}<br>PC 2=%{y}<br>PC 3=%{z}<br>Algorithm=%{customdata[0]}<extra></extra>",
         "hovertext": [
          "Litecoin",
          "CannaCoin",
          "Clockcoin",
          "Atmos",
          "PopularCoin",
          "HerbCoin",
          "Nasdacoin"
         ],
         "legendgroup": "3",
         "marker": {
          "color": [
           3,
           3,
           3,
           3,
           3,
           3,
           3
          ],
          "coloraxis": "coloraxis",
          "symbol": "square"
         },
         "mode": "markers",
         "name": "3",
         "scene": "scene",
         "showlegend": true,
         "type": "scatter3d",
         "x": [
          -0.29990172004248455,
          -0.2839188422136028,
          -0.44518090163899016,
          -0.3496043063486995,
          -0.4232608867167416,
          4.359564144024719,
          -0.41869294177078514
         ],
         "y": [
          3.7861399060837546,
          1.8536432380801104,
          5.652763315903365,
          3.9715484132539665,
          3.33503042894484,
          2.201585203278574,
          3.3868346694230085
         ],
         "z": [
          9.969414421764458,
          12.58136721838112,
          9.635632977772897,
          11.629740750840009,
          14.334382850282376,
          6.1409222253413684,
          15.331596595987998
         ]
        },
        {
         "customdata": [
          [
           "Scrypt"
          ]
         ],
         "hovertemplate": "<b>%{hovertext}</b><br><br>Class=%{marker.color}<br>PC 1=%{x}<br>PC 2=%{y}<br>PC 3=%{z}<br>Algorithm=%{customdata[0]}<extra></extra>",
         "hovertext": [
          "PhoenixCoin"
         ],
         "legendgroup": "2",
         "marker": {
          "color": [
           2
          ],
          "coloraxis": "coloraxis",
          "symbol": "x"
         },
         "mode": "markers",
         "name": "2",
         "scene": "scene",
         "showlegend": true,
         "type": "scatter3d",
         "x": [
          34.11033759657699
         ],
         "y": [
          1.9560270360499104
         ],
         "z": [
          -1.018455984146685
         ]
        }
       ],
       "layout": {
        "autosize": true,
        "coloraxis": {
         "colorbar": {
          "title": {
           "text": "Class"
          }
         },
         "colorscale": [
          [
           0,
           "#0d0887"
          ],
          [
           0.1111111111111111,
           "#46039f"
          ],
          [
           0.2222222222222222,
           "#7201a8"
          ],
          [
           0.3333333333333333,
           "#9c179e"
          ],
          [
           0.4444444444444444,
           "#bd3786"
          ],
          [
           0.5555555555555556,
           "#d8576b"
          ],
          [
           0.6666666666666666,
           "#ed7953"
          ],
          [
           0.7777777777777778,
           "#fb9f3a"
          ],
          [
           0.8888888888888888,
           "#fdca26"
          ],
          [
           1,
           "#f0f921"
          ]
         ]
        },
        "legend": {
         "title": {
          "text": "Class"
         },
         "tracegroupgap": 0
        },
        "margin": {
         "t": 60
        },
        "scene": {
         "aspectmode": "auto",
         "aspectratio": {
          "x": 1,
          "y": 1,
          "z": 1
         },
         "domain": {
          "x": [
           0,
           1
          ],
          "y": [
           0,
           1
          ]
         },
         "xaxis": {
          "title": {
           "text": "PC 1"
          },
          "type": "linear"
         },
         "yaxis": {
          "title": {
           "text": "PC 2"
          },
          "type": "linear"
         },
         "zaxis": {
          "title": {
           "text": "PC 3"
          },
          "type": "linear"
         }
        },
        "template": {
         "data": {
          "bar": [
           {
            "error_x": {
             "color": "#2a3f5f"
            },
            "error_y": {
             "color": "#2a3f5f"
            },
            "marker": {
             "line": {
              "color": "#E5ECF6",
              "width": 0.5
             },
             "pattern": {
              "fillmode": "overlay",
              "size": 10,
              "solidity": 0.2
             }
            },
            "type": "bar"
           }
          ],
          "barpolar": [
           {
            "marker": {
             "line": {
              "color": "#E5ECF6",
              "width": 0.5
             },
             "pattern": {
              "fillmode": "overlay",
              "size": 10,
              "solidity": 0.2
             }
            },
            "type": "barpolar"
           }
          ],
          "carpet": [
           {
            "aaxis": {
             "endlinecolor": "#2a3f5f",
             "gridcolor": "white",
             "linecolor": "white",
             "minorgridcolor": "white",
             "startlinecolor": "#2a3f5f"
            },
            "baxis": {
             "endlinecolor": "#2a3f5f",
             "gridcolor": "white",
             "linecolor": "white",
             "minorgridcolor": "white",
             "startlinecolor": "#2a3f5f"
            },
            "type": "carpet"
           }
          ],
          "choropleth": [
           {
            "colorbar": {
             "outlinewidth": 0,
             "ticks": ""
            },
            "type": "choropleth"
           }
          ],
          "contour": [
           {
            "colorbar": {
             "outlinewidth": 0,
             "ticks": ""
            },
            "colorscale": [
             [
              0,
              "#0d0887"
             ],
             [
              0.1111111111111111,
              "#46039f"
             ],
             [
              0.2222222222222222,
              "#7201a8"
             ],
             [
              0.3333333333333333,
              "#9c179e"
             ],
             [
              0.4444444444444444,
              "#bd3786"
             ],
             [
              0.5555555555555556,
              "#d8576b"
             ],
             [
              0.6666666666666666,
              "#ed7953"
             ],
             [
              0.7777777777777778,
              "#fb9f3a"
             ],
             [
              0.8888888888888888,
              "#fdca26"
             ],
             [
              1,
              "#f0f921"
             ]
            ],
            "type": "contour"
           }
          ],
          "contourcarpet": [
           {
            "colorbar": {
             "outlinewidth": 0,
             "ticks": ""
            },
            "type": "contourcarpet"
           }
          ],
          "heatmap": [
           {
            "colorbar": {
             "outlinewidth": 0,
             "ticks": ""
            },
            "colorscale": [
             [
              0,
              "#0d0887"
             ],
             [
              0.1111111111111111,
              "#46039f"
             ],
             [
              0.2222222222222222,
              "#7201a8"
             ],
             [
              0.3333333333333333,
              "#9c179e"
             ],
             [
              0.4444444444444444,
              "#bd3786"
             ],
             [
              0.5555555555555556,
              "#d8576b"
             ],
             [
              0.6666666666666666,
              "#ed7953"
             ],
             [
              0.7777777777777778,
              "#fb9f3a"
             ],
             [
              0.8888888888888888,
              "#fdca26"
             ],
             [
              1,
              "#f0f921"
             ]
            ],
            "type": "heatmap"
           }
          ],
          "heatmapgl": [
           {
            "colorbar": {
             "outlinewidth": 0,
             "ticks": ""
            },
            "colorscale": [
             [
              0,
              "#0d0887"
             ],
             [
              0.1111111111111111,
              "#46039f"
             ],
             [
              0.2222222222222222,
              "#7201a8"
             ],
             [
              0.3333333333333333,
              "#9c179e"
             ],
             [
              0.4444444444444444,
              "#bd3786"
             ],
             [
              0.5555555555555556,
              "#d8576b"
             ],
             [
              0.6666666666666666,
              "#ed7953"
             ],
             [
              0.7777777777777778,
              "#fb9f3a"
             ],
             [
              0.8888888888888888,
              "#fdca26"
             ],
             [
              1,
              "#f0f921"
             ]
            ],
            "type": "heatmapgl"
           }
          ],
          "histogram": [
           {
            "marker": {
             "pattern": {
              "fillmode": "overlay",
              "size": 10,
              "solidity": 0.2
             }
            },
            "type": "histogram"
           }
          ],
          "histogram2d": [
           {
            "colorbar": {
             "outlinewidth": 0,
             "ticks": ""
            },
            "colorscale": [
             [
              0,
              "#0d0887"
             ],
             [
              0.1111111111111111,
              "#46039f"
             ],
             [
              0.2222222222222222,
              "#7201a8"
             ],
             [
              0.3333333333333333,
              "#9c179e"
             ],
             [
              0.4444444444444444,
              "#bd3786"
             ],
             [
              0.5555555555555556,
              "#d8576b"
             ],
             [
              0.6666666666666666,
              "#ed7953"
             ],
             [
              0.7777777777777778,
              "#fb9f3a"
             ],
             [
              0.8888888888888888,
              "#fdca26"
             ],
             [
              1,
              "#f0f921"
             ]
            ],
            "type": "histogram2d"
           }
          ],
          "histogram2dcontour": [
           {
            "colorbar": {
             "outlinewidth": 0,
             "ticks": ""
            },
            "colorscale": [
             [
              0,
              "#0d0887"
             ],
             [
              0.1111111111111111,
              "#46039f"
             ],
             [
              0.2222222222222222,
              "#7201a8"
             ],
             [
              0.3333333333333333,
              "#9c179e"
             ],
             [
              0.4444444444444444,
              "#bd3786"
             ],
             [
              0.5555555555555556,
              "#d8576b"
             ],
             [
              0.6666666666666666,
              "#ed7953"
             ],
             [
              0.7777777777777778,
              "#fb9f3a"
             ],
             [
              0.8888888888888888,
              "#fdca26"
             ],
             [
              1,
              "#f0f921"
             ]
            ],
            "type": "histogram2dcontour"
           }
          ],
          "mesh3d": [
           {
            "colorbar": {
             "outlinewidth": 0,
             "ticks": ""
            },
            "type": "mesh3d"
           }
          ],
          "parcoords": [
           {
            "line": {
             "colorbar": {
              "outlinewidth": 0,
              "ticks": ""
             }
            },
            "type": "parcoords"
           }
          ],
          "pie": [
           {
            "automargin": true,
            "type": "pie"
           }
          ],
          "scatter": [
           {
            "marker": {
             "colorbar": {
              "outlinewidth": 0,
              "ticks": ""
             }
            },
            "type": "scatter"
           }
          ],
          "scatter3d": [
           {
            "line": {
             "colorbar": {
              "outlinewidth": 0,
              "ticks": ""
             }
            },
            "marker": {
             "colorbar": {
              "outlinewidth": 0,
              "ticks": ""
             }
            },
            "type": "scatter3d"
           }
          ],
          "scattercarpet": [
           {
            "marker": {
             "colorbar": {
              "outlinewidth": 0,
              "ticks": ""
             }
            },
            "type": "scattercarpet"
           }
          ],
          "scattergeo": [
           {
            "marker": {
             "colorbar": {
              "outlinewidth": 0,
              "ticks": ""
             }
            },
            "type": "scattergeo"
           }
          ],
          "scattergl": [
           {
            "marker": {
             "colorbar": {
              "outlinewidth": 0,
              "ticks": ""
             }
            },
            "type": "scattergl"
           }
          ],
          "scattermapbox": [
           {
            "marker": {
             "colorbar": {
              "outlinewidth": 0,
              "ticks": ""
             }
            },
            "type": "scattermapbox"
           }
          ],
          "scatterpolar": [
           {
            "marker": {
             "colorbar": {
              "outlinewidth": 0,
              "ticks": ""
             }
            },
            "type": "scatterpolar"
           }
          ],
          "scatterpolargl": [
           {
            "marker": {
             "colorbar": {
              "outlinewidth": 0,
              "ticks": ""
             }
            },
            "type": "scatterpolargl"
           }
          ],
          "scatterternary": [
           {
            "marker": {
             "colorbar": {
              "outlinewidth": 0,
              "ticks": ""
             }
            },
            "type": "scatterternary"
           }
          ],
          "surface": [
           {
            "colorbar": {
             "outlinewidth": 0,
             "ticks": ""
            },
            "colorscale": [
             [
              0,
              "#0d0887"
             ],
             [
              0.1111111111111111,
              "#46039f"
             ],
             [
              0.2222222222222222,
              "#7201a8"
             ],
             [
              0.3333333333333333,
              "#9c179e"
             ],
             [
              0.4444444444444444,
              "#bd3786"
             ],
             [
              0.5555555555555556,
              "#d8576b"
             ],
             [
              0.6666666666666666,
              "#ed7953"
             ],
             [
              0.7777777777777778,
              "#fb9f3a"
             ],
             [
              0.8888888888888888,
              "#fdca26"
             ],
             [
              1,
              "#f0f921"
             ]
            ],
            "type": "surface"
           }
          ],
          "table": [
           {
            "cells": {
             "fill": {
              "color": "#EBF0F8"
             },
             "line": {
              "color": "white"
             }
            },
            "header": {
             "fill": {
              "color": "#C8D4E3"
             },
             "line": {
              "color": "white"
             }
            },
            "type": "table"
           }
          ]
         },
         "layout": {
          "annotationdefaults": {
           "arrowcolor": "#2a3f5f",
           "arrowhead": 0,
           "arrowwidth": 1
          },
          "autotypenumbers": "strict",
          "coloraxis": {
           "colorbar": {
            "outlinewidth": 0,
            "ticks": ""
           }
          },
          "colorscale": {
           "diverging": [
            [
             0,
             "#8e0152"
            ],
            [
             0.1,
             "#c51b7d"
            ],
            [
             0.2,
             "#de77ae"
            ],
            [
             0.3,
             "#f1b6da"
            ],
            [
             0.4,
             "#fde0ef"
            ],
            [
             0.5,
             "#f7f7f7"
            ],
            [
             0.6,
             "#e6f5d0"
            ],
            [
             0.7,
             "#b8e186"
            ],
            [
             0.8,
             "#7fbc41"
            ],
            [
             0.9,
             "#4d9221"
            ],
            [
             1,
             "#276419"
            ]
           ],
           "sequential": [
            [
             0,
             "#0d0887"
            ],
            [
             0.1111111111111111,
             "#46039f"
            ],
            [
             0.2222222222222222,
             "#7201a8"
            ],
            [
             0.3333333333333333,
             "#9c179e"
            ],
            [
             0.4444444444444444,
             "#bd3786"
            ],
            [
             0.5555555555555556,
             "#d8576b"
            ],
            [
             0.6666666666666666,
             "#ed7953"
            ],
            [
             0.7777777777777778,
             "#fb9f3a"
            ],
            [
             0.8888888888888888,
             "#fdca26"
            ],
            [
             1,
             "#f0f921"
            ]
           ],
           "sequentialminus": [
            [
             0,
             "#0d0887"
            ],
            [
             0.1111111111111111,
             "#46039f"
            ],
            [
             0.2222222222222222,
             "#7201a8"
            ],
            [
             0.3333333333333333,
             "#9c179e"
            ],
            [
             0.4444444444444444,
             "#bd3786"
            ],
            [
             0.5555555555555556,
             "#d8576b"
            ],
            [
             0.6666666666666666,
             "#ed7953"
            ],
            [
             0.7777777777777778,
             "#fb9f3a"
            ],
            [
             0.8888888888888888,
             "#fdca26"
            ],
            [
             1,
             "#f0f921"
            ]
           ]
          },
          "colorway": [
           "#636efa",
           "#EF553B",
           "#00cc96",
           "#ab63fa",
           "#FFA15A",
           "#19d3f3",
           "#FF6692",
           "#B6E880",
           "#FF97FF",
           "#FECB52"
          ],
          "font": {
           "color": "#2a3f5f"
          },
          "geo": {
           "bgcolor": "white",
           "lakecolor": "white",
           "landcolor": "#E5ECF6",
           "showlakes": true,
           "showland": true,
           "subunitcolor": "white"
          },
          "hoverlabel": {
           "align": "left"
          },
          "hovermode": "closest",
          "mapbox": {
           "style": "light"
          },
          "paper_bgcolor": "white",
          "plot_bgcolor": "#E5ECF6",
          "polar": {
           "angularaxis": {
            "gridcolor": "white",
            "linecolor": "white",
            "ticks": ""
           },
           "bgcolor": "#E5ECF6",
           "radialaxis": {
            "gridcolor": "white",
            "linecolor": "white",
            "ticks": ""
           }
          },
          "scene": {
           "xaxis": {
            "backgroundcolor": "#E5ECF6",
            "gridcolor": "white",
            "gridwidth": 2,
            "linecolor": "white",
            "showbackground": true,
            "ticks": "",
            "zerolinecolor": "white"
           },
           "yaxis": {
            "backgroundcolor": "#E5ECF6",
            "gridcolor": "white",
            "gridwidth": 2,
            "linecolor": "white",
            "showbackground": true,
            "ticks": "",
            "zerolinecolor": "white"
           },
           "zaxis": {
            "backgroundcolor": "#E5ECF6",
            "gridcolor": "white",
            "gridwidth": 2,
            "linecolor": "white",
            "showbackground": true,
            "ticks": "",
            "zerolinecolor": "white"
           }
          },
          "shapedefaults": {
           "line": {
            "color": "#2a3f5f"
           }
          },
          "ternary": {
           "aaxis": {
            "gridcolor": "white",
            "linecolor": "white",
            "ticks": ""
           },
           "baxis": {
            "gridcolor": "white",
            "linecolor": "white",
            "ticks": ""
           },
           "bgcolor": "#E5ECF6",
           "caxis": {
            "gridcolor": "white",
            "linecolor": "white",
            "ticks": ""
           }
          },
          "title": {
           "x": 0.05
          },
          "xaxis": {
           "automargin": true,
           "gridcolor": "white",
           "linecolor": "white",
           "ticks": "",
           "title": {
            "standoff": 15
           },
           "zerolinecolor": "white",
           "zerolinewidth": 2
          },
          "yaxis": {
           "automargin": true,
           "gridcolor": "white",
           "linecolor": "white",
           "ticks": "",
           "title": {
            "standoff": 15
           },
           "zerolinecolor": "white",
           "zerolinewidth": 2
          }
         }
        }
       }
      },
      "image/png": "[encoded data removed]",
      "text/html": [
       "<div>                            <div id=\"2459acd5-5972-4eef-bd61-45d3ab864c32\" class=\"plotly-graph-div\" style=\"height:525px; width:100%;\"></div>            <script type=\"text/javascript\">                require([\"plotly\"], function(Plotly) {                    window.PLOTLYENV=window.PLOTLYENV || {};                                    if (document.getElementById(\"2459acd5-5972-4eef-bd61-45d3ab864c32\")) {                    Plotly.newPlot(                        \"2459acd5-5972-4eef-bd61-45d3ab864c32\",                        [{\"customdata\":[[\"Scrypt\"],[\"X13\"],[\"SHA-256\"],[\"Ethash\"],[\"X11\"],[\"CryptoNight-V7\"],[\"SHA-256\"],[\"Scrypt\"],[\"Scrypt\"],[\"Multiple\"],[\"Scrypt\"],[\"Scrypt\"],[\"Scrypt\"],[\"Scrypt\"],[\"Quark\"],[\"Scrypt\"],[\"Scrypt\"],[\"X11\"],[\"Scrypt\"],[\"Groestl\"],[\"Scrypt\"],[\"Scrypt\"],[\"Scrypt\"],[\"NeoScrypt\"],[\"Scrypt\"],[\"Scrypt\"],[\"Scrypt\"],[\"SHA-256\"],[\"Scrypt\"],[\"Scrypt\"],[\"Scrypt\"],[\"Scrypt\"],[\"SHA-256\"],[\"Scrypt\"],[\"Scrypt\"],[\"NeoScrypt\"],[\"Scrypt\"],[\"Scrypt\"],[\"Scrypt\"],[\"Scrypt\"],[\"X11\"],[\"SHA-256\"],[\"Multiple\"],[\"SHA-256\"],[\"X11\"],[\"X11\"],[\"Scrypt\"],[\"Scrypt\"],[\"Scrypt\"],[\"X11\"],[\"SHA-256\"],[\"Scrypt\"],[\"CryptoNight\"],[\"CryptoNight\"],[\"Shabal256\"],[\"Groestl\"],[\"Scrypt\"],[\"Scrypt\"],[\"Scrypt\"],[\"X13\"],[\"Stanford Folding\"],[\"Multiple\"],[\"Scrypt\"],[\"Scrypt\"],[\"Scrypt\"],[\"M7 POW\"],[\"X11\"],[\"SHA3\"],[\"Lyra2RE\"],[\"SHA-256\"],[\"X11\"],[\"Scrypt\"],[\"SHA-256\"],[\"X15\"],[\"SHA-256\"],[\"SHA-256\"],[\"X11\"],[\"Scrypt\"],[\"SHA-256\"],[\"Scrypt\"],[\"Scrypt\"],[\"X11\"],[\"Scrypt\"],[\"X11GOST\"],[\"SHA-256\"],[\"Scrypt\"],[\"PoS\"],[\"Scrypt\"],[\"SHA-256\"],[\"NIST5\"],[\"Scrypt\"],[\"Scrypt\"],[\"Equihash\"],[\"X11\"],[\"Scrypt\"],[\"SHA-256\"],[\"X11\"],[\"Multiple\"],[\"Scrypt\"],[\"Scrypt\"],[\"Scrypt\"],[\"SHA-256D\"],[\"PoS\"],[\"X13\"],[\"SHA-256D\"],[\"Equihash\"],[\"DPoS\"],[\"X11\"],[\"X13\"],[\"X11\"],[\"PoS\"],[\"Scrypt\"],[\"X11\"],[\"PoS\"],[\"SHA-256\"],[\"Scrypt\"],[\"Scrypt\"],[\"X11\"],[\"CryptoNight\"],[\"Scrypt\"],[\"Scrypt\"],[\"Quark\"],[\"QuBit\"],[\"CryptoNight\"],[\"X11\"],[\"X11\"],[\"CryptoNight-V7\"],[\"Scrypt\"],[\"Scrypt\"],[\"X11\"],[\"Scrypt\"],[\"Scrypt\"],[\"Blake2S\"],[\"X11\"],[\"Scrypt\"],[\"X11\"],[\"NIST5\"],[\"PoS\"],[\"Scrypt\"],[\"SHA-256\"],[\"Scrypt\"],[\"Scrypt\"],[\"X15\"],[\"Scrypt\"],[\"POS 3.0\"],[\"CryptoNight-V7\"],[\"Argon2d\"],[\"Blake2b\"],[\"Cloverhash\"],[\"CryptoNight\"],[\"Skein\"],[\"X13\"],[\"X11\"],[\"X11\"],[\"X13\"],[\"Time Travel\"],[\"SkunkHash v2 Raptor\"],[\"X11\"],[\"SHA-256\"],[\"X11\"],[\"Scrypt\"],[\"Scrypt\"],[\"PoS\"],[\"Scrypt\"],[\"Scrypt\"],[\"Scrypt\"],[\"SHA-512\"],[\"Ouroboros\"],[\"X11\"],[\"Equihash\"],[\"NeoScrypt\"],[\"NeoScrypt\"],[\"Lyra2REv2\"],[\"Equihash\"],[\"Scrypt\"],[\"PHI1612\"],[\"Dagger\"],[\"Quark\"],[\"Scrypt\"],[\"Scrypt\"],[\"SHA-256\"],[\"Ethash\"],[\"NeoScrypt\"],[\"NIST5\"],[\"X13\"],[\"Multiple\"],[\"Scrypt\"],[\"Ethash\"],[\"CryptoNight-V7\"],[\"Scrypt\"],[\"Scrypt\"],[\"BLAKE256\"],[\"X11\"],[\"NeoScrypt\"],[\"Scrypt\"],[\"Scrypt\"],[\"Scrypt\"],[\"C11\"],[\"POS 3.0\"],[\"Ethash\"],[\"Scrypt\"],[\"CryptoNight\"],[\"Dagger\"],[\"Lyra2REv2\"],[\"X13\"],[\"Proof-of-BibleHash\"],[\"Scrypt\"],[\"Scrypt\"],[\"X11\"],[\"Proof-of-Authority\"],[\"X11\"],[\"XEVAN\"],[\"VBFT\"],[\"Scrypt\"],[\"Scrypt\"],[\"Scrypt\"],[\"Lyra2Z\"],[\"Green Protocol\"],[\"PoS\"],[\"XEVAN\"],[\"Lyra2Z\"],[\"CryptoNight Heavy\"],[\"CryptoNight\"],[\"Jump Consistent Hash\"],[\"SHA-256D\"],[\"Scrypt\"],[\"Scrypt\"],[\"Quark\"],[\"SHA-256\"],[\"DPoS\"],[\"X16R\"],[\"HMQ1725\"],[\"X16R\"],[\"Quark\"],[\"Quark\"],[\"Scrypt\"],[\"Lyra2REv2\"],[\"Scrypt\"],[\"CryptoNight-V7\"],[\"Cryptonight-GPU\"],[\"CryptoNight Heavy\"],[\"X11\"],[\"X11\"],[\"PoS\"],[\"SHA-256\"],[\"ECC 256K1\"],[\"SHA-256\"],[\"XEVAN\"],[\"X11\"],[\"CryptoNight\"],[\"Blake\"],[\"Equihash\"],[\"Exosis\"],[\"Equihash\"],[\"Equihash\"],[\"Scrypt\"],[\"QuBit\"],[\"X11\"],[\"SHA-256\"],[\"X13\"],[\"SHA-256\"],[\"X11\"],[\"X11\"],[\"NeoScrypt\"],[\"Scrypt\"],[\"Scrypt\"],[\"SHA-256\"],[\"Scrypt\"],[\"X11\"],[\"Scrypt\"],[\"Scrypt\"],[\"Scrypt\"],[\"X11\"],[\"Scrypt\"],[\"PoS\"],[\"Scrypt\"],[\"SHA-256\"],[\"DPoS\"],[\"Scrypt\"],[\"SHA3-256\"],[\"Multiple\"],[\"DPoS\"],[\"Ethash\"],[\"Leased POS\"],[\"TRC10\"],[\"Scrypt\"]],\"hovertemplate\":\"<b>%{hovertext}</b><br><br>Class=%{marker.color}<br>PC 1=%{x}<br>PC 2=%{y}<br>PC 3=%{z}<br>Algorithm=%{customdata[0]}<extra></extra>\",\"hovertext\":[\"42 Coin\",\"EliteCoin\",\"Bitcoin\",\"Ethereum\",\"Dash\",\"Monero\",\"PayCoin\",\"ProsperCoin\",\"Aurora Coin\",\"MyriadCoin\",\"MoonCoin\",\"SexCoin\",\"Quatloo\",\"EnergyCoin\",\"QuarkCoin\",\"Digitalcoin \",\"BitBar\",\"CryptCoin\",\"CasinoCoin\",\"Diamond\",\"Einsteinium\",\"FlutterCoin\",\"Franko\",\"FeatherCoin\",\"GoldCoin\",\"HoboNickels\",\"Infinite Coin\",\"IXcoin\",\"KrugerCoin\",\"Litebar \",\"MegaCoin\",\"MintCoin\",\"MazaCoin\",\"Nautilus Coin\",\"NobleCoin\",\"Orbitcoin\",\"PotCoin\",\"RonPaulCoin\",\"StableCoin\",\"SmartCoin\",\"SyncCoin\",\"SysCoin\",\"TeslaCoin\",\"TigerCoin\",\"TorCoin\",\"UroCoin\",\"UltraCoin\",\"VeriCoin\",\"WorldCoin\",\"X11 Coin\",\"JouleCoin\",\"ZCC Coin\",\"ByteCoin\",\"DigitalNote \",\"BurstCoin\",\"FairCoin\",\"Gulden\",\"RubyCoin\",\"8BIT Coin\",\"Sativa Coin\",\"Folding Coin\",\"Unitus\",\"OmniCron\",\"Vtorrent\",\"GreenCoin\",\"Cryptonite\",\"IslaCoin\",\"Nexus\",\"Crypto\",\"Anarchists Prime\",\"Squall Coin\",\"Song Coin\",\"Emercoin\",\"EverGreenCoin\",\"I0coin\",\"EDRCoin\",\"Hitcoin\",\"Gamecredits\",\"DubaiCoin\",\"BillaryCoin\",\"GPU Coin\",\"Adzcoin\",\"YoCoin\",\"SibCoin\",\"SwingCoin\",\"SafeExchangeCoin\",\"Nebuchadnezzar\",\"Francs\",\"Revenu\",\"VIP Tokens\",\"PutinCoin\",\"Frankywillcoin\",\"Komodo\",\"GoldBlocks\",\"CarterCoin\",\"ZayedCoin\",\"MustangCoin\",\"Circuits of Value\",\"RootCoin\",\"Swiscoin\",\"Shilling\",\"BuzzCoin\",\"CoffeeCoin\",\"RoyalCoin\",\"LanaCoin\",\"ZClassic\",\"ARK\",\"InsaneCoin\",\"EmberCoin\",\"XenixCoin\",\"FreeCoin\",\"PLNCoin\",\"Kurrent\",\"Creatio\",\"Eurocoin\",\"BitcoinFast\",\"MoneyCoin\",\"Enigma\",\"Cannabis Industry Coin\",\"GameUnits\",\"GAKHcoin\",\"Allsafe\",\"LiteCreed\",\"Bikercoins\",\"KushCoin\",\"PacCoin\",\"Citadel\",\"Zilbercoin\",\"FirstCoin\",\"VaultCoin\",\"OpenChat\",\"Canada eCoin\",\"TajCoin\",\"Impact\",\"EB3coin\",\"HappyCoin\",\"Coinonat\",\"MacronCoin\",\"Independent Money System\",\"ProCurrency\",\"GrowthCoin\",\"Degas Coin\",\"HTML5 Coin\",\"EquiTrader\",\"QTUM\",\"Quantum Resistant Ledger\",\"Dynamic\",\"Nano\",\"ChanCoin\",\"Dinastycoin\",\"Bitcoin Planet\",\"BritCoin\",\"ArcticCoin\",\"DAS\",\"DeepOnion\",\"Bitcore\",\"Signatum\",\"Onix\",\"Bitcoin Cash\",\"Monoeci\",\"Draftcoin\",\"Sojourn Coin\",\"Stakecoin\",\"Kronecoin\",\"AdCoin\",\"Linx\",\"Obsidian\",\"Cardano\",\"Regalcoin\",\"BitcoinZ\",\"TrezarCoin\",\"VIVO Coin\",\"Rupee\",\"Bitcoin Gold\",\"WomenCoin\",\"LUXCoin\",\"Pirl\",\"Bitcloud 2.0\",\"eBoost\",\"BlackholeCoin\",\"Infinity Economics\",\"Ellaism\",\"GoByte\",\"Electra\",\"Bitcoin Diamond\",\"SHIELD\",\"Cash & Back Coin\",\"DaxxCoin\",\"Lethean\",\"GermanCoin\",\"LiteCoin Ultra\",\"Photon\",\"Sucre\",\"GunCoin\",\"IrishCoin\",\"Trollcoin\",\"Litecoin Plus\",\"Interzone\",\"TokenPay\",\"1717 Masonic Commemorative Token\",\"My Big Coin\",\"Niobio Cash\",\"Travelflex\",\"KREDS\",\"Tokyo Coin\",\"BiblePay\",\"BitFlip\",\"LottoCoin\",\"Crypto Improvement Fund\",\"Poa Network\",\"Pushi\",\"Ellerium\",\"Ontology\",\"Poseidon\",\"Briacoin\",\"Ignition\",\"Alpenschillling\",\"Bitcoin Green\",\"Deviant Coin\",\"Bitcoin Incognito\",\"GINcoin\",\"Loki\",\"Newton Coin\",\"MassGrid\",\"TheVig\",\"EmaratCoin\",\"Lynx\",\"Poseidon Quark\",\"BitcoinWSpectrum\",\"Muse\",\"Motion\",\"PlusOneCoin\",\"Trivechain\",\"Dystem\",\"Giant\",\"Peony Coin\",\"Absolute Coin\",\"TPCash\",\"Webchain\",\"Ryo\",\"Qwertycoin\",\"ARENON\",\"EUNO\",\"Ketan\",\"Project Pai\",\"Acute Angle Cloud\",\"Bitcoin SV\",\"BitMoney\",\"Junson Ming Chan Coin\",\"FREDEnergy\",\"Lithium\",\"PirateCash\",\"Exosis\",\"Beam\",\"Bithereum\",\"Credit\",\"SLICE\",\"Dash Platinum\",\"BLAST\",\"Bitcoin Rhodium\",\"GlobalToken\",\"Insane Coin\",\"TruckCoin\",\"UFO Coin\",\"OrangeCoin\",\"BitstarCoin\",\"NeosCoin\",\"HyperCoin\",\"PinkCoin\",\"Crypto Escudo\",\"AudioCoin\",\"Genstake\",\"CapriCoin\",\" ClubCoin\",\"Radium\",\"Bata\",\"OKCash\",\"Lisk\",\"HiCoin\",\"Fiii\",\"JoinCoin\",\"EOS\",\"Reality Clash\",\"Waves\",\"BitTorrent\",\"Gapcoin\"],\"legendgroup\":\"0\",\"marker\":{\"color\":[0,0,0,0,0,0,0,0,0,0,0,0,0,0,0,0,0,0,0,0,0,0,0,0,0,0,0,0,0,0,0,0,0,0,0,0,0,0,0,0,0,0,0,0,0,0,0,0,0,0,0,0,0,0,0,0,0,0,0,0,0,0,0,0,0,0,0,0,0,0,0,0,0,0,0,0,0,0,0,0,0,0,0,0,0,0,0,0,0,0,0,0,0,0,0,0,0,0,0,0,0,0,0,0,0,0,0,0,0,0,0,0,0,0,0,0,0,0,0,0,0,0,0,0,0,0,0,0,0,0,0,0,0,0,0,0,0,0,0,0,0,0,0,0,0,0,0,0,0,0,0,0,0,0,0,0,0,0,0,0,0,0,0,0,0,0,0,0,0,0,0,0,0,0,0,0,0,0,0,0,0,0,0,0,0,0,0,0,0,0,0,0,0,0,0,0,0,0,0,0,0,0,0,0,0,0,0,0,0,0,0,0,0,0,0,0,0,0,0,0,0,0,0,0,0,0,0,0,0,0,0,0,0,0,0,0,0,0,0,0,0,0,0,0,0,0,0,0,0,0,0,0,0,0,0,0,0,0,0,0,0,0,0,0,0,0,0,0,0,0,0,0,0,0,0,0,0,0,0,0,0,0,0,0,0,0],\"coloraxis\":\"coloraxis\",\"symbol\":\"circle\"},\"mode\":\"markers\",\"name\":\"0\",\"scene\":\"scene\",\"showlegend\":true,\"type\":\"scatter3d\",\"x\":[2.3022694344395154,-0.3147056816763041,-0.33139288701728803,-0.33137492301129684,-0.3310592056072247,-0.36423244268521165,0.6445808645180559,-0.2449253899875608,3.7347994355317486,-0.3310650501130744,-0.3460673927109588,-0.3311760067969699,3.7176794100974684,-0.35023125874257355,-0.32213707343691805,-0.3310520132323375,-0.39068778844880714,-0.33105869987640013,-0.28031291565327726,-0.3309110915578744,-0.34356117376750595,-0.3682517872615965,0.4183488982526586,-0.3307562769092211,-0.3310877514638133,-0.3309848952656735,-0.32361597286112187,-0.33136126258409176,-0.28357541074450177,-0.39257084429014694,-0.3524293243291797,-0.33138882077907866,-0.32478120822575024,-0.2821553724785464,-0.39583392507499393,-0.4150059626500864,-0.388214263123741,-0.3019424172576373,-0.14647416978904174,0.03924674270228889,-0.30543216737019985,-0.2763726056709914,-0.3247967869554961,-0.39449953736515286,-0.3313730782979782,-0.3221756088026253,-0.3120621029735,-0.32102584929953987,-0.32898997072552677,-0.3285453598401149,-0.28341185570095717,-0.3899155009736461,-0.3562264720546366,0.5763511238112037,-0.41450994973891636,0.6157364080743498,-0.35034786614125185,-0.3302263218262301,-0.39358853656815734,-0.34654481429786416,-0.324815765052121,-0.07349405582229593,-0.33038683548581704,-0.27788340455609933,-0.3233875894751809,-0.28387922090252354,-0.2822980012733194,-0.2038079054377446,-0.3634708022984244,-0.3528306935557997,-0.45197662873853256,-0.3502307530888785,0.20737817586550908,-0.32475206939219753,-0.2516265250045537,-0.34911124603743254,-0.33053281983718324,0.8503220261979273,-0.3173341519891384,-0.32988672959353904,-0.39335529590545387,3.7279590338313935,-0.39100444823932556,0.5537717051975813,-0.33131169853278897,-0.32465920076111965,-0.393123892417447,-0.3242099044897697,-0.3628912719017727,-0.23660588014296235,-0.24159710660662004,-0.3233128788155321,-0.28701619439817655,-0.3294598093436144,-0.33430652496195434,-0.33132879102539703,-0.3972696261469492,-0.32943718643035513,-0.3933100130737407,-0.33055217375766516,0.08331091338242824,-0.3975191925023916,-0.39507688172608746,-0.28216801269410063,-0.26643524473292907,-0.37997793953536685,-0.32944933380025004,-0.39681302752998326,-0.39288250796868185,-0.07098333181698852,0.8839107186858265,-0.2835729614743595,-0.32614997592445494,-0.3312750121506213,-0.33102308530058927,-0.33134296029903526,-0.33123356824945516,-0.33117674469643704,-0.39172098901216257,-0.3934178386915978,-0.39335134272768707,-0.39348304156131814,-0.32477315785246397,-0.3938365644929585,-0.13606205914339145,-0.641735798500223,-0.3275536546374176,-0.3664057275130195,-0.3226759764287583,-0.35011700531853496,-0.24918386673960907,-0.28393861002736626,-0.3937194921603453,-0.2757256067779718,-0.3339929569048691,-0.3313338681930445,0.1043086225472833,0.1338997232725966,-0.35225253768302744,-0.32429492347423505,3.7180715885403344,-0.34829985899641897,-0.3302260665368422,-0.38780253046176455,2.2865978397043736,-0.39236635465277153,-0.4652951052236749,-0.323117214413915,-0.29206630753544366,-0.31652970767452987,-0.27741371710170476,-0.3236077448018237,-0.023616004490461157,-0.2810682845783403,-0.3266449283139537,-0.34649041371980455,-0.39382576631893784,-0.23540709324518905,1.017198934613326,-0.28804476882168584,-0.33758175183721356,-0.2839183076599226,-0.28323962898900507,-0.32389280236120244,-0.2775885097199742,-0.10404233466865805,-0.27854767401184055,-0.330545705133526,-0.3239919496012719,-0.5343162322752797,-0.23850310735481695,-0.32357652109751456,-0.3299312278856729,-0.44634877154832353,-0.3232944035287883,-0.2836462009088684,-0.32969421998111925,-0.283862967159113,-0.3346807872536044,-0.33106309754665014,3.7292054200664304,-0.324104570313435,-0.34592896606024576,-0.3239272584198153,-0.38071426389777285,-0.3849686623667235,-0.23731022219041611,-0.3309104095387927,0.3601967047859243,-0.39294761388640914,-0.16450798497286795,-0.34582341942609796,-0.3256889797754642,0.25532774466198305,-0.31964007391836163,-0.3311063655121413,-0.33098260237081867,-0.39365126259748,-0.3072578097367776,-0.22971328305858416,-0.3297927039080431,-0.3510293343528478,-0.3241688234571079,-0.38882011202368655,-0.2838983704128473,-0.33026912588101875,0.027398578960908592,-0.3935747267108108,-0.3233588400071563,-0.28354571465386996,-0.33136914564416203,-0.23683832756287868,-0.31714219474547833,-0.11598240874481208,-0.2251362106864168,3.9110391376858344,-0.1342188823012199,-0.31455859529545827,-0.36835090965008127,-0.35053692271975806,-0.38737050051007127,-0.32379360490173414,-0.2838906888181727,-0.34607267452684676,-0.3246157584834035,-0.3938550691282706,-0.42853222778746736,3.7225404962802346,-0.2584604101918903,-0.32192669096656273,-0.3312673480858541,-0.24807574945410915,-0.30500108720498775,-0.22839456629566876,-0.39376664783806203,-0.3525348810443225,-0.3242349061298593,-0.2840458910004715,-0.3908862407130621,-0.3177767354986145,-0.3661376055678416,-0.19076696553770106,-0.2957717830673428,-0.32967490207019734,-0.34651852520975285,-0.3312581882152219,-0.2762456401981237,-0.3065959212017441,-0.32687331046661583,-0.33006887760710374,-0.34108553339557945,-0.35129305478604617,-0.34894874887343885,-0.28303874113734495,-0.2642525011526167,-0.33110902143554866,-0.3513312996347891,-0.349281222274093,0.438995808672152,-0.2842224173275978,-0.34277893322944564,-0.393731014673937,-0.2485433429431855,-0.32389280236120244,-0.330811548285209,-0.3526900452408218,-0.3937806027944416,-0.393361257316437,-0.09085757565349599,-0.10381413146881838,-0.3312176491842107,-0.39363383208448316,-0.3938096606914582,-0.32284852621966154,-0.2775557368029279,-0.39167639241146257,-0.37438862591254074,-0.2836434328736011,-0.2838256554717842,-0.39298480804094077,-0.32618105339125375,-0.28380525859334865,-0.32248979930535093,0.8703503024726015,2.459491010761944,-0.3312123585107624],\"y\":[1.7551350288832201,1.0146212466126892,1.0143142438483579,1.0143149712145343,1.0143069662781088,0.8553215999714721,1.1840960722313583,1.010539430030489,1.6843061307210732,1.0142984144881149,0.9985981315657708,1.0143032072651845,1.6842192785410213,1.3539295758279355,1.4270390600170764,1.0143164259259192,1.3225903599372992,1.014308372613482,1.868114652272998,1.0143108844170194,1.2936607048833517,1.246036345831695,0.5369983004104407,1.0143024236498628,1.0143163511495734,1.0143016598440295,1.0146291200848685,1.0143134455172687,1.8681072857949024,1.3227088308766946,1.603410898473615,1.014314062048903,0.9066317722190426,0.6902560368123193,1.6780067607722777,2.075762673405374,1.294109697158675,0.9696058434125295,0.4211259683372876,2.10540896118274,1.2792774236700235,0.5824857734928269,0.9066318343879259,1.678060788235209,1.0143143529748406,1.427086205882408,1.0144039903430977,0.9064352778182007,1.0143006658213898,1.0142840210085025,1.8681000493158577,1.3227685298187788,0.8639313615011184,0.9992363812380394,2.0757827562635827,0.23448159124027435,1.3539259840351197,1.014299112788028,1.3227486987159902,0.9986032618559919,0.9066383417517295,0.9657733503798163,1.0142822198751276,1.0129316156051102,1.4270038738188187,0.6901741795824214,0.690180969022842,1.6260387822406015,0.9243902903778373,1.6034223647846266,2.0763225498409827,1.3539254387240052,1.6053234697978245,0.9066329520090227,1.9501985793440666,1.2937408793303484,1.014290860696062,1.9134489801567294,0.9062556078755719,1.0143752260521108,1.3227318109772885,1.6847221020944643,1.3226024842949655,1.8744177097700894,1.0143146207798759,0.9066380979870227,1.3227481094710367,1.427031557249854,0.9244167897717049,1.5439679744689838,0.1844063643293276,1.4270332300691313,0.12916881161687915,1.0143232184944337,0.6145329528649977,1.0143145414250345,1.6780740265738916,1.0142201950357945,1.3227405737100393,1.0143378892203139,0.9964585355994022,1.678073543312375,2.0101936818443376,0.6901023511333734,0.6895066634114807,1.3222756226234391,1.0143097840438697,1.6780682860148237,1.3227232363084036,1.3174284908566927,1.9338294350627916,0.6901806244799372,0.999442670603326,1.01431901646337,1.0142984967484436,1.014312800691749,1.0143054962141127,1.0143082966681454,1.3227633352658479,1.3227500665943686,1.3227527589214931,1.3227529700589657,0.9066327910967437,1.322753900867106,1.0071390603421486,1.2858548044250813,1.0141232241821778,1.3210254137897322,1.4269481486186004,1.3539307371391744,1.9500731764354748,1.8681050531032397,1.3227521592968108,2.1013136396015857,0.9986698647482543,1.0143138617477276,1.0077026458433935,0.9985068046526445,1.3637448036481588,1.0139087008172138,1.6842109612988894,0.6209002941941894,1.0142575473530278,1.8302927400687667,0.22443170133887266,1.3227136457240345,1.5899943224229836,0.9066450964621565,0.1442661995903566,1.4270653457008178,0.6901015549423373,1.0143522814186021,0.7007239285781961,0.6901198897815829,1.014055620574181,0.9986045636497455,1.3227522592812686,1.5438879904416916,1.4907101819881454,0.9064580878184565,1.6032151866434703,0.6901734464713366,1.8681416690068717,1.4270305376741756,0.5824914663868265,0.9154527634997182,0.6900556426377825,1.0142903389887163,0.90663185342164,1.0848358300672138,1.7409031849605519,1.427001767681974,1.0142348384751205,1.294187528987442,0.906634457678976,1.8681121123752429,1.2025648977203767,1.8681164309297886,0.6145568794560747,1.0143130450647124,1.684772566502684,1.4270298392305307,0.9985725544357508,1.427022213302088,1.322592274656797,1.3227664848668526,-0.010993104434293726,1.0143070732014525,0.6937334141716339,1.322755246738362,0.6833227620922817,1.353668032734404,1.0142541565803886,0.5521133259310711,0.5857205245339699,1.014311986135772,1.0143308557199986,1.3227440802395973,1.0139055798302132,1.6084141431479344,1.014311125925426,1.3637482496002933,1.4270269841968177,1.3226105451410588,0.6901854653018126,1.0142599615184764,1.0288412006871936,1.3227457932098887,0.9065502736095483,0.6901758887477358,1.014315205131929,1.5439668952917966,0.531196201623207,0.23108446177561173,0.10728489211401673,1.6437455899776854,1.0152296581294409,1.164307202036892,1.419705624415227,0.97951017139368,0.6892275947568688,1.4270057281945516,1.8681083792239737,0.9986360288362444,0.9066259983127049,1.3227531509477777,1.9607991668734974,1.6841562484449435,0.5825875579642901,1.4269154295361568,1.0143084246795546,0.031699661960470575,1.5060413266726003,1.5437561599838374,1.3227498023979318,1.3637392618674515,1.0139111308342357,1.868108941451745,1.3228733552861476,1.0142419059417187,0.9098636524916294,1.0075352562936501,2.1022384797798574,0.6144850011721051,0.9986041183849707,1.014310689556834,0.5824217445372196,1.0142095505655127,1.0143364754630833,1.0142985581856003,2.103799145051857,1.6034291872325248,1.353922603821438,0.6901343472094144,0.10907001076845405,1.014311878601206,1.6034068508672725,1.3538952838552747,1.02818294981845,0.6901716521730069,0.6602361820763768,1.3227543633169798,0.031750022716469144,1.4270305376741756,1.014304346221667,0.9660405336919409,1.3227534965929073,1.3227454281986604,0.6910659951857119,0.5833055299474587,1.0143067874884415,1.3227555213456057,1.3227515255162043,1.427035400737623,0.5824986832166198,1.3227893934521242,0.8680062368295218,1.8681253195611704,0.6901579205275307,1.3227190943237903,1.0143173847612643,0.6901511241434264,1.0139817877307116,0.668319331853564,0.7761851855338008,1.0143070017002942],\"z\":[-0.8411508807634271,-0.6669675540268148,-0.6665170389479331,-0.666517607346754,-0.6665232277409818,-0.3859148451022957,-0.08105123774745547,-0.667723738543774,-0.11061489491587011,-0.6665212951740286,-0.19930712839951664,-0.6665197359678751,-0.11020063860011411,-0.2053230094843362,-0.10328319267053329,-0.6665253822950135,-0.6124101953560671,-0.6665235350164699,-0.8051589173016701,-0.6665274772540456,-0.5341255831831103,0.010694813419913688,-0.10130662939850844,-0.6665292800134556,-0.6665245399203324,-0.6665238313249727,-0.6667631055217036,-0.6665176026607035,-0.8050819045032936,-0.6123915382319325,-0.7494667132835175,-0.6665170947939806,-0.5072988627793509,-0.2535069031315951,-0.618421211412707,-1.0291342663942107,-0.059969134393863824,-0.12093992156822056,-0.08820793356720523,-0.9498677573290694,-0.33638893646125273,-0.09425110178197675,-0.5072985154952372,-0.6184634322984067,-0.6665175200777521,-0.10329221022503571,-0.6669830404797472,-0.5073444293817135,-0.6665697668645273,-0.6665765527930548,-0.8050841667517228,-0.6124655060555274,-0.08879942526884843,-0.6843450019614215,-1.0291499605618606,-0.28282104894498744,-0.2053195573393937,-0.6665408425045554,-0.6123763773129951,-0.19929716345657256,-0.5072994442036999,-0.5056596884800074,-0.6665335791953033,-0.6674641682123095,-0.10324687178978213,-0.2534498245179488,-0.25348782657285035,-0.4821254999427663,-0.5299302537452987,-0.7494598391797049,-1.0490785274115133,-0.20532215166203,-0.7628175570494004,-0.5072997847507928,-0.8951898078780834,-0.5340140555699106,-0.6665320185317989,-0.8408397266970472,-0.5073920595233261,-0.6665646947440131,-0.6123782229947072,-0.11054409712396965,-0.6124054189656398,-0.9204631242801162,-0.666518996134874,-0.507303014447871,-0.6123870011191463,-0.10323366926251376,-0.5299492283496309,-0.3920022619627746,-0.3187776004613777,-0.10325476988604868,-0.1749467505300498,-0.666563639083497,-0.44380161518824346,-0.6665185840911761,-0.6184021399466162,-0.6665425093491647,-0.6123811121418289,-0.6665414551087195,-0.672356688069243,-0.618396265675032,-0.9325256496164502,-0.2534743097627606,-0.25371302424979164,-0.6125917739939079,-0.6665610577980474,-0.618411494971253,-0.6123873568324602,-0.6187203573695151,-0.918015444127471,-0.25345826314377834,-0.19994533831228495,-0.6665207685906704,-0.6665222831482668,-0.6665178904829405,-0.6665188855993253,-0.6665207885681974,-0.612422651670388,-0.6123806132082854,-0.612382717183368,-0.612379715242888,-0.5072992631352605,-0.6123717335620906,-0.20595984230397274,0.02115524230978362,-0.666565696277206,-0.00025269391569855194,-0.1032516199803017,-0.20532589635158954,-0.8952199521952363,-0.8050730341088409,-0.6123740755182785,-0.9417214172018472,-0.19960149789195744,-0.666518323799943,-0.6752056228837674,-0.6739573505635854,-0.023482653996534736,-0.6665959861683679,-0.1102079619701837,-0.45658860912248206,-0.66653211236693,-0.6773905447776783,-0.34316431686296694,-0.6123972802310343,-0.6392116059326998,-0.5073401529345007,-0.42202829077365983,-0.10341842086363742,-0.2535841136990076,-0.6667051110951568,-0.261687255081918,-0.2535034336932385,-0.6665725073288561,-0.19929869539786943,-0.6123716383125068,-0.39201318032233523,-0.0938512557436751,-0.508112106536292,-0.7497690175733045,-0.2534487663228128,-0.8050968979616563,-0.1032407898395067,-0.09422417329887711,-0.5142587157622,-0.25354823457277004,-0.6665316108327322,-0.5073171361317691,-0.20584093047156546,-0.16872490373632862,-0.10324205896704368,-0.6665341594056012,-0.058640787533254725,-0.5073338183723052,-0.8050812814906971,0.06371679575863229,-0.8050771751408912,-0.44379798694061146,-0.6665244153297872,-0.1105835335863847,-0.10323574465407762,-0.19930495464645132,-0.10323824325845236,-0.6126412946768679,-0.6125795012315278,0.06397211388405265,-0.6665266920050366,-0.26909596383133716,-0.6123925786852878,-0.25477099097367073,-0.2053699969127403,-0.6666363467431188,-0.10016627591530973,-0.06093579116388826,-0.6665231919404393,-0.666530020624243,-0.6123739557103112,-0.6669894144898022,-0.7533568096321748,-0.6665533973591287,-0.02351167208180474,-0.10323365836054754,-0.6124576388863148,-0.2534517535554891,-0.66653162376309,-0.6778694317881211,-0.6123760860811714,-0.5073146344543704,-0.2534578980524248,-0.6665177901463682,-0.3919966584211126,0.02715908096473025,-0.26518171864612977,-0.2583768291699562,-0.04291859529980454,-0.6712702547525279,0.04101476640127674,-0.09079451610017579,-0.5153162965058329,-0.08297436153027027,-0.10323787002021241,-0.8050748416405713,-0.19931497131001374,-0.5073014762511072,-0.6123711479178862,-0.8509443689232628,-0.1102998326499562,-0.09468682013139199,-0.10326207489478707,-0.6665187197324656,0.15560560116022681,-0.2651161665565138,-0.3921476790355025,-0.6123724894008454,-0.023474958384732614,-0.6665978851557596,-0.8050713698364249,-0.6124650837047584,-0.6668167895217022,-0.47402715364198916,-0.6683450690463247,-0.9414521094053581,-0.44389867065220623,-0.19929795156915928,-0.6665194076308628,-0.09424058128341993,-0.6670686118365542,-0.6666262534988282,-0.6665443677717586,-0.9407319740931399,-0.7494968401061868,-0.2053512097836543,-0.2534608938008938,-0.24216840252204247,-0.6665231079053138,-0.7494912609069929,-0.2053377773729586,-0.687251709985235,-0.2534413548656918,-0.004618131404704142,-0.6123742722232212,0.15560583242716702,-0.1032407898395067,-0.66652840561295,-0.5418707122471114,-0.6123729430395979,-0.61238094711021,-0.25810203252074393,-0.09841483253863306,-0.6665195252165346,-0.6123767635362773,-0.6123718566310844,-0.10326596701489364,-0.09422644816887116,-0.6124291600276964,-0.1732664363567233,-0.8050841213469354,-0.25344764627856997,-0.6123841199923529,-0.6666382536476002,-0.25344668964281714,-0.6666531014585086,-0.27555486923222766,-0.11145892926077558,-0.6665196926168465]},{\"customdata\":[[\"Scrypt\"],[\"Ethash\"],[\"Equihash\"],[\"SHA-512\"],[\"Multiple\"],[\"SHA-256\"],[\"X15\"],[\"X11\"],[\"Scrypt\"],[\"Scrypt\"],[\"SHA-256\"],[\"Groestl\"],[\"Scrypt\"],[\"Scrypt\"],[\"Multiple\"],[\"SHA-256\"],[\"Scrypt\"],[\"Scrypt\"],[\"Scrypt\"],[\"PoS\"],[\"Scrypt\"],[\"Scrypt\"],[\"X11\"],[\"X11\"],[\"Scrypt\"],[\"SHA3\"],[\"HybridScryptHash256\"],[\"Scrypt\"],[\"X13\"],[\"SHA-256\"],[\"Scrypt\"],[\"X13\"],[\"Scrypt\"],[\"X11\"],[\"PHI1612\"],[\"SHA-256\"],[\"SHA-256\"],[\"SHA-256\"],[\"Scrypt\"],[\"Scrypt\"],[\"Lyra2REv2\"],[\"Multiple\"],[\"X13\"],[\"Counterparty\"],[\"Scrypt\"],[\"SHA-256\"],[\"Scrypt\"],[\"X13\"],[\"Scrypt\"],[\"Scrypt\"],[\"Scrypt\"],[\"Scrypt\"],[\"X11\"],[\"QuBit\"],[\"Scrypt\"],[\"SHA-256\"],[\"Scrypt\"],[\"X11\"],[\"QUAIT\"],[\"X11\"],[\"Scrypt\"],[\"Scrypt\"],[\"Ethash\"],[\"X13\"],[\"Blake2b\"],[\"X11\"],[\"BLAKE256\"],[\"Scrypt\"],[\"1GB AES Pattern Search\"],[\"SHA-256\"],[\"NIST5\"],[\"Dagger\"],[\"X11\"],[\"Scrypt\"],[\"X11\"],[\"X11\"],[\"X11\"],[\"Scrypt\"],[\"POS 3.0\"],[\"Scrypt\"],[\"X13\"],[\"X11\"],[\"X11\"],[\"CryptoNight\"],[\"SHA-256\"],[\"Scrypt\"],[\"Scrypt\"],[\"Scrypt\"],[\"SHA-256\"],[\"PoS\"],[\"Scrypt\"],[\"X11\"],[\"Lyra2Z\"],[\"X14\"],[\"PoS\"],[\"Ethash\"],[\"Scrypt\"],[\"X11\"],[\"Scrypt\"],[\"X11\"],[\"X11\"],[\"Scrypt\"],[\"Scrypt\"],[\"Scrypt\"],[\"Scrypt\"],[\"Lyra2RE\"],[\"Scrypt\"],[\"SHA-256\"],[\"Scrypt\"],[\"Scrypt\"],[\"Scrypt\"],[\"X13\"],[\"Equihash\"],[\"Lyra2RE\"],[\"Scrypt\"],[\"Dagger-Hashimoto\"],[\"X11\"],[\"X11\"],[\"Scrypt\"],[\"Scrypt\"],[\"X11\"],[\"Scrypt\"],[\"SHA-256\"],[\"PoS\"],[\"SHA-256\"],[\"536\"],[\"NIST5\"],[\"X11\"],[\"NIST5\"],[\"Scrypt\"],[\"Scrypt\"],[\"Scrypt\"],[\"CryptoNight\"],[\"Scrypt\"],[\"Keccak\"],[\"Skein\"],[\"VeChainThor Authority\"],[\"Scrypt\"],[\"Scrypt\"],[\"Scrypt\"],[\"Scrypt\"],[\"CryptoNight\"],[\"X11\"],[\"Scrypt\"],[\"SHA-256\"],[\"NIST5\"],[\"Scrypt\"],[\"POS 2.0\"],[\"X11\"],[\"NeoScrypt\"],[\"X11\"],[\"DPoS\"],[\"CryptoNight\"],[\"CryptoNight\"],[\"NIST5\"],[\"Quark\"],[\"X11\"],[\"X11\"],[\"NeoScrypt\"],[\"Quark\"],[\"X11\"],[\"X11\"],[\"SHA-256\"],[\"CryptoNight\"],[\"SkunkHash\"],[\"Scrypt\"],[\"Scrypt\"],[\"SHA-256 + Hive\"],[\"C11\"],[\"Scrypt\"],[\"Ethash\"],[\"CryptoNight\"],[\"IMesh\"],[\"NIST5\"],[\"Equihash\"],[\"Scrypt\"],[\"Scrypt\"],[\"Semux BFT consensus\"],[\"X11\"],[\"Quark\"],[\"PoS\"],[\"CryptoNight\"],[\"X16R\"],[\"Scrypt\"],[\"NIST5\"],[\"Lyra2RE\"],[\"Tribus\"],[\"Scrypt\"],[\"CryptoNight\"],[\"Scrypt\"],[\"Scrypt\"],[\"CryptoNight\"],[\"X15\"],[\"X11\"],[\"Quark\"],[\"Scrypt\"],[\"XEVAN\"],[\"Scrypt\"],[\"Keccak\"],[\"X11\"],[\"X11\"],[\"Scrypt\"],[\"SHA-512\"],[\"X16R\"],[\"Equihash\"],[\"XEVAN\"],[\"Lyra2Z\"],[\"Blake\"],[\"Scrypt\"],[\"Scrypt\"],[\"Quark\"],[\"Quark\"],[\"XEVAN\"],[\"SHA-256D\"],[\"X11\"],[\"DPoS\"],[\"Scrypt\"],[\"Scrypt\"],[\"Blake\"],[\"SHA-256\"],[\"X11\"],[\"SHA-256\"],[\"Scrypt\"],[\"Scrypt\"],[\"Groestl\"],[\"Scrypt\"],[\"X11\"],[\"Scrypt\"],[\"NeoScrypt\"],[\"X13\"],[\"Equihash+Scrypt\"],[\"DPoS\"],[\"SHA-256\"],[\"PoS\"],[\"PoS\"],[\"SHA-256\"],[\"CryptoNight\"],[\"Equihash\"],[\"Scrypt\"]],\"hovertemplate\":\"<b>%{hovertext}</b><br><br>Class=%{marker.color}<br>PC 1=%{x}<br>PC 2=%{y}<br>PC 3=%{z}<br>Algorithm=%{customdata[0]}<extra></extra>\",\"hovertext\":[\"404Coin\",\"Ethereum Classic\",\"ZCash\",\"Bitshares\",\"DigiByte\",\"BitcoinDark\",\"KoboCoin\",\"Spreadcoin\",\"Argentum\",\"BlueCoin\",\"ZetaCoin\",\"Riecoin\",\"Catcoin\",\"CryptoBullion\",\"Verge\",\"DevCoin\",\"EarthCoin\",\"E-Gulden\",\"Emerald\",\"Exclusive Coin\",\"GrandCoin\",\"GlobalCoin\",\"HyperStake\",\"IOCoin\",\"LuckyCoin\",\"MaxCoin\",\"MediterraneanCoin\",\"MinCoin\",\"NavCoin\",\"Namecoin\",\"NyanCoin\",\"OpalCoin\",\"Reddcoin\",\"SuperCoin\",\"TittieCoin\",\"TerraCoin\",\"UnbreakableCoin\",\"Unobtanium\",\"UnitaryStatus Dollar\",\"ViaCoin\",\"Vertcoin\",\"Crypti\",\"StealthCoin\",\"StorjCoin\",\"MonaCoin\",\"Neutron\",\"PesetaCoin\",\"Kore\",\"Wild Beast Coin\",\"Dnotes\",\"Flo\",\"ArtByte\",\"Ucoin\",\"CypherPunkCoin\",\"MasterCoin\",\"SoonCoin\",\"1Credit\",\"MarsCoin \",\"Droidz\",\"BowsCoin\",\"BitZeny\",\"Diggits\",\"Expanse\",\"Paycon\",\"Siacoin\",\"MindCoin\",\"Decred\",\"Revolution VR\",\"HOdlcoin\",\"CarpeDiemCoin\",\"PWR Coin\",\"SoilCoin\",\"EuropeCoin\",\"ZeitCoin\",\"BolivarCoin\",\"Ratecoin\",\"BitSend\",\"Omni\",\"Let it Ride\",\"iBankCoin\",\"MudraCoin\",\"PizzaCoin\",\"Lutetium Coin\",\"Karbo\",\"BitTokens\",\"ZoneCoin\",\"DopeCoin\",\"BitCurrency\",\"DollarCoin\",\"Opair\",\"PesoBit\",\"Halloween Coin\",\"ZCoin\",\"GanjaCoin V2\",\"TeamUP\",\"Elementrem\",\"KiloCoin\",\"ArtexCoin\",\"AquariusCoin\",\"Eternity\",\"Stakenet\",\"BitConnect Coin\",\"Russiacoin\",\"PandaCoin\",\"OsmiumCoin\",\"HexxCoin\",\"Klingon Empire Darsek\",\"Internet of People\",\"Printerium\",\"Impeach\",\"BeaverCoin\",\"FindCoin\",\"Zero\",\"Zoin\",\"RenosCoin\",\"DubaiCoin\",\"VirtacoinPlus\",\"Condensate\",\"ArgusCoin\",\"LomoCoin\",\"GoldReserve\",\"BenjiRolls\",\"ILCoin\",\"Phreak\",\"Ultimate Secure Cash\",\"Espers\",\"Denarius\",\"DigitalPrice\",\"Virta Unique Coin\",\"Unify\",\"SocialCoin\",\"Linda\",\"LeviarCoin\",\"gCn Coin\",\"SmartCash\",\"Cream\",\"Vechain\",\"NewYorkCoin\",\"FrazCoin\",\"CoinonatX\",\"Ethereum Dark\",\"Sumokoin\",\"Elements\",\"TerraNovaCoin\",\"Theresa May Coin\",\"NamoCoin\",\"Xios\",\"KekCoin\",\"Pura\",\"Innova\",\"Magnet\",\"Lamden Tau\",\"UltraNote\",\"BitCoal\",\"Bulwark\",\"Kalkulus\",\"AC3\",\"PhantomX\",\"SparksPay\",\"Digiwage\",\"Monkey Project\",\"Pioneer Coin\",\"UnitedBitcoin\",\"TurtleCoin\",\"MUNcoin\",\"Unified Society USDEX\",\"ShareChain\",\"LitecoinCash\",\"Stipend\",\"Velox\",\"Callisto Network\",\"BitTube\",\"Aidos Kuneen\",\"Bitspace\",\"Bitrolium\",\"MedicCoin\",\"Abjcoin\",\"Semux\",\"FuturoCoin\",\"Carebit\",\"Zealium\",\"Monero Classic\",\"Proton\",\"iDealCash\",\"Jumpcoin\",\"Infinex\",\"KEYCO\",\"HollyWoodCoin\",\"PlatinCoin\",\"Swisscoin\",\"Xt3ch\",\"PluraCoin\",\"Dekado\",\"Axe\",\"Vitae\",\"HexCoin\",\"Urals Coin\",\"MMOCoin\",\"XDNA\",\"PAXEX\",\"Azart\",\"ThunderStake\",\"Kcash\",\"Xchange\",\"CrypticCoin\",\"Bettex coin\",\"Actinium\",\"Universal Molecule\",\"Block-Logic\",\"Oduwa\",\"Galilel\",\"Crypto Sports\",\"Beetle Coin\",\"Titan Coin\",\"Award\",\"ALAX\",\"LiteDoge\",\"SolarCoin\",\"BlakeCoin\",\"IncaKoin\",\"Piggy Coin\",\"Crown Coin\",\"SmileyCoin\",\"XiaoMiCoin\",\"Groestlcoin\",\"Pakcoin\",\"Creditbit \",\"WhiteCoin\",\"FriendshipCoin\",\"Triangles Coin\",\"Vollar\",\"Oxycoin\",\"TigerCash\",\"Particl\",\"Nxt\",\"ZEPHYR\",\"Beldex\",\"Horizen\",\"BitcoinPlus\"],\"legendgroup\":\"1\",\"marker\":{\"color\":[1,1,1,1,1,1,1,1,1,1,1,1,1,1,1,1,1,1,1,1,1,1,1,1,1,1,1,1,1,1,1,1,1,1,1,1,1,1,1,1,1,1,1,1,1,1,1,1,1,1,1,1,1,1,1,1,1,1,1,1,1,1,1,1,1,1,1,1,1,1,1,1,1,1,1,1,1,1,1,1,1,1,1,1,1,1,1,1,1,1,1,1,1,1,1,1,1,1,1,1,1,1,1,1,1,1,1,1,1,1,1,1,1,1,1,1,1,1,1,1,1,1,1,1,1,1,1,1,1,1,1,1,1,1,1,1,1,1,1,1,1,1,1,1,1,1,1,1,1,1,1,1,1,1,1,1,1,1,1,1,1,1,1,1,1,1,1,1,1,1,1,1,1,1,1,1,1,1,1,1,1,1,1,1,1,1,1,1,1,1,1,1,1,1,1,1,1,1,1,1,1,1,1,1,1,1,1,1,1,1,1,1,1,1,1,1,1,1,1,1,1,1,1,1,1,1,1,1,1,1,1,1,1,1,1,1,1,1,1],\"coloraxis\":\"coloraxis\",\"symbol\":\"diamond\"},\"mode\":\"markers\",\"name\":\"1\",\"scene\":\"scene\",\"showlegend\":true,\"type\":\"scatter3d\",\"x\":[0.49075869202940325,-0.14490045630848664,-0.2192708198940466,-0.16058337115054158,-0.14953643682377807,-0.15469048463288995,-0.15031170456714918,-0.22300650229909125,-0.1478368556808041,-0.2234100781895625,-0.16108885295037548,-0.2105235108385692,-0.22394428167136265,-0.22391563462377342,-0.1548830566254337,3.8578296757652235,0.3187593783439104,-0.11338031989038655,-0.16119205389341226,0.29712414825168115,-0.15415833310948032,-0.09715316634200809,-0.16040924809918752,-0.2238099121987417,-0.2238112345194718,-0.15488309426017383,-0.1615948198677325,-0.15488389394819038,0.09703179592213251,-0.11532136673383148,-0.11515397644159285,-0.11431108959960623,-0.12737861873621772,-0.16163016096629,-0.1614548236621897,-0.16154135967991712,-0.15976095505141266,-0.14505132021398265,-0.1580557249793243,-0.21802233826088027,-0.09623836491971174,0.29697605458215476,-0.10647912036945349,-0.15467303917908806,-0.009949537548661323,-0.22396550879478785,-0.14702759169590135,-0.14525070213898345,-0.1827858015536174,-0.17945022647455838,-0.223988182604294,-0.06807225854395112,-0.16586886142685792,0.3331619808033168,0.16130049974166222,-0.16094122449324547,0.2641922022934948,-0.15506533062421157,-0.1588436863124091,-0.22301507152276998,0.22344862523612277,-0.1450810217093668,0.0875120430896977,-0.13254026974812058,-0.15975916090631168,-0.1612872661833058,-0.1448592969838018,-0.1432240296424909,-0.17830891074338023,-0.15688727540839992,-0.16122655798716684,-0.16101415618851844,-0.14248918059428015,-0.14404792988298415,-0.1450151329380004,-0.14511752199773234,-0.15432710173760186,-0.16125611615455665,-0.15869379031263373,-0.16143151293554808,0.37698521047788447,-0.16159844854763042,-0.16146986040258907,-0.16010942124529304,-0.22305591915398126,-0.1602416822147326,-0.16474926770863088,3.2522984101941623,-0.14079661137894156,-0.15013905740689004,-0.1603919233952545,-0.1606699040306202,-0.15302522771713392,-0.03434798582270959,-0.19219980116751031,-0.15783103803711368,-0.16151801147019793,-0.16765435434026354,-0.1457915842912627,-0.15484631670797228,1.5896250123540623,-0.12139478754797141,-0.1456367007747837,-0.16464901019719502,-0.16068157463756583,-0.18080205806689179,-0.15484519229043955,-0.1271676255980461,-0.1828450992835302,-0.17130238253466112,-0.15795623518330712,-0.08837118908769036,-0.11776556921044198,0.2969989880246131,-0.17938676195569275,-0.16088278665919922,-0.22178633892053082,-0.1605702779945272,-0.14670907708296926,-0.16131374646320415,0.5674397773216787,0.1462019844186122,-0.16166902702743355,-0.16032486853587347,-0.13598523283531522,-0.22352593101572385,-0.2678735555105544,-0.16092731949791178,-0.1551636127145393,-0.15811235188890876,-0.1615501612567077,-0.22384664653218575,-0.16011199175438043,2.5615763198818784,-0.16168014202481792,-0.15507832334833913,-0.02443998135955159,0.30085438260578967,2.1071329417320928,-0.14469826073973907,-0.15492294565187534,-0.02635630026332178,-0.15520567920066988,1.5885579293603462,-0.16154410462646104,-0.16168020059709598,-0.21485431845733732,-0.16166192579492708,0.49160226004836804,-0.15954853738468897,-0.22388744437449065,1.1024626523037793,-0.158158894219714,-0.22396015945135214,0.301088473638417,0.310779034526111,-0.11295573041525447,-0.07771527148624907,-0.11465758411251059,-0.16147259027835195,-0.16149337319601112,-0.15882906300044242,-0.21952771772696777,-0.2229990098199517,-0.14688426445177136,-0.16089288092348014,3.0927987500261773,-0.14489249944204322,-0.1926394000682551,-0.16152967456177217,-0.1576326522010654,-0.12776397804477732,-0.15962278764400567,0.3766040353321771,-0.16134327445288746,-0.13422257883663827,-0.1786607483540161,0.5346979238284264,-0.12275527540076486,-0.16101577435022071,0.5549767966450264,-0.16109698056637933,-0.15940081956084365,-0.08722180722363329,-0.1598025628003157,-0.15495077430880205,-0.16480119681745178,-0.22387602199413822,0.03161573153606762,-0.2239621423153402,0.2975722150459231,-0.15834105523822126,-0.14206003193931407,-0.15438598644293394,-0.15467366988942702,-0.15766062995382285,8.039052469489038,0.30490389209658125,-0.1548624077020444,-0.08986869982107565,-0.12643135640765518,-0.1463171316545221,-0.15465700257755277,-0.161333477860198,-0.15524800040086706,-0.17817135269992682,-0.22413954362230787,-0.16124566220889214,-0.16480370279074233,-0.21669058813192343,-0.13342197894551058,-0.1938451437396788,-0.1616712531536992,-0.15834593170693562,-0.1358724221577855,-0.19664558195041804,0.29699323149174633,-0.1373733723396649,0.45228009130684566,-0.1544533849884602,0.2973886163718065,0.297158850674123,-0.19721813262957044,-0.1482633120721632,-0.09238214201114052,-0.11431847816999229,-0.11665178509178907,1.1356282013189187,0.18513778748953805,-0.15005463468434144,-0.16049040608791348,-0.11546320149708175,-0.11544154461631019,-0.1154426035140978,-0.11547555907151628,-0.1519649470282344,-0.15899371447310212,-0.14550955562138176,-0.15510676812469726],\"y\":[-1.2005035894092035,-1.163183938919964,-0.854915358224763,-1.1631952812954436,-2.1889701813823126,-1.2708595703214485,-2.2895418571915003,-0.8547437055418443,-2.1890510405327137,-0.8547434154478651,-1.163190802072721,-0.8545265456302035,-0.8547380203366822,-0.8547396321765045,-1.2708446669167535,-2.2499130795613818,-2.266352328904729,-1.8643890058073516,-1.1631752461767046,-2.2662753762938106,-1.2708451198604662,-2.147895199712487,-1.1632020898908633,-0.8547353516256889,-0.8547326334464899,-1.2708446684405306,-1.1631704051127176,-1.2708447008187622,-1.8702391361978112,-1.8643000456785106,-1.864300118584601,-1.864293094538967,-2.1194359385396226,-1.1631706996191817,-1.1631758237375613,-1.1631738810319576,-1.1631619828357964,-1.1631900471852021,-2.3076056927190107,-0.8548301625007736,-2.004197172169052,-2.2662727107771077,-1.8216338169352895,-1.2708507151286283,-1.8652854028362569,-0.8547368010041922,-2.2080173023882,-2.173020791639478,-0.5740753319103243,-1.5565646636818065,-0.8547383426711019,-2.005482019856753,-2.225415051648938,-2.266184791449429,-1.8245118050169677,-1.1631738529601445,-1.2688478412990205,-1.2708448670028403,-1.1631941368796697,-0.8547551393698868,-1.270063522958708,-2.0884559898223136,-1.1624355059730762,-1.164762281088492,-1.1631619101934096,-1.1631690395732495,-2.0016798813446366,-2.001789533367296,-0.854123030610066,-1.163184073721359,-1.1631742038093602,-1.1631933211431107,-2.0017112753066333,-2.0016288716516297,-2.1700693104234454,-2.001683892858634,-2.2389533071646026,-1.163180944013746,-1.1631603506226893,-1.16317418698983,-2.26862346262114,-1.1631748730117317,-1.1631757396242992,-1.5629612527709724,-0.8547567932324522,-1.163170359923439,-1.562938324403057,-1.1635291572170798,-1.1633092328867725,-2.188943650313879,-1.1631667419621228,-1.163179553115016,-1.270871306702919,-1.1649441921207297,-1.2531009795285386,-1.562982644712785,-1.1631791479915141,-2.2603817112997056,-2.17300403327445,-1.2708431793696828,-1.155041951660777,-1.2712065467548577,-2.1730090431541798,-1.5629434117885168,-1.1631743119523568,-1.1979761076386484,-1.2708431338436141,-1.8216418899014322,-0.5740588490758523,-2.0854302208491897,-1.1632035372476948,-1.1671315148833112,-0.7012113123320592,-2.266270049910794,-1.3222761715457585,-1.1631963173317348,-0.8547940847109676,-1.1631947511721545,-2.1450686232744394,-1.1631694187926465,-2.2341194249269933,-1.1634594248089503,-1.1631708804624514,-1.1631737280194194,-2.208134591250482,-0.8547293970671456,-0.1483392137255894,-1.1631690173632032,-2.2635631214357828,-2.281227601110254,-1.1631720615966015,-0.854730602580975,-1.1631797436124183,-1.3189945455149454,-1.163170824292647,-2.240801283991381,-2.2687427115805736,-2.2663398454847137,-2.320472400048643,-1.163646944383385,-1.2708462819667734,-1.1680852677330202,-1.163141770483826,-1.0923057416649482,-1.1631672231759638,-1.1631708245645789,-0.8551176515920126,-1.1631715382976795,-0.8950449579202705,-1.163210202566984,-0.8547371049343105,-1.2333190052318175,-2.2519307355759,-0.8547414349235275,-2.266513301223998,-2.2663981156284394,-2.323178814625808,-1.163235424306458,-1.2706565951489615,-1.1631765430826135,-1.1631773845534281,-1.1631702526695957,-0.854787173748767,-0.49938403359172834,-2.2079560649099355,-1.1632078129065047,-2.259591996733954,-2.001680035492726,-1.253104226743642,-1.1631788543441632,-1.1631520331239402,-2.0794001803800173,-1.1632603280619938,-2.2522692173125343,-1.1631775436342235,-2.219917361235525,-1.5566019917863,-1.2029514224101192,-1.2122168363840502,-1.1631789737261273,-1.1688004496588862,-1.1631987533730872,-2.2518934977049696,-1.1674314428051578,-1.1632400560249252,-1.2708474087095631,-1.5629329433000745,-0.8547345636697896,-1.1622734149034732,-0.8547379119733606,-2.2663015052023785,-1.1632084325375285,-1.27092625075712,-1.2708425657116764,-1.270850740665194,-2.251871544966168,-2.6457278941517575,-2.266635991800025,-1.2708432529679552,-1.5626561995020944,-1.8216101392050916,-2.145108112932789,-1.2708763971512378,-1.1631697165622539,-1.2708450646842575,-0.8837980135200418,-0.8547313746957582,-1.163168740946466,-1.5629372023405044,-0.8551227065906205,-2.3043417191435798,-1.3221575544925903,-1.1631718561590703,-1.163219315506389,-2.2086500801205746,-1.267642017119889,-2.266277905209372,-2.3615945746922526,-2.2669053045312464,-1.2708439004310241,-2.266284763311423,-2.266269397907176,-1.2676112028356732,-2.207939142989424,-1.8216173939231077,-0.3093764755842896,-1.8216715117383233,-2.291207224354423,-1.8204665953717134,-2.188947785089549,-1.1632388799057298,-1.8643057883666045,-1.8643049115102655,-1.8643049543835326,-1.864303516989154,-1.2708296216598425,-1.1632348577828748,-2.1730002365596484,-1.2708459195194532],\"z\":[0.033863715867502066,0.04072342067387328,0.09518055747451863,0.04108856496285902,0.5123826137605508,0.20031954592422158,0.5952434362906163,0.09523089006510074,0.5123602954941815,0.0952401641798824,0.0410993158031514,0.09489650514193305,0.09525138688191458,0.09525106301857339,0.2003208679604993,0.3993962562289598,0.48471337188308694,0.358501394288575,0.04109843346618881,0.4851976412995727,0.20030419962968016,0.513559098042077,0.041085968335863476,0.0952477178930224,0.09524717718442469,0.20032086915128666,0.041106732343735145,0.2003208944539301,0.3548639214813089,0.35852759525255695,0.3585237386825922,0.35850276564304184,0.47025551236280544,0.04110761171428496,0.04110463296442201,0.0411062263135172,0.04106254318833091,0.0407281941049108,0.6902188435546216,0.09513377286640605,0.503021439921376,0.48520050661707326,0.4497131140674788,0.2003172812486703,0.3562973449895004,0.09525162161100026,0.5113715507247135,0.46956430995530213,-0.04183903486023618,0.2510529617569144,0.09525247009814874,0.5026399754100753,0.5209475335803371,0.48434501400569335,0.4441240055927245,0.04109233872880518,0.19020758354582407,0.20032512618074197,0.041048083907156994,0.09523349139155697,0.19140552704911282,0.42707097072040673,0.03519020114471241,0.04076924717569469,0.04106248642042558,0.04109933133798172,0.5036170140150105,0.5036022349475643,0.0940665424624997,0.04100071527350873,0.04109901249770558,0.04109811744489836,0.5035687892665319,0.5035875253439347,0.6304901029945411,0.5036238301222049,0.5062155786504837,0.04110111283249258,0.04103751562451558,0.04110374976111365,0.4838438912905044,0.04110775532209514,0.04110496309964394,0.26372241087911896,0.09523478383689028,0.04107542351437831,0.26382491585576123,-0.037784390359447036,0.040654828668165305,0.5123909767499802,0.04107813832512958,0.041087260868117634,0.20028349368559883,0.038536201648811684,0.1776608387758143,0.26367420582320544,0.041106793234421256,0.542196873729271,0.4695732988618215,0.200319705485872,-0.001109013217431575,0.1996223115025835,0.4695707692168945,0.2638236660509247,0.04108642925528668,0.19230927931962985,0.20031966990857777,0.4501933551645947,-0.04184112753922788,0.26957066814625685,0.041029532066192545,0.040245530559261083,-0.040279206970256526,0.48519941689590024,0.3213846365081635,0.04109570847149509,0.09521325502708539,0.04108815068697879,0.5141112947538189,0.04110002355415645,0.487223188229188,0.03404785106523265,0.04110854873125924,0.04107805558310219,0.5111407819642331,0.09523989764102767,0.2090781627095763,0.04109100076856304,0.5042704287872617,0.5988628859508891,0.0411060475011439,0.09524756945869604,0.04107439587649961,0.010867694109469351,0.041108794025954465,0.47226487156170943,0.5948305994007721,0.48512490736637104,0.45472135068352215,0.04081605618096587,0.20032213007496097,0.039011524171231826,0.040952927279321816,-0.014269954894688254,0.04110489048740914,0.04110879543793909,0.0951209168329372,0.04110852273410333,0.08717166744500816,0.04106776438404944,0.09524987978711,0.18323211220172494,0.5839003846420624,0.09525247181276568,0.4851559487975622,0.4849075879082548,0.6564651650603863,0.03918018587460615,0.19935088728345488,0.04110519511158865,0.04110585269647537,0.04104272577675909,0.09515955850342762,0.08911258880767682,0.5113553648049637,0.0410983580512172,0.43416300241510547,0.5036178144169079,0.17767168959257582,0.04110700129504477,0.04101122237787172,0.407427622457945,0.04108001702052596,0.5820917510007972,0.04110241420793949,0.4574107025820588,0.2510425458531304,0.03336183550883817,0.16452444838338026,0.04109513939665844,0.025715063116929306,0.04110117497226116,0.583921285035512,0.040281981837103124,0.04107991469823796,0.20032301059157143,0.26382498604744997,0.09524908146488907,0.03644906718977152,0.09525177723987881,0.48519276875872436,0.04103946218252573,0.20004140641780294,0.20030892864298336,0.20031730120475102,0.5838764189010244,0.3858713261397871,0.48509348119485884,0.20032009315408705,0.2620335629311287,0.4501696513503132,0.514110528456721,0.20032230804320503,0.04110054254363274,0.2003293930502918,0.1735947049658893,0.09525450672037529,0.041098306235301085,0.26382593915957214,0.09516445389500872,0.5974351915830346,0.321694141900699,0.04110880529130918,0.04104186231493526,0.5112465157615437,0.23360811475011284,0.48520120104241404,0.6373348277233606,0.4817411357001473,0.20031076815950796,0.4851934968287438,0.48519558208893276,0.2336148819670124,0.5113837068824635,0.4493835861373387,-0.09744580281402307,0.4499563397881924,0.4710423307573065,0.44272242236583426,0.5123898930031384,0.041095577961210814,0.3585320829957245,0.3585313977580826,0.3585314312622899,0.3585318914496542,0.2002502072263097,0.041060112740645596,0.4695659772995017,0.20032630588201775]},{\"customdata\":[[\"Scrypt\"],[\"Scrypt\"],[\"SHA-256\"],[\"PoS\"],[\"Scrypt\"],[\"Quark\"],[\"Scrypt\"]],\"hovertemplate\":\"<b>%{hovertext}</b><br><br>Class=%{marker.color}<br>PC 1=%{x}<br>PC 2=%{y}<br>PC 3=%{z}<br>Algorithm=%{customdata[0]}<extra></extra>\",\"hovertext\":[\"Litecoin\",\"CannaCoin\",\"Clockcoin\",\"Atmos\",\"PopularCoin\",\"HerbCoin\",\"Nasdacoin\"],\"legendgroup\":\"3\",\"marker\":{\"color\":[3,3,3,3,3,3,3],\"coloraxis\":\"coloraxis\",\"symbol\":\"square\"},\"mode\":\"markers\",\"name\":\"3\",\"scene\":\"scene\",\"showlegend\":true,\"type\":\"scatter3d\",\"x\":[-0.29990172004248455,-0.2839188422136028,-0.44518090163899016,-0.3496043063486995,-0.4232608867167416,4.359564144024719,-0.41869294177078514],\"y\":[3.7861399060837546,1.8536432380801104,5.652763315903365,3.9715484132539665,3.33503042894484,2.201585203278574,3.3868346694230085],\"z\":[9.969414421764458,12.58136721838112,9.635632977772897,11.629740750840009,14.334382850282376,6.1409222253413684,15.331596595987998]},{\"customdata\":[[\"Scrypt\"]],\"hovertemplate\":\"<b>%{hovertext}</b><br><br>Class=%{marker.color}<br>PC 1=%{x}<br>PC 2=%{y}<br>PC 3=%{z}<br>Algorithm=%{customdata[0]}<extra></extra>\",\"hovertext\":[\"PhoenixCoin\"],\"legendgroup\":\"2\",\"marker\":{\"color\":[2],\"coloraxis\":\"coloraxis\",\"symbol\":\"x\"},\"mode\":\"markers\",\"name\":\"2\",\"scene\":\"scene\",\"showlegend\":true,\"type\":\"scatter3d\",\"x\":[34.11033759657699],\"y\":[1.9560270360499104],\"z\":[-1.018455984146685]}],                        {\"coloraxis\":{\"colorbar\":{\"title\":{\"text\":\"Class\"}},\"colorscale\":[[0.0,\"#0d0887\"],[0.1111111111111111,\"#46039f\"],[0.2222222222222222,\"#7201a8\"],[0.3333333333333333,\"#9c179e\"],[0.4444444444444444,\"#bd3786\"],[0.5555555555555556,\"#d8576b\"],[0.6666666666666666,\"#ed7953\"],[0.7777777777777778,\"#fb9f3a\"],[0.8888888888888888,\"#fdca26\"],[1.0,\"#f0f921\"]]},\"legend\":{\"title\":{\"text\":\"Class\"},\"tracegroupgap\":0},\"margin\":{\"t\":60},\"scene\":{\"domain\":{\"x\":[0.0,1.0],\"y\":[0.0,1.0]},\"xaxis\":{\"title\":{\"text\":\"PC 1\"}},\"yaxis\":{\"title\":{\"text\":\"PC 2\"}},\"zaxis\":{\"title\":{\"text\":\"PC 3\"}}},\"template\":{\"data\":{\"bar\":[{\"error_x\":{\"color\":\"#2a3f5f\"},\"error_y\":{\"color\":\"#2a3f5f\"},\"marker\":{\"line\":{\"color\":\"#E5ECF6\",\"width\":0.5},\"pattern\":{\"fillmode\":\"overlay\",\"size\":10,\"solidity\":0.2}},\"type\":\"bar\"}],\"barpolar\":[{\"marker\":{\"line\":{\"color\":\"#E5ECF6\",\"width\":0.5},\"pattern\":{\"fillmode\":\"overlay\",\"size\":10,\"solidity\":0.2}},\"type\":\"barpolar\"}],\"carpet\":[{\"aaxis\":{\"endlinecolor\":\"#2a3f5f\",\"gridcolor\":\"white\",\"linecolor\":\"white\",\"minorgridcolor\":\"white\",\"startlinecolor\":\"#2a3f5f\"},\"baxis\":{\"endlinecolor\":\"#2a3f5f\",\"gridcolor\":\"white\",\"linecolor\":\"white\",\"minorgridcolor\":\"white\",\"startlinecolor\":\"#2a3f5f\"},\"type\":\"carpet\"}],\"choropleth\":[{\"colorbar\":{\"outlinewidth\":0,\"ticks\":\"\"},\"type\":\"choropleth\"}],\"contour\":[{\"colorbar\":{\"outlinewidth\":0,\"ticks\":\"\"},\"colorscale\":[[0.0,\"#0d0887\"],[0.1111111111111111,\"#46039f\"],[0.2222222222222222,\"#7201a8\"],[0.3333333333333333,\"#9c179e\"],[0.4444444444444444,\"#bd3786\"],[0.5555555555555556,\"#d8576b\"],[0.6666666666666666,\"#ed7953\"],[0.7777777777777778,\"#fb9f3a\"],[0.8888888888888888,\"#fdca26\"],[1.0,\"#f0f921\"]],\"type\":\"contour\"}],\"contourcarpet\":[{\"colorbar\":{\"outlinewidth\":0,\"ticks\":\"\"},\"type\":\"contourcarpet\"}],\"heatmap\":[{\"colorbar\":{\"outlinewidth\":0,\"ticks\":\"\"},\"colorscale\":[[0.0,\"#0d0887\"],[0.1111111111111111,\"#46039f\"],[0.2222222222222222,\"#7201a8\"],[0.3333333333333333,\"#9c179e\"],[0.4444444444444444,\"#bd3786\"],[0.5555555555555556,\"#d8576b\"],[0.6666666666666666,\"#ed7953\"],[0.7777777777777778,\"#fb9f3a\"],[0.8888888888888888,\"#fdca26\"],[1.0,\"#f0f921\"]],\"type\":\"heatmap\"}],\"heatmapgl\":[{\"colorbar\":{\"outlinewidth\":0,\"ticks\":\"\"},\"colorscale\":[[0.0,\"#0d0887\"],[0.1111111111111111,\"#46039f\"],[0.2222222222222222,\"#7201a8\"],[0.3333333333333333,\"#9c179e\"],[0.4444444444444444,\"#bd3786\"],[0.5555555555555556,\"#d8576b\"],[0.6666666666666666,\"#ed7953\"],[0.7777777777777778,\"#fb9f3a\"],[0.8888888888888888,\"#fdca26\"],[1.0,\"#f0f921\"]],\"type\":\"heatmapgl\"}],\"histogram\":[{\"marker\":{\"pattern\":{\"fillmode\":\"overlay\",\"size\":10,\"solidity\":0.2}},\"type\":\"histogram\"}],\"histogram2d\":[{\"colorbar\":{\"outlinewidth\":0,\"ticks\":\"\"},\"colorscale\":[[0.0,\"#0d0887\"],[0.1111111111111111,\"#46039f\"],[0.2222222222222222,\"#7201a8\"],[0.3333333333333333,\"#9c179e\"],[0.4444444444444444,\"#bd3786\"],[0.5555555555555556,\"#d8576b\"],[0.6666666666666666,\"#ed7953\"],[0.7777777777777778,\"#fb9f3a\"],[0.8888888888888888,\"#fdca26\"],[1.0,\"#f0f921\"]],\"type\":\"histogram2d\"}],\"histogram2dcontour\":[{\"colorbar\":{\"outlinewidth\":0,\"ticks\":\"\"},\"colorscale\":[[0.0,\"#0d0887\"],[0.1111111111111111,\"#46039f\"],[0.2222222222222222,\"#7201a8\"],[0.3333333333333333,\"#9c179e\"],[0.4444444444444444,\"#bd3786\"],[0.5555555555555556,\"#d8576b\"],[0.6666666666666666,\"#ed7953\"],[0.7777777777777778,\"#fb9f3a\"],[0.8888888888888888,\"#fdca26\"],[1.0,\"#f0f921\"]],\"type\":\"histogram2dcontour\"}],\"mesh3d\":[{\"colorbar\":{\"outlinewidth\":0,\"ticks\":\"\"},\"type\":\"mesh3d\"}],\"parcoords\":[{\"line\":{\"colorbar\":{\"outlinewidth\":0,\"ticks\":\"\"}},\"type\":\"parcoords\"}],\"pie\":[{\"automargin\":true,\"type\":\"pie\"}],\"scatter\":[{\"marker\":{\"colorbar\":{\"outlinewidth\":0,\"ticks\":\"\"}},\"type\":\"scatter\"}],\"scatter3d\":[{\"line\":{\"colorbar\":{\"outlinewidth\":0,\"ticks\":\"\"}},\"marker\":{\"colorbar\":{\"outlinewidth\":0,\"ticks\":\"\"}},\"type\":\"scatter3d\"}],\"scattercarpet\":[{\"marker\":{\"colorbar\":{\"outlinewidth\":0,\"ticks\":\"\"}},\"type\":\"scattercarpet\"}],\"scattergeo\":[{\"marker\":{\"colorbar\":{\"outlinewidth\":0,\"ticks\":\"\"}},\"type\":\"scattergeo\"}],\"scattergl\":[{\"marker\":{\"colorbar\":{\"outlinewidth\":0,\"ticks\":\"\"}},\"type\":\"scattergl\"}],\"scattermapbox\":[{\"marker\":{\"colorbar\":{\"outlinewidth\":0,\"ticks\":\"\"}},\"type\":\"scattermapbox\"}],\"scatterpolar\":[{\"marker\":{\"colorbar\":{\"outlinewidth\":0,\"ticks\":\"\"}},\"type\":\"scatterpolar\"}],\"scatterpolargl\":[{\"marker\":{\"colorbar\":{\"outlinewidth\":0,\"ticks\":\"\"}},\"type\":\"scatterpolargl\"}],\"scatterternary\":[{\"marker\":{\"colorbar\":{\"outlinewidth\":0,\"ticks\":\"\"}},\"type\":\"scatterternary\"}],\"surface\":[{\"colorbar\":{\"outlinewidth\":0,\"ticks\":\"\"},\"colorscale\":[[0.0,\"#0d0887\"],[0.1111111111111111,\"#46039f\"],[0.2222222222222222,\"#7201a8\"],[0.3333333333333333,\"#9c179e\"],[0.4444444444444444,\"#bd3786\"],[0.5555555555555556,\"#d8576b\"],[0.6666666666666666,\"#ed7953\"],[0.7777777777777778,\"#fb9f3a\"],[0.8888888888888888,\"#fdca26\"],[1.0,\"#f0f921\"]],\"type\":\"surface\"}],\"table\":[{\"cells\":{\"fill\":{\"color\":\"#EBF0F8\"},\"line\":{\"color\":\"white\"}},\"header\":{\"fill\":{\"color\":\"#C8D4E3\"},\"line\":{\"color\":\"white\"}},\"type\":\"table\"}]},\"layout\":{\"annotationdefaults\":{\"arrowcolor\":\"#2a3f5f\",\"arrowhead\":0,\"arrowwidth\":1},\"autotypenumbers\":\"strict\",\"coloraxis\":{\"colorbar\":{\"outlinewidth\":0,\"ticks\":\"\"}},\"colorscale\":{\"diverging\":[[0,\"#8e0152\"],[0.1,\"#c51b7d\"],[0.2,\"#de77ae\"],[0.3,\"#f1b6da\"],[0.4,\"#fde0ef\"],[0.5,\"#f7f7f7\"],[0.6,\"#e6f5d0\"],[0.7,\"#b8e186\"],[0.8,\"#7fbc41\"],[0.9,\"#4d9221\"],[1,\"#276419\"]],\"sequential\":[[0.0,\"#0d0887\"],[0.1111111111111111,\"#46039f\"],[0.2222222222222222,\"#7201a8\"],[0.3333333333333333,\"#9c179e\"],[0.4444444444444444,\"#bd3786\"],[0.5555555555555556,\"#d8576b\"],[0.6666666666666666,\"#ed7953\"],[0.7777777777777778,\"#fb9f3a\"],[0.8888888888888888,\"#fdca26\"],[1.0,\"#f0f921\"]],\"sequentialminus\":[[0.0,\"#0d0887\"],[0.1111111111111111,\"#46039f\"],[0.2222222222222222,\"#7201a8\"],[0.3333333333333333,\"#9c179e\"],[0.4444444444444444,\"#bd3786\"],[0.5555555555555556,\"#d8576b\"],[0.6666666666666666,\"#ed7953\"],[0.7777777777777778,\"#fb9f3a\"],[0.8888888888888888,\"#fdca26\"],[1.0,\"#f0f921\"]]},\"colorway\":[\"#636efa\",\"#EF553B\",\"#00cc96\",\"#ab63fa\",\"#FFA15A\",\"#19d3f3\",\"#FF6692\",\"#B6E880\",\"#FF97FF\",\"#FECB52\"],\"font\":{\"color\":\"#2a3f5f\"},\"geo\":{\"bgcolor\":\"white\",\"lakecolor\":\"white\",\"landcolor\":\"#E5ECF6\",\"showlakes\":true,\"showland\":true,\"subunitcolor\":\"white\"},\"hoverlabel\":{\"align\":\"left\"},\"hovermode\":\"closest\",\"mapbox\":{\"style\":\"light\"},\"paper_bgcolor\":\"white\",\"plot_bgcolor\":\"#E5ECF6\",\"polar\":{\"angularaxis\":{\"gridcolor\":\"white\",\"linecolor\":\"white\",\"ticks\":\"\"},\"bgcolor\":\"#E5ECF6\",\"radialaxis\":{\"gridcolor\":\"white\",\"linecolor\":\"white\",\"ticks\":\"\"}},\"scene\":{\"xaxis\":{\"backgroundcolor\":\"#E5ECF6\",\"gridcolor\":\"white\",\"gridwidth\":2,\"linecolor\":\"white\",\"showbackground\":true,\"ticks\":\"\",\"zerolinecolor\":\"white\"},\"yaxis\":{\"backgroundcolor\":\"#E5ECF6\",\"gridcolor\":\"white\",\"gridwidth\":2,\"linecolor\":\"white\",\"showbackground\":true,\"ticks\":\"\",\"zerolinecolor\":\"white\"},\"zaxis\":{\"backgroundcolor\":\"#E5ECF6\",\"gridcolor\":\"white\",\"gridwidth\":2,\"linecolor\":\"white\",\"showbackground\":true,\"ticks\":\"\",\"zerolinecolor\":\"white\"}},\"shapedefaults\":{\"line\":{\"color\":\"#2a3f5f\"}},\"ternary\":{\"aaxis\":{\"gridcolor\":\"white\",\"linecolor\":\"white\",\"ticks\":\"\"},\"baxis\":{\"gridcolor\":\"white\",\"linecolor\":\"white\",\"ticks\":\"\"},\"bgcolor\":\"#E5ECF6\",\"caxis\":{\"gridcolor\":\"white\",\"linecolor\":\"white\",\"ticks\":\"\"}},\"title\":{\"x\":0.05},\"xaxis\":{\"automargin\":true,\"gridcolor\":\"white\",\"linecolor\":\"white\",\"ticks\":\"\",\"title\":{\"standoff\":15},\"zerolinecolor\":\"white\",\"zerolinewidth\":2},\"yaxis\":{\"automargin\":true,\"gridcolor\":\"white\",\"linecolor\":\"white\",\"ticks\":\"\",\"title\":{\"standoff\":15},\"zerolinecolor\":\"white\",\"zerolinewidth\":2}}}},                        {\"responsive\": true}                    ).then(function(){\n",
       "                            \n",
       "var gd = document.getElementById('2459acd5-5972-4eef-bd61-45d3ab864c32');\n",
       "var x = new MutationObserver(function (mutations, observer) {{\n",
       "        var display = window.getComputedStyle(gd).display;\n",
       "        if (!display || display === 'none') {{\n",
       "            console.log([gd, 'removed!']);\n",
       "            Plotly.purge(gd);\n",
       "            observer.disconnect();\n",
       "        }}\n",
       "}});\n",
       "\n",
       "// Listen for the removal of the full notebook cells\n",
       "var notebookContainer = gd.closest('#notebook-container');\n",
       "if (notebookContainer) {{\n",
       "    x.observe(notebookContainer, {childList: true});\n",
       "}}\n",
       "\n",
       "// Listen for the clearing of the current output cell\n",
       "var outputEl = gd.closest('.output');\n",
       "if (outputEl) {{\n",
       "    x.observe(outputEl, {childList: true});\n",
       "}}\n",
       "\n",
       "                        })                };                });            </script>        </div>"
      ]
     },
     "metadata": {},
     "output_type": "display_data"
    }
   ],
   "source": [
    "# Create a 3D-Scatter with the PCA data and the clusters\n",
    "fig = px.scatter_3d(\n",
    "    clustered_df,\n",
    "    x=\"PC 1\",\n",
    "    y=\"PC 2\",\n",
    "    z=\"PC 3\",\n",
    "    hover_name='CoinName',\n",
    "    hover_data= ['Algorithm'],\n",
    "    color=\"Class\",\n",
    "    symbol=\"Class\")\n",
    "\n",
    "fig.show()\n"
   ]
  },
  {
   "cell_type": "markdown",
   "metadata": {},
   "source": [
    "#### Table of Tradable Cryptocurrencies"
   ]
  },
  {
   "cell_type": "code",
   "execution_count": 275,
   "metadata": {},
   "outputs": [
    {
     "data": {},
     "metadata": {},
     "output_type": "display_data"
    },
    {
     "data": {
      "application/vnd.holoviews_exec.v0+json": "",
      "text/html": [
       "<div id='3395'>\n",
       "\n",
       "\n",
       "\n",
       "\n",
       "\n",
       "  <div class=\"bk-root\" id=\"68c10c3c-4318-4ab7-8682-8440c4a0a773\" data-root-id=\"3395\"></div>\n",
       "</div>\n",
       "<script type=\"application/javascript\">(function(root) {\n",
       "  function embed_document(root) {\n",
       "    var docs_json = {\"b8b4ad89-252a-4f1d-b3ea-28ece321338c\":{\"defs\":[{\"extends\":null,\"module\":null,\"name\":\"ReactiveHTML1\",\"overrides\":[],\"properties\":[]},{\"extends\":null,\"module\":null,\"name\":\"FlexBox1\",\"overrides\":[],\"properties\":[{\"default\":\"flex-start\",\"kind\":null,\"name\":\"align_content\"},{\"default\":\"flex-start\",\"kind\":null,\"name\":\"align_items\"},{\"default\":\"row\",\"kind\":null,\"name\":\"flex_direction\"},{\"default\":\"wrap\",\"kind\":null,\"name\":\"flex_wrap\"},{\"default\":\"flex-start\",\"kind\":null,\"name\":\"justify_content\"}]},{\"extends\":null,\"module\":null,\"name\":\"TemplateActions1\",\"overrides\":[],\"properties\":[{\"default\":0,\"kind\":null,\"name\":\"open_modal\"},{\"default\":0,\"kind\":null,\"name\":\"close_modal\"}]},{\"extends\":null,\"module\":null,\"name\":\"MaterialTemplateActions1\",\"overrides\":[],\"properties\":[{\"default\":0,\"kind\":null,\"name\":\"open_modal\"},{\"default\":0,\"kind\":null,\"name\":\"close_modal\"}]}],\"roots\":{\"references\":[{\"attributes\":{\"columns\":[{\"id\":\"3401\"},{\"id\":\"3406\"},{\"id\":\"3411\"},{\"id\":\"3416\"},{\"id\":\"3421\"},{\"id\":\"3426\"}],\"height\":300,\"reorderable\":false,\"source\":{\"id\":\"3397\"},\"view\":{\"id\":\"3431\"},\"width\":700},\"id\":\"3429\",\"type\":\"DataTable\"},{\"attributes\":{},\"id\":\"3420\",\"type\":\"NumberEditor\"},{\"attributes\":{\"margin\":[5,5,5,5],\"name\":\"HSpacer05304\",\"sizing_mode\":\"stretch_width\"},\"id\":\"3436\",\"type\":\"Spacer\"},{\"attributes\":{},\"id\":\"3415\",\"type\":\"StringEditor\"},{\"attributes\":{\"data\":{\"Algorithm\":[\"Scrypt\",\"Scrypt\",\"X13\",\"SHA-256\",\"Ethash\",\"Scrypt\",\"X11\",\"CryptoNight-V7\",\"Ethash\",\"Equihash\",\"SHA-512\",\"Multiple\",\"SHA-256\",\"SHA-256\",\"Scrypt\",\"X15\",\"X11\",\"Scrypt\",\"Scrypt\",\"Scrypt\",\"Multiple\",\"Scrypt\",\"SHA-256\",\"Scrypt\",\"Scrypt\",\"Scrypt\",\"Quark\",\"Groestl\",\"Scrypt\",\"Scrypt\",\"Scrypt\",\"Scrypt\",\"Scrypt\",\"X11\",\"Scrypt\",\"Groestl\",\"Multiple\",\"SHA-256\",\"Scrypt\",\"Scrypt\",\"Scrypt\",\"Scrypt\",\"PoS\",\"Scrypt\",\"Scrypt\",\"NeoScrypt\",\"Scrypt\",\"Scrypt\",\"Scrypt\",\"Scrypt\",\"X11\",\"Scrypt\",\"X11\",\"SHA-256\",\"Scrypt\",\"Scrypt\",\"Scrypt\",\"SHA3\",\"Scrypt\",\"HybridScryptHash256\",\"Scrypt\",\"Scrypt\",\"SHA-256\",\"Scrypt\",\"X13\",\"Scrypt\",\"SHA-256\",\"Scrypt\",\"X13\",\"NeoScrypt\",\"Scrypt\",\"Scrypt\",\"Scrypt\",\"Scrypt\",\"Scrypt\",\"Scrypt\",\"X11\",\"X11\",\"SHA-256\",\"Multiple\",\"SHA-256\",\"PHI1612\",\"X11\",\"SHA-256\",\"SHA-256\",\"SHA-256\",\"X11\",\"Scrypt\",\"Scrypt\",\"Scrypt\",\"Scrypt\",\"Lyra2REv2\",\"Scrypt\",\"X11\",\"Multiple\",\"SHA-256\",\"X13\",\"Scrypt\",\"CryptoNight\",\"CryptoNight\",\"Shabal256\",\"Counterparty\",\"Scrypt\",\"SHA-256\",\"Groestl\",\"Scrypt\",\"Scrypt\",\"Scrypt\",\"X13\",\"Scrypt\",\"Scrypt\",\"Scrypt\",\"Scrypt\",\"X13\",\"Scrypt\",\"Stanford Folding\",\"X11\",\"Multiple\",\"QuBit\",\"Scrypt\",\"Scrypt\",\"Scrypt\",\"M7 POW\",\"Scrypt\",\"SHA-256\",\"Scrypt\",\"X11\",\"SHA3\",\"X11\",\"Lyra2RE\",\"SHA-256\",\"QUAIT\",\"X11\",\"X11\",\"Scrypt\",\"Scrypt\",\"Scrypt\",\"Ethash\",\"X13\",\"Blake2b\",\"SHA-256\",\"X15\",\"X11\",\"SHA-256\",\"BLAKE256\",\"Scrypt\",\"1GB AES Pattern Search\",\"SHA-256\",\"X11\",\"Scrypt\",\"SHA-256\",\"SHA-256\",\"NIST5\",\"Scrypt\",\"Scrypt\",\"X11\",\"Dagger\",\"Scrypt\",\"X11GOST\",\"X11\",\"Scrypt\",\"SHA-256\",\"Scrypt\",\"PoS\",\"Scrypt\",\"X11\",\"X11\",\"SHA-256\",\"SHA-256\",\"NIST5\",\"X11\",\"Scrypt\",\"POS 3.0\",\"Scrypt\",\"Scrypt\",\"Scrypt\",\"X13\",\"X11\",\"X11\",\"Equihash\",\"X11\",\"Scrypt\",\"CryptoNight\",\"SHA-256\",\"SHA-256\",\"X11\",\"Scrypt\",\"Multiple\",\"Scrypt\",\"Scrypt\",\"Scrypt\",\"SHA-256\",\"Scrypt\",\"Scrypt\",\"SHA-256D\",\"PoS\",\"Scrypt\",\"X11\",\"Lyra2Z\",\"PoS\",\"X13\",\"X14\",\"PoS\",\"SHA-256D\",\"Ethash\",\"Equihash\",\"DPoS\",\"X11\",\"Scrypt\",\"X11\",\"X13\",\"X11\",\"PoS\",\"Scrypt\",\"Scrypt\",\"X11\",\"PoS\",\"X11\",\"SHA-256\",\"Scrypt\",\"X11\",\"Scrypt\",\"Scrypt\",\"X11\",\"CryptoNight\",\"Scrypt\",\"Scrypt\",\"Scrypt\",\"Scrypt\",\"Quark\",\"QuBit\",\"Scrypt\",\"CryptoNight\",\"Lyra2RE\",\"Scrypt\",\"SHA-256\",\"X11\",\"Scrypt\",\"X11\",\"Scrypt\",\"CryptoNight-V7\",\"Scrypt\",\"Scrypt\",\"Scrypt\",\"X13\",\"X11\",\"Equihash\",\"Scrypt\",\"Scrypt\",\"Lyra2RE\",\"Scrypt\",\"Dagger-Hashimoto\",\"X11\",\"Blake2S\",\"X11\",\"Scrypt\",\"PoS\",\"X11\",\"NIST5\",\"PoS\",\"X11\",\"Scrypt\",\"Scrypt\",\"Scrypt\",\"SHA-256\",\"X11\",\"Scrypt\",\"Scrypt\",\"SHA-256\",\"PoS\",\"Scrypt\",\"X15\",\"SHA-256\",\"Scrypt\",\"POS 3.0\",\"CryptoNight-V7\",\"536\",\"Argon2d\",\"Blake2b\",\"Cloverhash\",\"CryptoNight\",\"NIST5\",\"X11\",\"NIST5\",\"Skein\",\"Scrypt\",\"X13\",\"Scrypt\",\"X11\",\"X11\",\"Scrypt\",\"CryptoNight\",\"X13\",\"Time Travel\",\"Scrypt\",\"Keccak\",\"SkunkHash v2 Raptor\",\"X11\",\"Skein\",\"SHA-256\",\"X11\",\"Scrypt\",\"VeChainThor Authority\",\"Scrypt\",\"PoS\",\"Scrypt\",\"Scrypt\",\"Scrypt\",\"Scrypt\",\"Scrypt\",\"Scrypt\",\"Scrypt\",\"CryptoNight\",\"SHA-512\",\"Ouroboros\",\"X11\",\"Equihash\",\"NeoScrypt\",\"X11\",\"Scrypt\",\"NeoScrypt\",\"Lyra2REv2\",\"Equihash\",\"Scrypt\",\"SHA-256\",\"NIST5\",\"PHI1612\",\"Dagger\",\"Scrypt\",\"Quark\",\"Scrypt\",\"POS 2.0\",\"Scrypt\",\"SHA-256\",\"X11\",\"NeoScrypt\",\"Ethash\",\"NeoScrypt\",\"X11\",\"DPoS\",\"NIST5\",\"X13\",\"Multiple\",\"Scrypt\",\"CryptoNight\",\"CryptoNight\",\"Ethash\",\"NIST5\",\"Quark\",\"X11\",\"CryptoNight-V7\",\"Scrypt\",\"Scrypt\",\"Scrypt\",\"X11\",\"BLAKE256\",\"X11\",\"NeoScrypt\",\"Quark\",\"NeoScrypt\",\"Scrypt\",\"Scrypt\",\"Scrypt\",\"X11\",\"X11\",\"SHA-256\",\"C11\",\"POS 3.0\",\"Ethash\",\"Scrypt\",\"CryptoNight\",\"SkunkHash\",\"Scrypt\",\"CryptoNight\",\"Scrypt\",\"Dagger\",\"Lyra2REv2\",\"X13\",\"Proof-of-BibleHash\",\"SHA-256 + Hive\",\"Scrypt\",\"Scrypt\",\"X11\",\"C11\",\"Proof-of-Authority\",\"X11\",\"XEVAN\",\"Scrypt\",\"VBFT\",\"Ethash\",\"CryptoNight\",\"Scrypt\",\"IMesh\",\"NIST5\",\"Scrypt\",\"Scrypt\",\"Equihash\",\"Scrypt\",\"Lyra2Z\",\"Green Protocol\",\"PoS\",\"Scrypt\",\"Semux BFT consensus\",\"X11\",\"Quark\",\"PoS\",\"CryptoNight\",\"X16R\",\"Scrypt\",\"NIST5\",\"Lyra2RE\",\"XEVAN\",\"Tribus\",\"Scrypt\",\"Lyra2Z\",\"CryptoNight\",\"CryptoNight Heavy\",\"CryptoNight\",\"Scrypt\",\"Scrypt\",\"Jump Consistent Hash\",\"SHA-256D\",\"CryptoNight\",\"Scrypt\",\"X15\",\"Scrypt\",\"Quark\",\"SHA-256\",\"DPoS\",\"X16R\",\"HMQ1725\",\"X11\",\"X16R\",\"Quark\",\"Quark\",\"Scrypt\",\"Lyra2REv2\",\"Quark\",\"Scrypt\",\"Scrypt\",\"CryptoNight-V7\",\"Cryptonight-GPU\",\"XEVAN\",\"CryptoNight Heavy\",\"X11\",\"X11\",\"Scrypt\",\"PoS\",\"SHA-256\",\"Keccak\",\"X11\",\"X11\",\"Scrypt\",\"SHA-512\",\"X16R\",\"ECC 256K1\",\"Equihash\",\"XEVAN\",\"Lyra2Z\",\"SHA-256\",\"XEVAN\",\"X11\",\"CryptoNight\",\"Quark\",\"Blake\",\"Blake\",\"Equihash\",\"Exosis\",\"Scrypt\",\"Scrypt\",\"Equihash\",\"Quark\",\"Equihash\",\"Quark\",\"Scrypt\",\"QuBit\",\"X11\",\"Scrypt\",\"XEVAN\",\"SHA-256D\",\"X11\",\"SHA-256\",\"X13\",\"SHA-256\",\"X11\",\"DPoS\",\"Scrypt\",\"Scrypt\",\"X11\",\"NeoScrypt\",\"Scrypt\",\"Blake\",\"Scrypt\",\"SHA-256\",\"Scrypt\",\"X11\",\"Scrypt\",\"Scrypt\",\"SHA-256\",\"X11\",\"SHA-256\",\"Scrypt\",\"Scrypt\",\"Scrypt\",\"Groestl\",\"X11\",\"Scrypt\",\"PoS\",\"Scrypt\",\"Scrypt\",\"X11\",\"SHA-256\",\"DPoS\",\"Scrypt\",\"Scrypt\",\"NeoScrypt\",\"SHA3-256\",\"Multiple\",\"X13\",\"Equihash+Scrypt\",\"DPoS\",\"Ethash\",\"DPoS\",\"SHA-256\",\"Leased POS\",\"PoS\",\"TRC10\",\"PoS\",\"SHA-256\",\"Scrypt\",\"CryptoNight\",\"Equihash\",\"Scrypt\"],\"Class\":{\"__ndarray__\":\"AAAAAAEAAAAAAAAAAAAAAAAAAAADAAAAAAAAAAAAAAABAAAAAQAAAAEAAAABAAAAAQAAAAAAAAAAAAAAAQAAAAEAAAABAAAAAAAAAAEAAAAAAAAAAAAAAAEAAAAAAAAAAAAAAAAAAAAAAAAAAQAAAAAAAAAAAAAAAQAAAAEAAAADAAAAAAAAAAAAAAAAAAAAAQAAAAEAAAABAAAAAQAAAAAAAAABAAAAAQAAAAAAAAAAAAAAAAAAAAEAAAABAAAAAAAAAAAAAAABAAAAAAAAAAEAAAAAAAAAAAAAAAEAAAAAAAAAAQAAAAAAAAABAAAAAAAAAAEAAAAAAAAAAAAAAAEAAAAAAAAAAQAAAAEAAAABAAAAAAAAAAAAAAACAAAAAQAAAAAAAAAAAAAAAAAAAAEAAAAAAAAAAAAAAAAAAAAAAAAAAQAAAAAAAAABAAAAAQAAAAEAAAAAAAAAAQAAAAAAAAABAAAAAAAAAAEAAAAAAAAAAAAAAAEAAAAAAAAAAQAAAAAAAAAAAAAAAAAAAAAAAAABAAAAAQAAAAEAAAAAAAAAAAAAAAAAAAABAAAAAQAAAAEAAAABAAAAAQAAAAAAAAAAAAAAAQAAAAAAAAABAAAAAAAAAAEAAAAAAAAAAAAAAAAAAAAAAAAAAQAAAAEAAAABAAAAAAAAAAAAAAABAAAAAAAAAAAAAAABAAAAAQAAAAAAAAAAAAAAAQAAAAEAAAABAAAAAQAAAAEAAAAAAAAAAAAAAAEAAAAAAAAAAQAAAAEAAAABAAAAAAAAAAAAAAAAAAAAAAAAAAEAAAABAAAAAAAAAAAAAAAAAAAAAQAAAAAAAAAAAAAAAQAAAAEAAAAAAAAAAAAAAAAAAAAAAAAAAQAAAAEAAAAAAAAAAwAAAAAAAAABAAAAAQAAAAEAAAAAAAAAAQAAAAAAAAABAAAAAQAAAAEAAAAAAAAAAAAAAAAAAAABAAAAAQAAAAAAAAAAAAAAAQAAAAAAAAAAAAAAAQAAAAEAAAABAAAAAAAAAAAAAAAAAAAAAQAAAAEAAAABAAAAAQAAAAAAAAAAAAAAAQAAAAEAAAAAAAAAAQAAAAAAAAAAAAAAAAAAAAEAAAABAAAAAAAAAAAAAAAAAAAAAAAAAAEAAAAAAAAAAAAAAAEAAAAAAAAAAAAAAAEAAAABAAAAAAAAAAAAAAAAAAAAAQAAAAEAAAAAAAAAAAAAAAAAAAAAAAAAAQAAAAAAAAABAAAAAQAAAAEAAAAAAAAAAQAAAAAAAAABAAAAAAAAAAAAAAAAAAAAAQAAAAEAAAAAAAAAAQAAAAAAAAAAAAAAAQAAAAEAAAABAAAAAQAAAAAAAAAAAAAAAAAAAAMAAAAAAAAAAAAAAAAAAAABAAAAAAAAAAEAAAABAAAAAAAAAAEAAAABAAAAAAAAAAEAAAABAAAAAAAAAAAAAAABAAAAAAAAAAAAAAAAAAAAAQAAAAAAAAAAAAAAAAAAAAAAAAABAAAAAQAAAAEAAAAAAAAAAQAAAAAAAAABAAAAAAAAAAAAAAABAAAAAQAAAAAAAAAAAAAAAQAAAAEAAAAAAAAAAAAAAAEAAAAAAAAAAAAAAAAAAAABAAAAAAAAAAAAAAABAAAAAQAAAAAAAAAAAAAAAAAAAAEAAAABAAAAAQAAAAAAAAAAAAAAAAAAAAAAAAAAAAAAAQAAAAEAAAAAAAAAAAAAAAAAAAAAAAAAAQAAAAEAAAAAAAAAAAAAAAEAAAAAAAAAAAAAAAEAAAAAAAAAAAAAAAEAAAABAAAAAAAAAAAAAAABAAAAAQAAAAAAAAAAAAAAAAAAAAAAAAABAAAAAQAAAAAAAAABAAAAAQAAAAEAAAAAAAAAAAAAAAAAAAADAAAAAQAAAAAAAAAAAAAAAQAAAAEAAAAAAAAAAAAAAAAAAAAAAAAAAQAAAAEAAAABAAAAAAAAAAAAAAAAAAAAAAAAAAEAAAABAAAAAQAAAAAAAAABAAAAAAAAAAAAAAAAAAAAAAAAAAEAAAAAAAAAAAAAAAAAAAABAAAAAAAAAAAAAAAAAAAAAQAAAAAAAAABAAAAAQAAAAAAAAABAAAAAQAAAAAAAAAAAAAAAQAAAAEAAAAAAAAAAAAAAAAAAAABAAAAAQAAAAEAAAABAAAAAQAAAAEAAAABAAAAAQAAAAEAAAABAAAAAAAAAAEAAAABAAAAAAAAAAEAAAAAAAAAAAAAAAEAAAABAAAAAAAAAAAAAAABAAAAAAAAAAEAAAAAAAAAAAAAAAAAAAAAAAAAAAAAAAAAAAABAAAAAAAAAAAAAAAAAAAAAAAAAAAAAAABAAAAAQAAAAAAAAAAAAAAAAAAAAEAAAAAAAAAAAAAAAAAAAABAAAAAAAAAAAAAAABAAAAAQAAAAEAAAABAAAAAQAAAAEAAAAAAAAAAQAAAAEAAAABAAAAAAAAAAAAAAAAAAAAAAAAAAMAAAABAAAAAAAAAAAAAAAAAAAAAQAAAAEAAAAAAAAAAQAAAAAAAAABAAAAAAAAAAAAAAAAAAAAAwAAAAEAAAABAAAAAQAAAAAAAAAAAAAAAAAAAAAAAAABAAAAAQAAAAEAAAAAAAAAAAAAAAAAAAABAAAAAAAAAAAAAAAAAAAAAAAAAAAAAAAAAAAAAQAAAAEAAAABAAAAAAAAAAEAAAABAAAAAQAAAAAAAAAAAAAAAAAAAAAAAAABAAAAAQAAAAAAAAAAAAAAAAAAAAEAAAABAAAAAAAAAAAAAAABAAAAAQAAAAAAAAAAAAAAAQAAAAEAAAAAAAAAAQAAAAAAAAABAAAAAQAAAAAAAAABAAAAAQAAAAEAAAA=\",\"dtype\":\"int32\",\"order\":\"little\",\"shape\":[533]},\"CoinName\":[\"42 Coin\",\"404Coin\",\"EliteCoin\",\"Bitcoin\",\"Ethereum\",\"Litecoin\",\"Dash\",\"Monero\",\"Ethereum Classic\",\"ZCash\",\"Bitshares\",\"DigiByte\",\"BitcoinDark\",\"PayCoin\",\"ProsperCoin\",\"KoboCoin\",\"Spreadcoin\",\"Argentum\",\"Aurora Coin\",\"BlueCoin\",\"MyriadCoin\",\"MoonCoin\",\"ZetaCoin\",\"SexCoin\",\"Quatloo\",\"EnergyCoin\",\"QuarkCoin\",\"Riecoin\",\"Digitalcoin \",\"BitBar\",\"Catcoin\",\"CryptoBullion\",\"CannaCoin\",\"CryptCoin\",\"CasinoCoin\",\"Diamond\",\"Verge\",\"DevCoin\",\"EarthCoin\",\"E-Gulden\",\"Einsteinium\",\"Emerald\",\"Exclusive Coin\",\"FlutterCoin\",\"Franko\",\"FeatherCoin\",\"GrandCoin\",\"GlobalCoin\",\"GoldCoin\",\"HoboNickels\",\"HyperStake\",\"Infinite Coin\",\"IOCoin\",\"IXcoin\",\"KrugerCoin\",\"LuckyCoin\",\"Litebar \",\"MaxCoin\",\"MegaCoin\",\"MediterraneanCoin\",\"MintCoin\",\"MinCoin\",\"MazaCoin\",\"Nautilus Coin\",\"NavCoin\",\"NobleCoin\",\"Namecoin\",\"NyanCoin\",\"OpalCoin\",\"Orbitcoin\",\"PotCoin\",\"PhoenixCoin\",\"Reddcoin\",\"RonPaulCoin\",\"StableCoin\",\"SmartCoin\",\"SuperCoin\",\"SyncCoin\",\"SysCoin\",\"TeslaCoin\",\"TigerCoin\",\"TittieCoin\",\"TorCoin\",\"TerraCoin\",\"UnbreakableCoin\",\"Unobtanium\",\"UroCoin\",\"UnitaryStatus Dollar\",\"UltraCoin\",\"ViaCoin\",\"VeriCoin\",\"Vertcoin\",\"WorldCoin\",\"X11 Coin\",\"Crypti\",\"JouleCoin\",\"StealthCoin\",\"ZCC Coin\",\"ByteCoin\",\"DigitalNote \",\"BurstCoin\",\"StorjCoin\",\"MonaCoin\",\"Neutron\",\"FairCoin\",\"Gulden\",\"RubyCoin\",\"PesetaCoin\",\"Kore\",\"Wild Beast Coin\",\"Dnotes\",\"Flo\",\"8BIT Coin\",\"Sativa Coin\",\"ArtByte\",\"Folding Coin\",\"Ucoin\",\"Unitus\",\"CypherPunkCoin\",\"OmniCron\",\"Vtorrent\",\"GreenCoin\",\"Cryptonite\",\"MasterCoin\",\"SoonCoin\",\"1Credit\",\"IslaCoin\",\"Nexus\",\"MarsCoin \",\"Crypto\",\"Anarchists Prime\",\"Droidz\",\"BowsCoin\",\"Squall Coin\",\"Song Coin\",\"BitZeny\",\"Diggits\",\"Expanse\",\"Paycon\",\"Siacoin\",\"Emercoin\",\"EverGreenCoin\",\"MindCoin\",\"I0coin\",\"Decred\",\"Revolution VR\",\"HOdlcoin\",\"EDRCoin\",\"Hitcoin\",\"Gamecredits\",\"DubaiCoin\",\"CarpeDiemCoin\",\"PWR Coin\",\"BillaryCoin\",\"GPU Coin\",\"Adzcoin\",\"SoilCoin\",\"YoCoin\",\"SibCoin\",\"EuropeCoin\",\"ZeitCoin\",\"SwingCoin\",\"SafeExchangeCoin\",\"Nebuchadnezzar\",\"Francs\",\"BolivarCoin\",\"Ratecoin\",\"Revenu\",\"Clockcoin\",\"VIP Tokens\",\"BitSend\",\"Omni\",\"Let it Ride\",\"PutinCoin\",\"iBankCoin\",\"Frankywillcoin\",\"MudraCoin\",\"PizzaCoin\",\"Lutetium Coin\",\"Komodo\",\"GoldBlocks\",\"CarterCoin\",\"Karbo\",\"BitTokens\",\"ZayedCoin\",\"MustangCoin\",\"ZoneCoin\",\"Circuits of Value\",\"RootCoin\",\"DopeCoin\",\"BitCurrency\",\"DollarCoin\",\"Swiscoin\",\"Shilling\",\"BuzzCoin\",\"Opair\",\"PesoBit\",\"Halloween Coin\",\"ZCoin\",\"CoffeeCoin\",\"RoyalCoin\",\"GanjaCoin V2\",\"TeamUP\",\"LanaCoin\",\"Elementrem\",\"ZClassic\",\"ARK\",\"InsaneCoin\",\"KiloCoin\",\"ArtexCoin\",\"EmberCoin\",\"XenixCoin\",\"FreeCoin\",\"PLNCoin\",\"AquariusCoin\",\"Kurrent\",\"Creatio\",\"Eternity\",\"Eurocoin\",\"BitcoinFast\",\"Stakenet\",\"BitConnect Coin\",\"MoneyCoin\",\"Enigma\",\"Cannabis Industry Coin\",\"Russiacoin\",\"PandaCoin\",\"GameUnits\",\"GAKHcoin\",\"Allsafe\",\"LiteCreed\",\"OsmiumCoin\",\"Bikercoins\",\"HexxCoin\",\"Klingon Empire Darsek\",\"Internet of People\",\"KushCoin\",\"Printerium\",\"PacCoin\",\"Impeach\",\"Citadel\",\"Zilbercoin\",\"FirstCoin\",\"BeaverCoin\",\"FindCoin\",\"VaultCoin\",\"Zero\",\"OpenChat\",\"Canada eCoin\",\"Zoin\",\"RenosCoin\",\"DubaiCoin\",\"VirtacoinPlus\",\"TajCoin\",\"Impact\",\"EB3coin\",\"Atmos\",\"HappyCoin\",\"Coinonat\",\"MacronCoin\",\"Condensate\",\"Independent Money System\",\"ArgusCoin\",\"LomoCoin\",\"ProCurrency\",\"GoldReserve\",\"BenjiRolls\",\"GrowthCoin\",\"ILCoin\",\"Phreak\",\"Degas Coin\",\"HTML5 Coin\",\"Ultimate Secure Cash\",\"EquiTrader\",\"QTUM\",\"Quantum Resistant Ledger\",\"Espers\",\"Dynamic\",\"Nano\",\"ChanCoin\",\"Dinastycoin\",\"Denarius\",\"DigitalPrice\",\"Virta Unique Coin\",\"Bitcoin Planet\",\"Unify\",\"BritCoin\",\"SocialCoin\",\"ArcticCoin\",\"DAS\",\"Linda\",\"LeviarCoin\",\"DeepOnion\",\"Bitcore\",\"gCn Coin\",\"SmartCash\",\"Signatum\",\"Onix\",\"Cream\",\"Bitcoin Cash\",\"Monoeci\",\"Draftcoin\",\"Vechain\",\"Sojourn Coin\",\"Stakecoin\",\"NewYorkCoin\",\"FrazCoin\",\"Kronecoin\",\"AdCoin\",\"Linx\",\"CoinonatX\",\"Ethereum Dark\",\"Sumokoin\",\"Obsidian\",\"Cardano\",\"Regalcoin\",\"BitcoinZ\",\"TrezarCoin\",\"Elements\",\"TerraNovaCoin\",\"VIVO Coin\",\"Rupee\",\"Bitcoin Gold\",\"WomenCoin\",\"Theresa May Coin\",\"NamoCoin\",\"LUXCoin\",\"Pirl\",\"Xios\",\"Bitcloud 2.0\",\"eBoost\",\"KekCoin\",\"BlackholeCoin\",\"Infinity Economics\",\"Pura\",\"Innova\",\"Ellaism\",\"GoByte\",\"Magnet\",\"Lamden Tau\",\"Electra\",\"Bitcoin Diamond\",\"SHIELD\",\"Cash & Back Coin\",\"UltraNote\",\"BitCoal\",\"DaxxCoin\",\"Bulwark\",\"Kalkulus\",\"AC3\",\"Lethean\",\"GermanCoin\",\"LiteCoin Ultra\",\"PopularCoin\",\"PhantomX\",\"Photon\",\"Sucre\",\"SparksPay\",\"Digiwage\",\"GunCoin\",\"IrishCoin\",\"Trollcoin\",\"Litecoin Plus\",\"Monkey Project\",\"Pioneer Coin\",\"UnitedBitcoin\",\"Interzone\",\"TokenPay\",\"1717 Masonic Commemorative Token\",\"My Big Coin\",\"TurtleCoin\",\"MUNcoin\",\"Unified Society USDEX\",\"Niobio Cash\",\"ShareChain\",\"Travelflex\",\"KREDS\",\"Tokyo Coin\",\"BiblePay\",\"LitecoinCash\",\"BitFlip\",\"LottoCoin\",\"Crypto Improvement Fund\",\"Stipend\",\"Poa Network\",\"Pushi\",\"Ellerium\",\"Velox\",\"Ontology\",\"Callisto Network\",\"BitTube\",\"Poseidon\",\"Aidos Kuneen\",\"Bitspace\",\"Briacoin\",\"Ignition\",\"Bitrolium\",\"MedicCoin\",\"Alpenschillling\",\"Bitcoin Green\",\"Deviant Coin\",\"Abjcoin\",\"Semux\",\"FuturoCoin\",\"Carebit\",\"Zealium\",\"Monero Classic\",\"Proton\",\"iDealCash\",\"Jumpcoin\",\"Infinex\",\"Bitcoin Incognito\",\"KEYCO\",\"HollyWoodCoin\",\"GINcoin\",\"PlatinCoin\",\"Loki\",\"Newton Coin\",\"Swisscoin\",\"Xt3ch\",\"MassGrid\",\"TheVig\",\"PluraCoin\",\"EmaratCoin\",\"Dekado\",\"Lynx\",\"Poseidon Quark\",\"BitcoinWSpectrum\",\"Muse\",\"Motion\",\"PlusOneCoin\",\"Axe\",\"Trivechain\",\"Dystem\",\"Giant\",\"Peony Coin\",\"Absolute Coin\",\"Vitae\",\"HexCoin\",\"TPCash\",\"Webchain\",\"Ryo\",\"Urals Coin\",\"Qwertycoin\",\"ARENON\",\"EUNO\",\"MMOCoin\",\"Ketan\",\"Project Pai\",\"XDNA\",\"PAXEX\",\"Azart\",\"ThunderStake\",\"Kcash\",\"Xchange\",\"Acute Angle Cloud\",\"CrypticCoin\",\"Bettex coin\",\"Actinium\",\"Bitcoin SV\",\"BitMoney\",\"Junson Ming Chan Coin\",\"FREDEnergy\",\"HerbCoin\",\"Universal Molecule\",\"Lithium\",\"PirateCash\",\"Exosis\",\"Block-Logic\",\"Oduwa\",\"Beam\",\"Galilel\",\"Bithereum\",\"Crypto Sports\",\"Credit\",\"SLICE\",\"Dash Platinum\",\"Nasdacoin\",\"Beetle Coin\",\"Titan Coin\",\"Award\",\"BLAST\",\"Bitcoin Rhodium\",\"GlobalToken\",\"Insane Coin\",\"ALAX\",\"LiteDoge\",\"SolarCoin\",\"TruckCoin\",\"UFO Coin\",\"OrangeCoin\",\"BlakeCoin\",\"BitstarCoin\",\"NeosCoin\",\"HyperCoin\",\"PinkCoin\",\"Crypto Escudo\",\"AudioCoin\",\"IncaKoin\",\"Piggy Coin\",\"Crown Coin\",\"Genstake\",\"SmileyCoin\",\"XiaoMiCoin\",\"Groestlcoin\",\"CapriCoin\",\" ClubCoin\",\"Radium\",\"Bata\",\"Pakcoin\",\"Creditbit \",\"OKCash\",\"Lisk\",\"HiCoin\",\"WhiteCoin\",\"FriendshipCoin\",\"Fiii\",\"JoinCoin\",\"Triangles Coin\",\"Vollar\",\"EOS\",\"Reality Clash\",\"Oxycoin\",\"TigerCash\",\"Waves\",\"Particl\",\"BitTorrent\",\"Nxt\",\"ZEPHYR\",\"Gapcoin\",\"Beldex\",\"Horizen\",\"BitcoinPlus\"],\"ProofType\":[\"PoW/PoS\",\"PoW/PoS\",\"PoW/PoS\",\"PoW\",\"PoW\",\"PoW\",\"PoW/PoS\",\"PoW\",\"PoW\",\"PoW\",\"PoS\",\"PoW\",\"PoW/PoS\",\"PoS\",\"PoW\",\"PoW/PoS\",\"PoW\",\"PoW\",\"PoW/PoS\",\"PoW/PoS\",\"PoW\",\"PoW\",\"PoW\",\"PoW\",\"PoW\",\"PoW/PoS\",\"PoW\",\"PoW\",\"PoW\",\"PoW/PoS\",\"PoW\",\"PoW/PoS\",\"PoW\",\"PoW\",\"PoC\",\"PoW/PoS\",\"PoW\",\"PoW\",\"PoW\",\"PoW\",\"PoW\",\"PoW\",\"PoS\",\"PoS/PoW/PoT\",\"PoW\",\"PoW\",\"PoW\",\"PoW\",\"PoW\",\"PoW/PoS\",\"PoS\",\"PoW\",\"PoW/PoS\",\"PoW\",\"PoW\",\"PoW\",\"PoW\",\"PoW/PoS\",\"PoW\",\"PoW\",\"PoS\",\"PoW\",\"PoW/PoS\",\"PoS\",\"PoW/PoS\",\"PoW\",\"PoW\",\"PoW\",\"PoW/PoS\",\"PoW/PoS\",\"PoW/PoS\",\"PoW/PoS\",\"PoW/PoS\",\"PoW\",\"PoW\",\"PoW\",\"PoS\",\"PoW/PoS\",\"PoW\",\"PoS\",\"PoW\",\"PoS\",\"PoW/PoS\",\"PoW\",\"PoW\",\"PoW\",\"PoW\",\"PoW/PoS\",\"PoW/PoS\",\"PoW\",\"PoST\",\"PoW\",\"PoW\",\"PoW/PoS\",\"PoS\",\"PoW\",\"PoW/PoS\",\"PoW/PoS\",\"PoW\",\"PoW\",\"PoC\",\"PoS\",\"PoW\",\"PoW/PoS\",\"PoW/PoS\",\"PoW\",\"PoS\",\"PoW\",\"PoW/PoS\",\"PoW\",\"PoS\",\"PoW\",\"PoW/PoS\",\"PoW/PoS\",\"PoW\",\"PoW\",\"PoS\",\"PoW\",\"PoW\",\"PoW\",\"PoW/PoS\",\"PoW\",\"PoW\",\"PoW\",\"PoW\",\"PoW\",\"PoW/PoS\",\"PoW/nPoS\",\"PoW\",\"PoW\",\"PoW\",\"PoW/PoS\",\"PoW\",\"PoS/PoW\",\"PoW\",\"PoW\",\"PoS\",\"PoW\",\"PoW/PoS\",\"PoW\",\"PoW/PoS\",\"PoW/PoS\",\"PoW\",\"PoW\",\"PoW/PoS\",\"PoW\",\"PoW\",\"PoW/PoS\",\"PoW/PoS\",\"PoW\",\"PoW/PoS\",\"PoW\",\"PoW/PoS\",\"PoW/PoS\",\"PoS\",\"PoW\",\"PoW\",\"PoW\",\"PoW\",\"PoW/PoS\",\"PoS\",\"PoW/PoS\",\"PoC\",\"PoS\",\"PoW\",\"PoW\",\"PoW/PoS\",\"PoW/PoS\",\"PoW/PoS\",\"PoW/PoS\",\"PoW/PoS\",\"PoW\",\"PoS\",\"PoW/PoS\",\"PoW/PoS\",\"PoW/PoS\",\"PoS\",\"PoW\",\"PoS\",\"dPoW/PoW\",\"PoW/PoS\",\"PoW/PoS\",\"PoW\",\"PoW/PoS\",\"PoW\",\"PoW/PoS\",\"PoW/PoS\",\"PoW\",\"PoW/PoS\",\"PoW\",\"PoS\",\"PoW\",\"PoW/PoW\",\"PoW\",\"PoW/PoS\",\"PoS\",\"PoW/PoS\",\"PoW/PoS\",\"PoW\",\"PoS\",\"PoS\",\"PoW/PoS\",\"PoS\",\"PoW/PoS\",\"PoW\",\"PoW\",\"DPoS\",\"PoW/PoS\",\"PoW\",\"PoW\",\"PoW/PoS\",\"PoW/PoS\",\"PoS\",\"PoW/PoS\",\"PoW/PoS\",\"PoW\",\"PoS\",\"PoW/PoS\",\"PoW/PoS\",\"PoW/PoS\",\"TPoS\",\"PoW/PoS\",\"PoW/PoS\",\"PoW/PoS\",\"PoW\",\"PoW/PoS\",\"PoS\",\"PoW/PoS\",\"PoW/PoS\",\"PoS\",\"PoW/PoS\",\"PoW\",\"PoW\",\"PoW\",\"PoW/PoS\",\"PoW/PoS\",\"PoW/PoS\",\"PoW/PoS\",\"PoW\",\"PoW/PoS\",\"PoW\",\"PoS\",\"PoW/PoS \",\"PoW\",\"PoS\",\"PoW\",\"PoW\",\"PoW/PoS\",\"PoW\",\"PoW\",\"PoS\",\"PoW\",\"PoW/PoS\",\"PoW/PoS\",\"PoW/PoS\",\"PoW\",\"PoS\",\"PoW/PoS\",\"PoW\",\"PoS\",\"PoW/PoS\",\"PoW/PoS\",\"PoW/PoS\",\"PoW/PoS\",\"PoS\",\"PoW/PoS\",\"PoW\",\"PoS\",\"PoW\",\"PoS\",\"PoW/PoS\",\"PoW/PoS\",\"PoS\",\"PoW\",\"PoS\",\"PoW\",\"PoW/PoS\",\"PoW\",\"PoW\",\"PoW\",\"PoW\",\"PoW/PoS\",\"PoW\",\"PoW/PoS\",\"PoW/PoS\",\"PoW\",\"PoW/PoS\",\"PoW\",\"PoW\",\"PoW\",\"PoW/PoS\",\"PoW\",\"PoW/PoS\",\"PoW\",\"PoW\",\"PoW\",\"PoS\",\"PoW\",\"PoW/PoS\",\"PoW\",\"PoW/PoS\",\"PoS\",\"Proof of Authority\",\"PoW\",\"PoS\",\"PoW\",\"PoW\",\"PoW\",\"PoW\",\"PoW\",\"PoW/PoS\",\"PoW/PoS\",\"PoW\",\"PoS\",\"PoS\",\"PoW/PoS\",\"PoW\",\"PoW/PoS\",\"PoW\",\"PoW/PoS\",\"PoW\",\"PoS\",\"PoW\",\"PoW/PoS\",\"PoW/PoS\",\"PoW/PoS\",\"PoW/PoS\",\"PoW\",\"PoW/PoS\",\"PoW/PoS\",\"PoW\",\"PoS\",\"PoW/PoS\",\"PoS\",\"PoW\",\"PoW\",\"PoW\",\"PoW\",\"PoW/PoS\",\"DPoS\",\"PoW/PoS\",\"PoW/PoS\",\"PoW\",\"PoW/PoS\",\"PoW\",\"PoW\",\"PoW\",\"PoS\",\"PoS\",\"PoW\",\"PoW\",\"PoW/PoS\",\"PoW/PoS\",\"PoW\",\"PoW/PoS\",\"PoW\",\"PoW\",\"PoW\",\"PoS\",\"PoW\",\"PoW\",\"PoW/PoS\",\"PoW/PoS\",\"PoS\",\"PoW\",\"PoW\",\"PoW\",\"PoS\",\"PoS\",\"PoW and PoS\",\"PoW\",\"PoW\",\"PoW/PoS\",\"PoW\",\"PoW\",\"PoW\",\"PoW\",\"PoS\",\"POBh\",\"PoW + Hive\",\"PoW\",\"PoW\",\"PoW\",\"PoW/PoS\",\"PoA\",\"PoW/PoS\",\"PoW/PoS\",\"PoS\",\"PoS\",\"PoW\",\"PoW\",\"PoW\",\"PoW\",\"PoW/PoS\",\"PoW/PoS\",\"PoW/PoS\",\"PoW\",\"PoS\",\"PoW\",\"PoS\",\"PoS\",\"PoW/PoS\",\"DPoS\",\"PoW\",\"PoW/PoS\",\"PoS\",\"PoW\",\"PoS\",\"PoW/PoS\",\"PoW\",\"PoW\",\"PoS/PoW\",\"PoW\",\"PoS\",\"PoW\",\"PoW\",\"PoW\",\"PoW\",\"PoW/PoS\",\"PoS\",\"PoW\",\"PoW/PoS\",\"PoW\",\"PoW/PoS\",\"PoS\",\"HPoW\",\"PoS\",\"PoS\",\"PoS\",\"PoW\",\"PoW\",\"PoW\",\"PoW/PoS\",\"PoS\",\"PoW/PoS\",\"PoS\",\"PoW/PoS\",\"PoS\",\"PoW\",\"PoW/PoS\",\"PoW\",\"PoW\",\"PoW\",\"PoW\",\"PoS\",\"PoW/PoS\",\"PoS\",\"PoS\",\"PoW\",\"PoW/PoS\",\"PoS\",\"PoW\",\"PoW/PoS\",\"Zero-Knowledge Proof\",\"PoW\",\"DPOS\",\"PoW\",\"PoS\",\"PoW\",\"PoW\",\"Pos\",\"PoS\",\"PoW\",\"PoW/PoS\",\"PoW\",\"PoW\",\"PoS\",\"PoW\",\"PoW\",\"PoW/PoS\",\"PoW\",\"PoW/PoS\",\"PoW\",\"PoS\",\"PoW/PoS\",\"PoW\",\"PoS\",\"PoW/PoS\",\"PoW/PoS\",\"PoW/PoS\",\"PoW/PoS\",\"PoW\",\"PoW\",\"PoW\",\"PoW/PoS\",\"DPoS\",\"PoW/PoS\",\"PoW\",\"PoW/PoS\",\"PoW\",\"PoW/PoS\",\"PoW\",\"PoW/PoS\",\"PoS\",\"PoW/PoS\",\"PoW/PoS\",\"PoW\",\"PoW/PoS\",\"PoW/PoS\",\"PoW/PoS\",\"PoW\",\"PoW/PoS\",\"PoW\",\"PoW/PoS\",\"PoW\",\"PoW/PoS\",\"PoW/PoS\",\"PoS\",\"PoW\",\"PoW\",\"Proof of Trust\",\"PoW/PoS\",\"DPoS\",\"PoS\",\"PoW/PoS\",\"PoW/PoS\",\"DPoC\",\"PoW\",\"PoW/PoS\",\"PoW\",\"DPoS\",\"PoW\",\"DPoS\",\"PoS\",\"LPoS\",\"PoS\",\"DPoS\",\"PoS/LPoS\",\"DPoS\",\"PoW/PoS\",\"PoW\",\"PoW\",\"PoS\"],\"TotalCoinSupply\":[\"42\",\"532000000\",\"314159265359\",\"21000000\",\"0\",\"84000000\",\"22000000\",\"0\",\"210000000\",\"21000000\",\"3600570502\",\"21000000000\",\"22000000\",\"12500000\",\"21000000\",\"350000000\",\"20000000\",\"64000000\",\"16768584\",\"0\",\"2000000000\",\"384000000000\",\"169795588\",\"250000000\",\"100000000\",\"0\",\"247000000\",\"84000000\",\"48166000\",\"500000\",\"21000000 \",\"1000000\",\"13140000\",\"18000000\",\"40000000000\",\"4380000\",\"16555000000\",\"21000000000\",\"13500000000\",\"21000000 \",\"299792458\",\"32000000\",\"0\",\"0\",\"11235813\",\"336000000\",\"1420609614\",\"70000000\",\"72245700\",\"120000000\",\"0\",\"90600000000\",\"22000000\",\"21000000\",\"265420800\",\"20000000\",\"1350000\",\"100000000\",\"42000000\",\"200000000\",\"0\",\"10000000\",\"2419200000\",\"16180000\",\"0\",\"15000000000\",\"21000000\",\"337000000\",\"0\",\"3770000\",\"420000000\",\"98000000\",\"0\",\"21000000\",\"250000000\",\"51200000\",\"0\",\"1000\",\"888000000\",\"100000000\",\"47011968\",\"2300000000\",\"10000000\",\"42000000\",\"80000000\",\"250000\",\"0\",\"1600000000\",\"100000000\",\"23000000\",\"0\",\"84000000\",\"265420800\",\"5500000\",\"0\",\"45000000\",\"0\",\"1000000000\",\"184467440735\",\"10000000000\",\"2158812800\",\"500000000\",\"105120000\",\"68000000\",\"0\",\"1680000000\",\"0\",\"166386000\",\"12000000\",\"2628000\",\"500000000\",\"160000000\",\"0\",\"10000000\",\"1000000000\",\"1000000000\",\"20000000\",\"0\",\"0\",\"3371337\",\"20000000\",\"10000000000\",\"1840000000\",\"619478\",\"21000000\",\"92000000000\",\"0\",\"78000000\",\"33000000\",\"65789100\",\"53760000\",\"5060000\",\"21000000\",\"0\",\"210240000\",\"250000000\",\"100000000\",\"16906397\",\"50000000\",\"0\",\"1000000000\",\"26298000\",\"16000000\",\"21000000\",\"21000000\",\"210000000\",\"81962100\",\"22000000\",\"26550000000\",\"84000000\",\"10500000\",\"21626280000 \",\"0\",\"42000000\",\"221052632\",\"84000000\",\"30000000\",\"168351300\",\"24000000\",\"384000000\",\" 99000000000\",\"40000000\",\"2147483647\",\"20000000\",\"20000000\",\"25000000\",\"75000000\",\"222725000\",\"525000000\",\"90000000\",\"139000000\",\"616448\",\"33500000\",\"2000000000\",\"44333333\",\"100000000\",\"200000000\",\"25000000\",\"657000000\",\"200000000\",\"50000000\",\"90000000\",\"10000000\",\"21000000\",\"9736000\",\"3000000\",\"21000000\",\"1200000000\",\"0\",\"200000000\",\"0\",\"10638298\",\"3100000000\",\"30000000\",\"20000000000\",\"74000000\",\"0\",\"1500000000\",\"21400000\",\"39999898\",\"2500124\",\"100000000\",\"301000000\",\"7506000000\",\"26205539\",\"21000000\",\"125000000\",\"30000000\",\"10000000000\",\"500000000\",\"850000000\",\"3853326.77707314\",\"50000000\",\"38540000 \",\"42000000\",\"228000000\",\"20000000\",\"60000000\",\"20000000\",\"33000000\",\"76500000\",\"28000000\",\"650659833\",\"5000000\",\"21000000\",\"144000000\",\"32514916898\",\"13000000\",\"3315789\",\"15000000\",\"78835200\",\"2714286\",\"25000000\",\"9999999\",\"500000000\",\"21000000\",\"9354000\",\"20000000\",\"100000000000\",\"21933333\",\"185000000\",\"55000000\",\"110000000\",\"3360000\",\"14524851.4827\",\"1000000000\",\"17000000\",\"1000000000\",\"100000000 \",\"21000000\",\"34426423\",\"2232901\",\"100000000\",\"36900000\",\"110000000\",\"4000000000\",\"110290030\",\"100000000\",\"48252000\",\"400000000\",\"500000000\",\"21212121\",\"28600000\",\"1000000000\",\"75000000000\",\"40000000\",\"35520400\",\"2000000000\",\"2500000000\",\"30000000\",\"105000000\",\"90000000000\",\"200084200\",\"72000000\",\"100000000\",\"105000000\",\"50000000000\",\"0\",\"340282367\",\"30000000\",\"2000000000\",\"10000000\",\"100000000\",\"120000000\",\"100000000\",\"19276800\",\"30000000\",\" 75000000\",\"60000000\",\"18900000\",\"50000000000\",\"54000000\",\"18898187.6216583\",\"21000000\",\"200000000000\",\"5000000000\",\"137500000\",\"1100000000\",\"100000000\",\"21000000\",\"9507271\",\"17405891.19707116\",\"86712634466\",\"10500000000\",\"61599965\",\"0\",\"20000000\",\"84000000\",\"100000000\",\"100000000\",\"48252000\",\"4200000\",\"88888888\",\"91388946\",\"45000000000\",\"27000000\",\"21000000000\",\"400000000\",\"1800000000\",\"15733333\",\"27000000\",\"24000000\",\"21000000\",\"25000000000\",\"100000000\",\"1200000000\",\"60000000\",\"156306732.71\",\"21000000\",\"200000000\",\"100000000\",\"21000000\",\"14788275.991\",\"9000000000\",\"350000000\",\"45000000\",\"280000000\",\"31800000\",\"144000000\",\"500000000\",\"30000000000\",\"210000000\",\"660000000\",\"210000000\",\"85000000000\",\"12500000\",\"10000000000\",\"27716121\",\"20000000\",\"550000000\",\"999481516\",\"50000000000\",\"150000000\",\"4999999999\",\"50000000\",\" 90000000000\",\"19800000\",\"21000000\",\"120000000\",\"500000000\",\"64000000\",\"900000000\",\"4000000\",\"21000000\",\"23000000\",\"20166000\",\"23000000\",\"25000000\",\"1618033\",\"30000000\",\"1000000000000\",\"16600000\",\"232000000\",\"336000000\",\"10000000000\",\"100000000\",\"1100000000\",\"800000000\",\"5200000000\",\"840000000\",\"40000000\",\"18406979840\",\"500000000\",\"19340594\",\"252460800\",\"25000000\",\"60000000\",\"124000000\",\"1000000000\",\"6500000000\",\"1000000000\",\"21000000\",\"25000000\",\"50000000\",\"3000000\",\"5000000\",\"70000000\",\"500000000\",\"300000000\",\"21000000\",\"88000000\",\"30000000\",\"100000000\",\"100000000\",\"200000000\",\"80000000\",\"18400000\",\"45000000\",\"5121951220\",\"21000000\",\"26280000\",\"21000000\",\"18000000\",\"26000000\",\"10500000\",\"600000518\",\"150000000\",\"184000000000\",\"10200000000\",\"44000000\",\"168000000\",\"100000000\",\"1000000000\",\"84000000\",\"90000000\",\"92000000000\",\"650000000 \",\"100262205\",\"18081806 \",\"22075700\",\"21000000\",\"21000000\",\"82546564\",\"21000000\",\"5151000\",\"16880000000\",\"52500000\",\"100000000\",\"22105263\",\"1000000000\",\"1750000000\",\"88188888\",\"210000000\",\"184470000000\",\"55000000\",\"50000000\",\"260000000\",\"210000000\",\"2100000000\",\"366000000\",\"100000000\",\"25000000\",\"18000000000\",\"1000000000\",\"100000000\",\"1000000000\",\"7600000000\",\"50000000\",\"84000000\",\"21000000\",\"70000000000\",\"0\",\"8080000000\",\"54000000\",\"105120001.44\",\"25228800\",\"105000000\",\"21000000\",\"120000000\",\"21000000\",\"262800000\",\"19035999\",\"30886000\",\"13370000\",\"74800000000\",\"100000000\",\"19700000\",\"84000000\",\"500000000\",\"5000000000\",\"420000000\",\"64000000\",\"2100000\",\"168000000\",\"30000000\",\"1000000000\",\"35000000000\",\"98100000000\",\"0\",\"4000000000\",\"200000000\",\"7000000000\",\"54256119\",\"21000000\",\"0\",\"500000000\",\"1000000000\",\"10500000000\",\"190000000\",\"1000000000\",\"42000000\",\"15000000\",\"50000000000\",\"400000000\",\"105000000\",\"208000000\",\"160000000\",\"9000000\",\"5000000\",\"182000000\",\"16504333\",\"105000000\",\"159918400\",\"10008835635\",\"300000000\",\"60168145\",\"5000000000\",\"2800000\",\"120000\",\"2100000000\",\"0\",\"24487944\",\"0\",\"1000000000\",\"100000000\",\"8634140\",\"990000000000\",\"1000000000\",\"2000000000\",\"250000000\",\"1400222610\",\"21000000\",\"1000000\"],\"TotalCoinsMined\":{\"__ndarray__\":\"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\",\"dtype\":\"float64\",\"order\":\"little\",\"shape\":[533]}},\"selected\":{\"id\":\"3398\"},\"selection_policy\":{\"id\":\"3433\"}},\"id\":\"3397\",\"type\":\"ColumnDataSource\"},{\"attributes\":{},\"id\":\"3433\",\"type\":\"UnionRenderers\"},{\"attributes\":{\"editor\":{\"id\":\"3410\"},\"field\":\"ProofType\",\"formatter\":{\"id\":\"3409\"},\"title\":\"ProofType\"},\"id\":\"3411\",\"type\":\"TableColumn\"},{\"attributes\":{\"children\":[{\"id\":\"3396\"},{\"id\":\"3429\"},{\"id\":\"3436\"}],\"margin\":[0,0,0,0],\"name\":\"Row05299\",\"tags\":[\"embedded\"]},\"id\":\"3395\",\"type\":\"Row\"},{\"attributes\":{},\"id\":\"3409\",\"type\":\"StringFormatter\"},{\"attributes\":{},\"id\":\"3414\",\"type\":\"StringFormatter\"},{\"attributes\":{},\"id\":\"3399\",\"type\":\"StringFormatter\"},{\"attributes\":{},\"id\":\"3400\",\"type\":\"StringEditor\"},{\"attributes\":{},\"id\":\"3425\",\"type\":\"IntEditor\"},{\"attributes\":{\"editor\":{\"id\":\"3425\"},\"field\":\"Class\",\"formatter\":{\"id\":\"3424\"},\"title\":\"Class\"},\"id\":\"3426\",\"type\":\"TableColumn\"},{\"attributes\":{\"editor\":{\"id\":\"3400\"},\"field\":\"CoinName\",\"formatter\":{\"id\":\"3399\"},\"title\":\"CoinName\"},\"id\":\"3401\",\"type\":\"TableColumn\"},{\"attributes\":{\"source\":{\"id\":\"3397\"}},\"id\":\"3431\",\"type\":\"CDSView\"},{\"attributes\":{},\"id\":\"3404\",\"type\":\"StringFormatter\"},{\"attributes\":{\"margin\":[5,5,5,5],\"name\":\"HSpacer05303\",\"sizing_mode\":\"stretch_width\"},\"id\":\"3396\",\"type\":\"Spacer\"},{\"attributes\":{\"editor\":{\"id\":\"3420\"},\"field\":\"TotalCoinsMined\",\"formatter\":{\"id\":\"3419\"},\"title\":\"TotalCoinsMined\"},\"id\":\"3421\",\"type\":\"TableColumn\"},{\"attributes\":{\"editor\":{\"id\":\"3415\"},\"field\":\"TotalCoinSupply\",\"formatter\":{\"id\":\"3414\"},\"title\":\"TotalCoinSupply\"},\"id\":\"3416\",\"type\":\"TableColumn\"},{\"attributes\":{},\"id\":\"3405\",\"type\":\"StringEditor\"},{\"attributes\":{\"editor\":{\"id\":\"3405\"},\"field\":\"Algorithm\",\"formatter\":{\"id\":\"3404\"},\"title\":\"Algorithm\"},\"id\":\"3406\",\"type\":\"TableColumn\"},{\"attributes\":{\"format\":\"0,0.0[00000]\"},\"id\":\"3419\",\"type\":\"NumberFormatter\"},{\"attributes\":{},\"id\":\"3410\",\"type\":\"StringEditor\"},{\"attributes\":{},\"id\":\"3398\",\"type\":\"Selection\"},{\"attributes\":{},\"id\":\"3424\",\"type\":\"NumberFormatter\"}],\"root_ids\":[\"3395\"]},\"title\":\"Bokeh Application\",\"version\":\"2.3.2\"}};\n",
       "    var render_items = [{\"docid\":\"b8b4ad89-252a-4f1d-b3ea-28ece321338c\",\"root_ids\":[\"3395\"],\"roots\":{\"3395\":\"68c10c3c-4318-4ab7-8682-8440c4a0a773\"}}];\n",
       "    root.Bokeh.embed.embed_items_notebook(docs_json, render_items);\n",
       "  }\n",
       "  if (root.Bokeh !== undefined && root.Bokeh.Panel !== undefined) {\n",
       "    embed_document(root);\n",
       "  } else {\n",
       "    var attempts = 0;\n",
       "    var timer = setInterval(function(root) {\n",
       "      if (root.Bokeh !== undefined && root.Bokeh.Panel !== undefined) {\n",
       "        clearInterval(timer);\n",
       "        embed_document(root);\n",
       "      } else if (document.readyState == \"complete\") {\n",
       "        attempts++;\n",
       "        if (attempts > 200) {\n",
       "          clearInterval(timer);\n",
       "          console.log(\"Bokeh: ERROR: Unable to run BokehJS code because BokehJS library is missing\");\n",
       "        }\n",
       "      }\n",
       "    }, 25, root)\n",
       "  }\n",
       "})(window);</script>"
      ],
      "text/plain": [
       ":Table   [CoinName,Algorithm,ProofType,TotalCoinSupply,TotalCoinsMined,Class]"
      ]
     },
     "execution_count": 275,
     "metadata": {
      "application/vnd.holoviews_exec.v0+json": {
       "id": "3395"
      }
     },
     "output_type": "execute_result"
    }
   ],
   "source": [
    "# Create columns\n",
    "columns = ['CoinName', 'Algorithm', 'ProofType', 'TotalCoinSupply', 'TotalCoinsMined', 'Class']\n",
    "# Table with tradable cryptos\n",
    "clustered_df.hvplot.table(columns)"
   ]
  },
  {
   "cell_type": "code",
   "execution_count": 276,
   "metadata": {},
   "outputs": [
    {
     "name": "stdout",
     "output_type": "stream",
     "text": [
      "the total number of tradable cryptocurrencies is 532\n"
     ]
    }
   ],
   "source": [
    "# Print the total number of tradable cryptocurrencies\n",
    "crypto_len = len(clustered_df.groupby(['CoinName']).sum())\n",
    "\n",
    "print (f'the total number of tradable cryptocurrencies is {crypto_len}')"
   ]
  },
  {
   "cell_type": "markdown",
   "metadata": {},
   "source": [
    "#### Scatter Plot with Tradable Cryptocurrencies"
   ]
  },
  {
   "cell_type": "code",
   "execution_count": 277,
   "metadata": {},
   "outputs": [],
   "source": [
    "# Scale data to create the scatter plot\n",
    "\n",
    "clustered_df['TotalCoinsMined'] = clustered_df['TotalCoinsMined'].astype(float)/1000000\n",
    "clustered_df['TotalCoinSupply'] = clustered_df['TotalCoinSupply'].astype(float)/1000000"
   ]
  },
  {
   "cell_type": "code",
   "execution_count": 278,
   "metadata": {},
   "outputs": [
    {
     "data": {},
     "metadata": {},
     "output_type": "display_data"
    },
    {
     "data": {
      "application/vnd.holoviews_exec.v0+json": "",
      "text/html": [
       "<div id='3448'>\n",
       "\n",
       "\n",
       "\n",
       "\n",
       "\n",
       "  <div class=\"bk-root\" id=\"377d7e15-79a6-4e03-987e-b8aeb25eaf08\" data-root-id=\"3448\"></div>\n",
       "</div>\n",
       "<script type=\"application/javascript\">(function(root) {\n",
       "  function embed_document(root) {\n",
       "    var docs_json = {\"0241ff03-2e4b-437a-9795-3978140e5bdd\":{\"defs\":[{\"extends\":null,\"module\":null,\"name\":\"ReactiveHTML1\",\"overrides\":[],\"properties\":[]},{\"extends\":null,\"module\":null,\"name\":\"FlexBox1\",\"overrides\":[],\"properties\":[{\"default\":\"flex-start\",\"kind\":null,\"name\":\"align_content\"},{\"default\":\"flex-start\",\"kind\":null,\"name\":\"align_items\"},{\"default\":\"row\",\"kind\":null,\"name\":\"flex_direction\"},{\"default\":\"wrap\",\"kind\":null,\"name\":\"flex_wrap\"},{\"default\":\"flex-start\",\"kind\":null,\"name\":\"justify_content\"}]},{\"extends\":null,\"module\":null,\"name\":\"TemplateActions1\",\"overrides\":[],\"properties\":[{\"default\":0,\"kind\":null,\"name\":\"open_modal\"},{\"default\":0,\"kind\":null,\"name\":\"close_modal\"}]},{\"extends\":null,\"module\":null,\"name\":\"MaterialTemplateActions1\",\"overrides\":[],\"properties\":[{\"default\":0,\"kind\":null,\"name\":\"open_modal\"},{\"default\":0,\"kind\":null,\"name\":\"close_modal\"}]}],\"roots\":{\"references\":[{\"attributes\":{\"margin\":[5,5,5,5],\"name\":\"HSpacer05431\",\"sizing_mode\":\"stretch_width\"},\"id\":\"3526\",\"type\":\"Spacer\"},{\"attributes\":{\"overlay\":{\"id\":\"3475\"}},\"id\":\"3473\",\"type\":\"BoxZoomTool\"},{\"attributes\":{\"source\":{\"id\":\"3484\"}},\"id\":\"3493\",\"type\":\"CDSView\"},{\"attributes\":{\"bottom_units\":\"screen\",\"fill_alpha\":0.5,\"fill_color\":\"lightgrey\",\"left_units\":\"screen\",\"level\":\"overlay\",\"line_alpha\":1.0,\"line_color\":\"black\",\"line_dash\":[4,4],\"line_width\":2,\"right_units\":\"screen\",\"syncable\":false,\"top_units\":\"screen\"},\"id\":\"3475\",\"type\":\"BoxAnnotation\"},{\"attributes\":{},\"id\":\"3463\",\"type\":\"BasicTicker\"},{\"attributes\":{\"active_multi\":null,\"tools\":[{\"id\":\"3452\"},{\"id\":\"3470\"},{\"id\":\"3471\"},{\"id\":\"3472\"},{\"id\":\"3473\"},{\"id\":\"3474\"}]},\"id\":\"3476\",\"type\":\"Toolbar\"},{\"attributes\":{},\"id\":\"3458\",\"type\":\"LinearScale\"},{\"attributes\":{\"fill_alpha\":{\"value\":0.1},\"fill_color\":{\"field\":\"color\",\"transform\":{\"id\":\"3483\"}},\"line_alpha\":{\"value\":0.1},\"line_color\":{\"field\":\"color\",\"transform\":{\"id\":\"3483\"}},\"size\":{\"value\":5.477225575051661},\"x\":{\"field\":\"TotalCoinsMined\"},\"y\":{\"field\":\"TotalCoinSupply\"}},\"id\":\"3488\",\"type\":\"Scatter\"},{\"attributes\":{\"fill_color\":{\"field\":\"color\",\"transform\":{\"id\":\"3483\"}},\"line_color\":{\"field\":\"color\",\"transform\":{\"id\":\"3483\"}},\"size\":{\"value\":5.477225575051661},\"x\":{\"field\":\"TotalCoinsMined\"},\"y\":{\"field\":\"TotalCoinSupply\"}},\"id\":\"3487\",\"type\":\"Scatter\"},{\"attributes\":{\"axis\":{\"id\":\"3462\"},\"grid_line_color\":null,\"ticker\":null},\"id\":\"3465\",\"type\":\"Grid\"},{\"attributes\":{\"fill_color\":{\"field\":\"color\",\"transform\":{\"id\":\"3483\"}},\"line_color\":{\"field\":\"color\",\"transform\":{\"id\":\"3483\"}},\"size\":{\"value\":5.477225575051661},\"x\":{\"field\":\"TotalCoinsMined\"},\"y\":{\"field\":\"TotalCoinSupply\"}},\"id\":\"3489\",\"type\":\"Scatter\"},{\"attributes\":{\"axis\":{\"id\":\"3466\"},\"dimension\":1,\"grid_line_color\":null,\"ticker\":null},\"id\":\"3469\",\"type\":\"Grid\"},{\"attributes\":{\"text_color\":\"black\",\"text_font_size\":\"12pt\"},\"id\":\"3454\",\"type\":\"Title\"},{\"attributes\":{},\"id\":\"3485\",\"type\":\"Selection\"},{\"attributes\":{\"children\":[{\"id\":\"3449\"},{\"id\":\"3453\"},{\"id\":\"3526\"}],\"margin\":[0,0,0,0],\"name\":\"Row05426\",\"tags\":[\"embedded\"]},\"id\":\"3448\",\"type\":\"Row\"},{\"attributes\":{\"data_source\":{\"id\":\"3484\"},\"glyph\":{\"id\":\"3487\"},\"hover_glyph\":{\"id\":\"3490\"},\"muted_glyph\":{\"id\":\"3491\"},\"nonselection_glyph\":{\"id\":\"3488\"},\"selection_glyph\":{\"id\":\"3489\"},\"view\":{\"id\":\"3493\"}},\"id\":\"3492\",\"type\":\"GlyphRenderer\"},{\"attributes\":{\"fill_color\":{\"field\":\"color\",\"transform\":{\"id\":\"3483\"}},\"line_color\":{\"field\":\"color\",\"transform\":{\"id\":\"3483\"}},\"size\":{\"value\":5.477225575051661},\"x\":{\"field\":\"TotalCoinsMined\"},\"y\":{\"field\":\"TotalCoinSupply\"}},\"id\":\"3490\",\"type\":\"Scatter\"},{\"attributes\":{\"high\":3,\"low\":0,\"palette\":[\"#440154\",\"#440255\",\"#440357\",\"#450558\",\"#45065a\",\"#45085b\",\"#46095c\",\"#460b5e\",\"#460c5f\",\"#460e61\",\"#470f62\",\"#471163\",\"#471265\",\"#471466\",\"#471567\",\"#471669\",\"#47186a\",\"#48196b\",\"#481a6c\",\"#481c6e\",\"#481d6f\",\"#481e70\",\"#482071\",\"#482172\",\"#482273\",\"#482374\",\"#472575\",\"#472676\",\"#472777\",\"#472878\",\"#472a79\",\"#472b7a\",\"#472c7b\",\"#462d7c\",\"#462f7c\",\"#46307d\",\"#46317e\",\"#45327f\",\"#45347f\",\"#453580\",\"#453681\",\"#443781\",\"#443982\",\"#433a83\",\"#433b83\",\"#433c84\",\"#423d84\",\"#423e85\",\"#424085\",\"#414186\",\"#414286\",\"#404387\",\"#404487\",\"#3f4587\",\"#3f4788\",\"#3e4888\",\"#3e4989\",\"#3d4a89\",\"#3d4b89\",\"#3d4c89\",\"#3c4d8a\",\"#3c4e8a\",\"#3b508a\",\"#3b518a\",\"#3a528b\",\"#3a538b\",\"#39548b\",\"#39558b\",\"#38568b\",\"#38578c\",\"#37588c\",\"#37598c\",\"#365a8c\",\"#365b8c\",\"#355c8c\",\"#355d8c\",\"#345e8d\",\"#345f8d\",\"#33608d\",\"#33618d\",\"#32628d\",\"#32638d\",\"#31648d\",\"#31658d\",\"#31668d\",\"#30678d\",\"#30688d\",\"#2f698d\",\"#2f6a8d\",\"#2e6b8e\",\"#2e6c8e\",\"#2e6d8e\",\"#2d6e8e\",\"#2d6f8e\",\"#2c708e\",\"#2c718e\",\"#2c728e\",\"#2b738e\",\"#2b748e\",\"#2a758e\",\"#2a768e\",\"#2a778e\",\"#29788e\",\"#29798e\",\"#287a8e\",\"#287a8e\",\"#287b8e\",\"#277c8e\",\"#277d8e\",\"#277e8e\",\"#267f8e\",\"#26808e\",\"#26818e\",\"#25828e\",\"#25838d\",\"#24848d\",\"#24858d\",\"#24868d\",\"#23878d\",\"#23888d\",\"#23898d\",\"#22898d\",\"#228a8d\",\"#228b8d\",\"#218c8d\",\"#218d8c\",\"#218e8c\",\"#208f8c\",\"#20908c\",\"#20918c\",\"#1f928c\",\"#1f938b\",\"#1f948b\",\"#1f958b\",\"#1f968b\",\"#1e978a\",\"#1e988a\",\"#1e998a\",\"#1e998a\",\"#1e9a89\",\"#1e9b89\",\"#1e9c89\",\"#1e9d88\",\"#1e9e88\",\"#1e9f88\",\"#1ea087\",\"#1fa187\",\"#1fa286\",\"#1fa386\",\"#20a485\",\"#20a585\",\"#21a685\",\"#21a784\",\"#22a784\",\"#23a883\",\"#23a982\",\"#24aa82\",\"#25ab81\",\"#26ac81\",\"#27ad80\",\"#28ae7f\",\"#29af7f\",\"#2ab07e\",\"#2bb17d\",\"#2cb17d\",\"#2eb27c\",\"#2fb37b\",\"#30b47a\",\"#32b57a\",\"#33b679\",\"#35b778\",\"#36b877\",\"#38b976\",\"#39b976\",\"#3bba75\",\"#3dbb74\",\"#3ebc73\",\"#40bd72\",\"#42be71\",\"#44be70\",\"#45bf6f\",\"#47c06e\",\"#49c16d\",\"#4bc26c\",\"#4dc26b\",\"#4fc369\",\"#51c468\",\"#53c567\",\"#55c666\",\"#57c665\",\"#59c764\",\"#5bc862\",\"#5ec961\",\"#60c960\",\"#62ca5f\",\"#64cb5d\",\"#67cc5c\",\"#69cc5b\",\"#6bcd59\",\"#6dce58\",\"#70ce56\",\"#72cf55\",\"#74d054\",\"#77d052\",\"#79d151\",\"#7cd24f\",\"#7ed24e\",\"#81d34c\",\"#83d34b\",\"#86d449\",\"#88d547\",\"#8bd546\",\"#8dd644\",\"#90d643\",\"#92d741\",\"#95d73f\",\"#97d83e\",\"#9ad83c\",\"#9dd93a\",\"#9fd938\",\"#a2da37\",\"#a5da35\",\"#a7db33\",\"#aadb32\",\"#addc30\",\"#afdc2e\",\"#b2dd2c\",\"#b5dd2b\",\"#b7dd29\",\"#bade27\",\"#bdde26\",\"#bfdf24\",\"#c2df22\",\"#c5df21\",\"#c7e01f\",\"#cae01e\",\"#cde01d\",\"#cfe11c\",\"#d2e11b\",\"#d4e11a\",\"#d7e219\",\"#dae218\",\"#dce218\",\"#dfe318\",\"#e1e318\",\"#e4e318\",\"#e7e419\",\"#e9e419\",\"#ece41a\",\"#eee51b\",\"#f1e51c\",\"#f3e51e\",\"#f6e61f\",\"#f8e621\",\"#fae622\",\"#fde724\"]},\"id\":\"3483\",\"type\":\"LinearColorMapper\"},{\"attributes\":{},\"id\":\"3472\",\"type\":\"WheelZoomTool\"},{\"attributes\":{},\"id\":\"3467\",\"type\":\"BasicTicker\"},{\"attributes\":{\"below\":[{\"id\":\"3462\"}],\"center\":[{\"id\":\"3465\"},{\"id\":\"3469\"}],\"height\":300,\"left\":[{\"id\":\"3466\"}],\"margin\":[5,5,5,5],\"min_border_bottom\":10,\"min_border_left\":10,\"min_border_right\":10,\"min_border_top\":10,\"renderers\":[{\"id\":\"3492\"}],\"right\":[{\"id\":\"3495\"}],\"sizing_mode\":\"fixed\",\"title\":{\"id\":\"3454\"},\"toolbar\":{\"id\":\"3476\"},\"width\":700,\"x_range\":{\"id\":\"3450\"},\"x_scale\":{\"id\":\"3458\"},\"y_range\":{\"id\":\"3451\"},\"y_scale\":{\"id\":\"3460\"}},\"id\":\"3453\",\"subtype\":\"Figure\",\"type\":\"Plot\"},{\"attributes\":{},\"id\":\"3460\",\"type\":\"LinearScale\"},{\"attributes\":{},\"id\":\"3515\",\"type\":\"UnionRenderers\"},{\"attributes\":{\"axis_label\":\"TotalCoinSupply\",\"formatter\":{\"id\":\"3497\"},\"major_label_policy\":{\"id\":\"3503\"},\"ticker\":{\"id\":\"3467\"}},\"id\":\"3466\",\"type\":\"LinearAxis\"},{\"attributes\":{\"axis_label\":\"TotalCoinsMined\",\"formatter\":{\"id\":\"3496\"},\"major_label_policy\":{\"id\":\"3498\"},\"ticker\":{\"id\":\"3463\"}},\"id\":\"3462\",\"type\":\"LinearAxis\"},{\"attributes\":{\"data\":{\"Class\":{\"__ndarray__\":\"AAAAAAEAAAAAAAAAAAAAAAAAAAADAAAAAAAAAAAAAAABAAAAAQAAAAEAAAABAAAAAQAAAAAAAAAAAAAAAQAAAAEAAAABAAAAAAAAAAEAAAAAAAAAAAAAAAEAAAAAAAAAAAAAAAAAAAAAAAAAAQAAAAAAAAAAAAAAAQAAAAEAAAADAAAAAAAAAAAAAAAAAAAAAQAAAAEAAAABAAAAAQAAAAAAAAABAAAAAQAAAAAAAAAAAAAAAAAAAAEAAAABAAAAAAAAAAAAAAABAAAAAAAAAAEAAAAAAAAAAAAAAAEAAAAAAAAAAQAAAAAAAAABAAAAAAAAAAEAAAAAAAAAAAAAAAEAAAAAAAAAAQAAAAEAAAABAAAAAAAAAAAAAAACAAAAAQAAAAAAAAAAAAAAAAAAAAEAAAAAAAAAAAAAAAAAAAAAAAAAAQAAAAAAAAABAAAAAQAAAAEAAAAAAAAAAQAAAAAAAAABAAAAAAAAAAEAAAAAAAAAAAAAAAEAAAAAAAAAAQAAAAAAAAAAAAAAAAAAAAAAAAABAAAAAQAAAAEAAAAAAAAAAAAAAAAAAAABAAAAAQAAAAEAAAABAAAAAQAAAAAAAAAAAAAAAQAAAAAAAAABAAAAAAAAAAEAAAAAAAAAAAAAAAAAAAAAAAAAAQAAAAEAAAABAAAAAAAAAAAAAAABAAAAAAAAAAAAAAABAAAAAQAAAAAAAAAAAAAAAQAAAAEAAAABAAAAAQAAAAEAAAAAAAAAAAAAAAEAAAAAAAAAAQAAAAEAAAABAAAAAAAAAAAAAAAAAAAAAAAAAAEAAAABAAAAAAAAAAAAAAAAAAAAAQAAAAAAAAAAAAAAAQAAAAEAAAAAAAAAAAAAAAAAAAAAAAAAAQAAAAEAAAAAAAAAAwAAAAAAAAABAAAAAQAAAAEAAAAAAAAAAQAAAAAAAAABAAAAAQAAAAEAAAAAAAAAAAAAAAAAAAABAAAAAQAAAAAAAAAAAAAAAQAAAAAAAAAAAAAAAQAAAAEAAAABAAAAAAAAAAAAAAAAAAAAAQAAAAEAAAABAAAAAQAAAAAAAAAAAAAAAQAAAAEAAAAAAAAAAQAAAAAAAAAAAAAAAAAAAAEAAAABAAAAAAAAAAAAAAAAAAAAAAAAAAEAAAAAAAAAAAAAAAEAAAAAAAAAAAAAAAEAAAABAAAAAAAAAAAAAAAAAAAAAQAAAAEAAAAAAAAAAAAAAAAAAAAAAAAAAQAAAAAAAAABAAAAAQAAAAEAAAAAAAAAAQAAAAAAAAABAAAAAAAAAAAAAAAAAAAAAQAAAAEAAAAAAAAAAQAAAAAAAAAAAAAAAQAAAAEAAAABAAAAAQAAAAAAAAAAAAAAAAAAAAMAAAAAAAAAAAAAAAAAAAABAAAAAAAAAAEAAAABAAAAAAAAAAEAAAABAAAAAAAAAAEAAAABAAAAAAAAAAAAAAABAAAAAAAAAAAAAAAAAAAAAQAAAAAAAAAAAAAAAAAAAAAAAAABAAAAAQAAAAEAAAAAAAAAAQAAAAAAAAABAAAAAAAAAAAAAAABAAAAAQAAAAAAAAAAAAAAAQAAAAEAAAAAAAAAAAAAAAEAAAAAAAAAAAAAAAAAAAABAAAAAAAAAAAAAAABAAAAAQAAAAAAAAAAAAAAAAAAAAEAAAABAAAAAQAAAAAAAAAAAAAAAAAAAAAAAAAAAAAAAQAAAAEAAAAAAAAAAAAAAAAAAAAAAAAAAQAAAAEAAAAAAAAAAAAAAAEAAAAAAAAAAAAAAAEAAAAAAAAAAAAAAAEAAAABAAAAAAAAAAAAAAABAAAAAQAAAAAAAAAAAAAAAAAAAAAAAAABAAAAAQAAAAAAAAABAAAAAQAAAAEAAAAAAAAAAAAAAAAAAAADAAAAAQAAAAAAAAAAAAAAAQAAAAEAAAAAAAAAAAAAAAAAAAAAAAAAAQAAAAEAAAABAAAAAAAAAAAAAAAAAAAAAAAAAAEAAAABAAAAAQAAAAAAAAABAAAAAAAAAAAAAAAAAAAAAAAAAAEAAAAAAAAAAAAAAAAAAAABAAAAAAAAAAAAAAAAAAAAAQAAAAAAAAABAAAAAQAAAAAAAAABAAAAAQAAAAAAAAAAAAAAAQAAAAEAAAAAAAAAAAAAAAAAAAABAAAAAQAAAAEAAAABAAAAAQAAAAEAAAABAAAAAQAAAAEAAAABAAAAAAAAAAEAAAABAAAAAAAAAAEAAAAAAAAAAAAAAAEAAAABAAAAAAAAAAAAAAABAAAAAAAAAAEAAAAAAAAAAAAAAAAAAAAAAAAAAAAAAAAAAAABAAAAAAAAAAAAAAAAAAAAAAAAAAAAAAABAAAAAQAAAAAAAAAAAAAAAAAAAAEAAAAAAAAAAAAAAAAAAAABAAAAAAAAAAAAAAABAAAAAQAAAAEAAAABAAAAAQAAAAEAAAAAAAAAAQAAAAEAAAABAAAAAAAAAAAAAAAAAAAAAAAAAAMAAAABAAAAAAAAAAAAAAAAAAAAAQAAAAEAAAAAAAAAAQAAAAAAAAABAAAAAAAAAAAAAAAAAAAAAwAAAAEAAAABAAAAAQAAAAAAAAAAAAAAAAAAAAAAAAABAAAAAQAAAAEAAAAAAAAAAAAAAAAAAAABAAAAAAAAAAAAAAAAAAAAAAAAAAAAAAAAAAAAAQAAAAEAAAABAAAAAAAAAAEAAAABAAAAAQAAAAAAAAAAAAAAAAAAAAAAAAABAAAAAQAAAAAAAAAAAAAAAAAAAAEAAAABAAAAAAAAAAAAAAABAAAAAQAAAAAAAAAAAAAAAQAAAAEAAAAAAAAAAQAAAAAAAAABAAAAAQAAAAAAAAABAAAAAQAAAAEAAAA=\",\"dtype\":\"int32\",\"order\":\"little\",\"shape\":[533]},\"CoinName\":[\"42 Coin\",\"404Coin\",\"EliteCoin\",\"Bitcoin\",\"Ethereum\",\"Litecoin\",\"Dash\",\"Monero\",\"Ethereum Classic\",\"ZCash\",\"Bitshares\",\"DigiByte\",\"BitcoinDark\",\"PayCoin\",\"ProsperCoin\",\"KoboCoin\",\"Spreadcoin\",\"Argentum\",\"Aurora Coin\",\"BlueCoin\",\"MyriadCoin\",\"MoonCoin\",\"ZetaCoin\",\"SexCoin\",\"Quatloo\",\"EnergyCoin\",\"QuarkCoin\",\"Riecoin\",\"Digitalcoin \",\"BitBar\",\"Catcoin\",\"CryptoBullion\",\"CannaCoin\",\"CryptCoin\",\"CasinoCoin\",\"Diamond\",\"Verge\",\"DevCoin\",\"EarthCoin\",\"E-Gulden\",\"Einsteinium\",\"Emerald\",\"Exclusive Coin\",\"FlutterCoin\",\"Franko\",\"FeatherCoin\",\"GrandCoin\",\"GlobalCoin\",\"GoldCoin\",\"HoboNickels\",\"HyperStake\",\"Infinite Coin\",\"IOCoin\",\"IXcoin\",\"KrugerCoin\",\"LuckyCoin\",\"Litebar \",\"MaxCoin\",\"MegaCoin\",\"MediterraneanCoin\",\"MintCoin\",\"MinCoin\",\"MazaCoin\",\"Nautilus Coin\",\"NavCoin\",\"NobleCoin\",\"Namecoin\",\"NyanCoin\",\"OpalCoin\",\"Orbitcoin\",\"PotCoin\",\"PhoenixCoin\",\"Reddcoin\",\"RonPaulCoin\",\"StableCoin\",\"SmartCoin\",\"SuperCoin\",\"SyncCoin\",\"SysCoin\",\"TeslaCoin\",\"TigerCoin\",\"TittieCoin\",\"TorCoin\",\"TerraCoin\",\"UnbreakableCoin\",\"Unobtanium\",\"UroCoin\",\"UnitaryStatus Dollar\",\"UltraCoin\",\"ViaCoin\",\"VeriCoin\",\"Vertcoin\",\"WorldCoin\",\"X11 Coin\",\"Crypti\",\"JouleCoin\",\"StealthCoin\",\"ZCC Coin\",\"ByteCoin\",\"DigitalNote \",\"BurstCoin\",\"StorjCoin\",\"MonaCoin\",\"Neutron\",\"FairCoin\",\"Gulden\",\"RubyCoin\",\"PesetaCoin\",\"Kore\",\"Wild Beast Coin\",\"Dnotes\",\"Flo\",\"8BIT Coin\",\"Sativa Coin\",\"ArtByte\",\"Folding Coin\",\"Ucoin\",\"Unitus\",\"CypherPunkCoin\",\"OmniCron\",\"Vtorrent\",\"GreenCoin\",\"Cryptonite\",\"MasterCoin\",\"SoonCoin\",\"1Credit\",\"IslaCoin\",\"Nexus\",\"MarsCoin \",\"Crypto\",\"Anarchists Prime\",\"Droidz\",\"BowsCoin\",\"Squall Coin\",\"Song Coin\",\"BitZeny\",\"Diggits\",\"Expanse\",\"Paycon\",\"Siacoin\",\"Emercoin\",\"EverGreenCoin\",\"MindCoin\",\"I0coin\",\"Decred\",\"Revolution VR\",\"HOdlcoin\",\"EDRCoin\",\"Hitcoin\",\"Gamecredits\",\"DubaiCoin\",\"CarpeDiemCoin\",\"PWR Coin\",\"BillaryCoin\",\"GPU Coin\",\"Adzcoin\",\"SoilCoin\",\"YoCoin\",\"SibCoin\",\"EuropeCoin\",\"ZeitCoin\",\"SwingCoin\",\"SafeExchangeCoin\",\"Nebuchadnezzar\",\"Francs\",\"BolivarCoin\",\"Ratecoin\",\"Revenu\",\"Clockcoin\",\"VIP Tokens\",\"BitSend\",\"Omni\",\"Let it Ride\",\"PutinCoin\",\"iBankCoin\",\"Frankywillcoin\",\"MudraCoin\",\"PizzaCoin\",\"Lutetium Coin\",\"Komodo\",\"GoldBlocks\",\"CarterCoin\",\"Karbo\",\"BitTokens\",\"ZayedCoin\",\"MustangCoin\",\"ZoneCoin\",\"Circuits of Value\",\"RootCoin\",\"DopeCoin\",\"BitCurrency\",\"DollarCoin\",\"Swiscoin\",\"Shilling\",\"BuzzCoin\",\"Opair\",\"PesoBit\",\"Halloween Coin\",\"ZCoin\",\"CoffeeCoin\",\"RoyalCoin\",\"GanjaCoin V2\",\"TeamUP\",\"LanaCoin\",\"Elementrem\",\"ZClassic\",\"ARK\",\"InsaneCoin\",\"KiloCoin\",\"ArtexCoin\",\"EmberCoin\",\"XenixCoin\",\"FreeCoin\",\"PLNCoin\",\"AquariusCoin\",\"Kurrent\",\"Creatio\",\"Eternity\",\"Eurocoin\",\"BitcoinFast\",\"Stakenet\",\"BitConnect Coin\",\"MoneyCoin\",\"Enigma\",\"Cannabis Industry Coin\",\"Russiacoin\",\"PandaCoin\",\"GameUnits\",\"GAKHcoin\",\"Allsafe\",\"LiteCreed\",\"OsmiumCoin\",\"Bikercoins\",\"HexxCoin\",\"Klingon Empire Darsek\",\"Internet of People\",\"KushCoin\",\"Printerium\",\"PacCoin\",\"Impeach\",\"Citadel\",\"Zilbercoin\",\"FirstCoin\",\"BeaverCoin\",\"FindCoin\",\"VaultCoin\",\"Zero\",\"OpenChat\",\"Canada eCoin\",\"Zoin\",\"RenosCoin\",\"DubaiCoin\",\"VirtacoinPlus\",\"TajCoin\",\"Impact\",\"EB3coin\",\"Atmos\",\"HappyCoin\",\"Coinonat\",\"MacronCoin\",\"Condensate\",\"Independent Money System\",\"ArgusCoin\",\"LomoCoin\",\"ProCurrency\",\"GoldReserve\",\"BenjiRolls\",\"GrowthCoin\",\"ILCoin\",\"Phreak\",\"Degas Coin\",\"HTML5 Coin\",\"Ultimate Secure Cash\",\"EquiTrader\",\"QTUM\",\"Quantum Resistant Ledger\",\"Espers\",\"Dynamic\",\"Nano\",\"ChanCoin\",\"Dinastycoin\",\"Denarius\",\"DigitalPrice\",\"Virta Unique Coin\",\"Bitcoin Planet\",\"Unify\",\"BritCoin\",\"SocialCoin\",\"ArcticCoin\",\"DAS\",\"Linda\",\"LeviarCoin\",\"DeepOnion\",\"Bitcore\",\"gCn Coin\",\"SmartCash\",\"Signatum\",\"Onix\",\"Cream\",\"Bitcoin Cash\",\"Monoeci\",\"Draftcoin\",\"Vechain\",\"Sojourn Coin\",\"Stakecoin\",\"NewYorkCoin\",\"FrazCoin\",\"Kronecoin\",\"AdCoin\",\"Linx\",\"CoinonatX\",\"Ethereum Dark\",\"Sumokoin\",\"Obsidian\",\"Cardano\",\"Regalcoin\",\"BitcoinZ\",\"TrezarCoin\",\"Elements\",\"TerraNovaCoin\",\"VIVO Coin\",\"Rupee\",\"Bitcoin Gold\",\"WomenCoin\",\"Theresa May Coin\",\"NamoCoin\",\"LUXCoin\",\"Pirl\",\"Xios\",\"Bitcloud 2.0\",\"eBoost\",\"KekCoin\",\"BlackholeCoin\",\"Infinity Economics\",\"Pura\",\"Innova\",\"Ellaism\",\"GoByte\",\"Magnet\",\"Lamden Tau\",\"Electra\",\"Bitcoin Diamond\",\"SHIELD\",\"Cash & Back Coin\",\"UltraNote\",\"BitCoal\",\"DaxxCoin\",\"Bulwark\",\"Kalkulus\",\"AC3\",\"Lethean\",\"GermanCoin\",\"LiteCoin Ultra\",\"PopularCoin\",\"PhantomX\",\"Photon\",\"Sucre\",\"SparksPay\",\"Digiwage\",\"GunCoin\",\"IrishCoin\",\"Trollcoin\",\"Litecoin Plus\",\"Monkey Project\",\"Pioneer Coin\",\"UnitedBitcoin\",\"Interzone\",\"TokenPay\",\"1717 Masonic Commemorative Token\",\"My Big Coin\",\"TurtleCoin\",\"MUNcoin\",\"Unified Society USDEX\",\"Niobio Cash\",\"ShareChain\",\"Travelflex\",\"KREDS\",\"Tokyo Coin\",\"BiblePay\",\"LitecoinCash\",\"BitFlip\",\"LottoCoin\",\"Crypto Improvement Fund\",\"Stipend\",\"Poa Network\",\"Pushi\",\"Ellerium\",\"Velox\",\"Ontology\",\"Callisto Network\",\"BitTube\",\"Poseidon\",\"Aidos Kuneen\",\"Bitspace\",\"Briacoin\",\"Ignition\",\"Bitrolium\",\"MedicCoin\",\"Alpenschillling\",\"Bitcoin Green\",\"Deviant Coin\",\"Abjcoin\",\"Semux\",\"FuturoCoin\",\"Carebit\",\"Zealium\",\"Monero Classic\",\"Proton\",\"iDealCash\",\"Jumpcoin\",\"Infinex\",\"Bitcoin Incognito\",\"KEYCO\",\"HollyWoodCoin\",\"GINcoin\",\"PlatinCoin\",\"Loki\",\"Newton Coin\",\"Swisscoin\",\"Xt3ch\",\"MassGrid\",\"TheVig\",\"PluraCoin\",\"EmaratCoin\",\"Dekado\",\"Lynx\",\"Poseidon Quark\",\"BitcoinWSpectrum\",\"Muse\",\"Motion\",\"PlusOneCoin\",\"Axe\",\"Trivechain\",\"Dystem\",\"Giant\",\"Peony Coin\",\"Absolute Coin\",\"Vitae\",\"HexCoin\",\"TPCash\",\"Webchain\",\"Ryo\",\"Urals Coin\",\"Qwertycoin\",\"ARENON\",\"EUNO\",\"MMOCoin\",\"Ketan\",\"Project Pai\",\"XDNA\",\"PAXEX\",\"Azart\",\"ThunderStake\",\"Kcash\",\"Xchange\",\"Acute Angle Cloud\",\"CrypticCoin\",\"Bettex coin\",\"Actinium\",\"Bitcoin SV\",\"BitMoney\",\"Junson Ming Chan Coin\",\"FREDEnergy\",\"HerbCoin\",\"Universal Molecule\",\"Lithium\",\"PirateCash\",\"Exosis\",\"Block-Logic\",\"Oduwa\",\"Beam\",\"Galilel\",\"Bithereum\",\"Crypto Sports\",\"Credit\",\"SLICE\",\"Dash Platinum\",\"Nasdacoin\",\"Beetle Coin\",\"Titan Coin\",\"Award\",\"BLAST\",\"Bitcoin Rhodium\",\"GlobalToken\",\"Insane Coin\",\"ALAX\",\"LiteDoge\",\"SolarCoin\",\"TruckCoin\",\"UFO Coin\",\"OrangeCoin\",\"BlakeCoin\",\"BitstarCoin\",\"NeosCoin\",\"HyperCoin\",\"PinkCoin\",\"Crypto Escudo\",\"AudioCoin\",\"IncaKoin\",\"Piggy Coin\",\"Crown Coin\",\"Genstake\",\"SmileyCoin\",\"XiaoMiCoin\",\"Groestlcoin\",\"CapriCoin\",\" ClubCoin\",\"Radium\",\"Bata\",\"Pakcoin\",\"Creditbit \",\"OKCash\",\"Lisk\",\"HiCoin\",\"WhiteCoin\",\"FriendshipCoin\",\"Fiii\",\"JoinCoin\",\"Triangles Coin\",\"Vollar\",\"EOS\",\"Reality Clash\",\"Oxycoin\",\"TigerCash\",\"Waves\",\"Particl\",\"BitTorrent\",\"Nxt\",\"ZEPHYR\",\"Gapcoin\",\"Beldex\",\"Horizen\",\"BitcoinPlus\"],\"TotalCoinSupply\":{\"__ndarray__\":\"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\",\"dtype\":\"float64\",\"order\":\"little\",\"shape\":[533]},\"TotalCoinsMined\":{\"__ndarray__\":\"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\",\"dtype\":\"float64\",\"order\":\"little\",\"shape\":[533]},\"color\":{\"__ndarray__\":\"AAAAAAEAAAAAAAAAAAAAAAAAAAADAAAAAAAAAAAAAAABAAAAAQAAAAEAAAABAAAAAQAAAAAAAAAAAAAAAQAAAAEAAAABAAAAAAAAAAEAAAAAAAAAAAAAAAEAAAAAAAAAAAAAAAAAAAAAAAAAAQAAAAAAAAAAAAAAAQAAAAEAAAADAAAAAAAAAAAAAAAAAAAAAQAAAAEAAAABAAAAAQAAAAAAAAABAAAAAQAAAAAAAAAAAAAAAAAAAAEAAAABAAAAAAAAAAAAAAABAAAAAAAAAAEAAAAAAAAAAAAAAAEAAAAAAAAAAQAAAAAAAAABAAAAAAAAAAEAAAAAAAAAAAAAAAEAAAAAAAAAAQAAAAEAAAABAAAAAAAAAAAAAAACAAAAAQAAAAAAAAAAAAAAAAAAAAEAAAAAAAAAAAAAAAAAAAAAAAAAAQAAAAAAAAABAAAAAQAAAAEAAAAAAAAAAQAAAAAAAAABAAAAAAAAAAEAAAAAAAAAAAAAAAEAAAAAAAAAAQAAAAAAAAAAAAAAAAAAAAAAAAABAAAAAQAAAAEAAAAAAAAAAAAAAAAAAAABAAAAAQAAAAEAAAABAAAAAQAAAAAAAAAAAAAAAQAAAAAAAAABAAAAAAAAAAEAAAAAAAAAAAAAAAAAAAAAAAAAAQAAAAEAAAABAAAAAAAAAAAAAAABAAAAAAAAAAAAAAABAAAAAQAAAAAAAAAAAAAAAQAAAAEAAAABAAAAAQAAAAEAAAAAAAAAAAAAAAEAAAAAAAAAAQAAAAEAAAABAAAAAAAAAAAAAAAAAAAAAAAAAAEAAAABAAAAAAAAAAAAAAAAAAAAAQAAAAAAAAAAAAAAAQAAAAEAAAAAAAAAAAAAAAAAAAAAAAAAAQAAAAEAAAAAAAAAAwAAAAAAAAABAAAAAQAAAAEAAAAAAAAAAQAAAAAAAAABAAAAAQAAAAEAAAAAAAAAAAAAAAAAAAABAAAAAQAAAAAAAAAAAAAAAQAAAAAAAAAAAAAAAQAAAAEAAAABAAAAAAAAAAAAAAAAAAAAAQAAAAEAAAABAAAAAQAAAAAAAAAAAAAAAQAAAAEAAAAAAAAAAQAAAAAAAAAAAAAAAAAAAAEAAAABAAAAAAAAAAAAAAAAAAAAAAAAAAEAAAAAAAAAAAAAAAEAAAAAAAAAAAAAAAEAAAABAAAAAAAAAAAAAAAAAAAAAQAAAAEAAAAAAAAAAAAAAAAAAAAAAAAAAQAAAAAAAAABAAAAAQAAAAEAAAAAAAAAAQAAAAAAAAABAAAAAAAAAAAAAAAAAAAAAQAAAAEAAAAAAAAAAQAAAAAAAAAAAAAAAQAAAAEAAAABAAAAAQAAAAAAAAAAAAAAAAAAAAMAAAAAAAAAAAAAAAAAAAABAAAAAAAAAAEAAAABAAAAAAAAAAEAAAABAAAAAAAAAAEAAAABAAAAAAAAAAAAAAABAAAAAAAAAAAAAAAAAAAAAQAAAAAAAAAAAAAAAAAAAAAAAAABAAAAAQAAAAEAAAAAAAAAAQAAAAAAAAABAAAAAAAAAAAAAAABAAAAAQAAAAAAAAAAAAAAAQAAAAEAAAAAAAAAAAAAAAEAAAAAAAAAAAAAAAAAAAABAAAAAAAAAAAAAAABAAAAAQAAAAAAAAAAAAAAAAAAAAEAAAABAAAAAQAAAAAAAAAAAAAAAAAAAAAAAAAAAAAAAQAAAAEAAAAAAAAAAAAAAAAAAAAAAAAAAQAAAAEAAAAAAAAAAAAAAAEAAAAAAAAAAAAAAAEAAAAAAAAAAAAAAAEAAAABAAAAAAAAAAAAAAABAAAAAQAAAAAAAAAAAAAAAAAAAAAAAAABAAAAAQAAAAAAAAABAAAAAQAAAAEAAAAAAAAAAAAAAAAAAAADAAAAAQAAAAAAAAAAAAAAAQAAAAEAAAAAAAAAAAAAAAAAAAAAAAAAAQAAAAEAAAABAAAAAAAAAAAAAAAAAAAAAAAAAAEAAAABAAAAAQAAAAAAAAABAAAAAAAAAAAAAAAAAAAAAAAAAAEAAAAAAAAAAAAAAAAAAAABAAAAAAAAAAAAAAAAAAAAAQAAAAAAAAABAAAAAQAAAAAAAAABAAAAAQAAAAAAAAAAAAAAAQAAAAEAAAAAAAAAAAAAAAAAAAABAAAAAQAAAAEAAAABAAAAAQAAAAEAAAABAAAAAQAAAAEAAAABAAAAAAAAAAEAAAABAAAAAAAAAAEAAAAAAAAAAAAAAAEAAAABAAAAAAAAAAAAAAABAAAAAAAAAAEAAAAAAAAAAAAAAAAAAAAAAAAAAAAAAAAAAAABAAAAAAAAAAAAAAAAAAAAAAAAAAAAAAABAAAAAQAAAAAAAAAAAAAAAAAAAAEAAAAAAAAAAAAAAAAAAAABAAAAAAAAAAAAAAABAAAAAQAAAAEAAAABAAAAAQAAAAEAAAAAAAAAAQAAAAEAAAABAAAAAAAAAAAAAAAAAAAAAAAAAAMAAAABAAAAAAAAAAAAAAAAAAAAAQAAAAEAAAAAAAAAAQAAAAAAAAABAAAAAAAAAAAAAAAAAAAAAwAAAAEAAAABAAAAAQAAAAAAAAAAAAAAAAAAAAAAAAABAAAAAQAAAAEAAAAAAAAAAAAAAAAAAAABAAAAAAAAAAAAAAAAAAAAAAAAAAAAAAAAAAAAAQAAAAEAAAABAAAAAAAAAAEAAAABAAAAAQAAAAAAAAAAAAAAAAAAAAAAAAABAAAAAQAAAAAAAAAAAAAAAAAAAAEAAAABAAAAAAAAAAAAAAABAAAAAQAAAAAAAAAAAAAAAQAAAAEAAAAAAAAAAQAAAAAAAAABAAAAAQAAAAAAAAABAAAAAQAAAAEAAAA=\",\"dtype\":\"int32\",\"order\":\"little\",\"shape\":[533]}},\"selected\":{\"id\":\"3485\"},\"selection_policy\":{\"id\":\"3515\"}},\"id\":\"3484\",\"type\":\"ColumnDataSource\"},{\"attributes\":{\"callback\":null,\"renderers\":[{\"id\":\"3492\"}],\"tags\":[\"hv_created\"],\"tooltips\":[[\"TotalCoinsMined\",\"@{TotalCoinsMined}\"],[\"TotalCoinSupply\",\"@{TotalCoinSupply}\"],[\"Class\",\"@{Class}\"],[\"CoinName\",\"@{CoinName}\"]]},\"id\":\"3452\",\"type\":\"HoverTool\"},{\"attributes\":{},\"id\":\"3498\",\"type\":\"AllLabels\"},{\"attributes\":{\"end\":1032670.4287676899,\"reset_end\":1032670.4287676899,\"reset_start\":-48599.69287600845,\"start\":-48599.69287600845,\"tags\":[[[\"TotalCoinsMined\",\"TotalCoinsMined\",null]]]},\"id\":\"3450\",\"type\":\"Range1d\"},{\"attributes\":{},\"id\":\"3494\",\"type\":\"BasicTicker\"},{\"attributes\":{\"format\":\"%.0f\"},\"id\":\"3497\",\"type\":\"PrintfTickFormatter\"},{\"attributes\":{\"fill_alpha\":{\"value\":0.2},\"fill_color\":{\"field\":\"color\",\"transform\":{\"id\":\"3483\"}},\"line_alpha\":{\"value\":0.2},\"line_color\":{\"field\":\"color\",\"transform\":{\"id\":\"3483\"}},\"size\":{\"value\":5.477225575051661},\"x\":{\"field\":\"TotalCoinsMined\"},\"y\":{\"field\":\"TotalCoinSupply\"}},\"id\":\"3491\",\"type\":\"Scatter\"},{\"attributes\":{\"bar_line_color\":\"black\",\"color_mapper\":{\"id\":\"3483\"},\"label_standoff\":8,\"location\":[0,0],\"major_label_policy\":{\"id\":\"3509\"},\"major_tick_line_color\":\"black\",\"ticker\":{\"id\":\"3494\"}},\"id\":\"3495\",\"type\":\"ColorBar\"},{\"attributes\":{},\"id\":\"3509\",\"type\":\"NoOverlap\"},{\"attributes\":{\"end\":1100000.0,\"reset_end\":1100000.0,\"reset_start\":-100000.0,\"start\":-100000.0,\"tags\":[[[\"TotalCoinSupply\",\"TotalCoinSupply\",null]]]},\"id\":\"3451\",\"type\":\"Range1d\"},{\"attributes\":{},\"id\":\"3503\",\"type\":\"AllLabels\"},{\"attributes\":{\"margin\":[5,5,5,5],\"name\":\"HSpacer05430\",\"sizing_mode\":\"stretch_width\"},\"id\":\"3449\",\"type\":\"Spacer\"},{\"attributes\":{},\"id\":\"3470\",\"type\":\"SaveTool\"},{\"attributes\":{\"format\":\"%.0f\"},\"id\":\"3496\",\"type\":\"PrintfTickFormatter\"},{\"attributes\":{},\"id\":\"3471\",\"type\":\"PanTool\"},{\"attributes\":{},\"id\":\"3474\",\"type\":\"ResetTool\"}],\"root_ids\":[\"3448\"]},\"title\":\"Bokeh Application\",\"version\":\"2.3.2\"}};\n",
       "    var render_items = [{\"docid\":\"0241ff03-2e4b-437a-9795-3978140e5bdd\",\"root_ids\":[\"3448\"],\"roots\":{\"3448\":\"377d7e15-79a6-4e03-987e-b8aeb25eaf08\"}}];\n",
       "    root.Bokeh.embed.embed_items_notebook(docs_json, render_items);\n",
       "  }\n",
       "  if (root.Bokeh !== undefined && root.Bokeh.Panel !== undefined) {\n",
       "    embed_document(root);\n",
       "  } else {\n",
       "    var attempts = 0;\n",
       "    var timer = setInterval(function(root) {\n",
       "      if (root.Bokeh !== undefined && root.Bokeh.Panel !== undefined) {\n",
       "        clearInterval(timer);\n",
       "        embed_document(root);\n",
       "      } else if (document.readyState == \"complete\") {\n",
       "        attempts++;\n",
       "        if (attempts > 200) {\n",
       "          clearInterval(timer);\n",
       "          console.log(\"Bokeh: ERROR: Unable to run BokehJS code because BokehJS library is missing\");\n",
       "        }\n",
       "      }\n",
       "    }, 25, root)\n",
       "  }\n",
       "})(window);</script>"
      ],
      "text/plain": [
       ":Scatter   [TotalCoinsMined]   (TotalCoinSupply,Class,CoinName)"
      ]
     },
     "execution_count": 278,
     "metadata": {
      "application/vnd.holoviews_exec.v0+json": {
       "id": "3448"
      }
     },
     "output_type": "execute_result"
    }
   ],
   "source": [
    "# Plot the scatter with x=\"TotalCoinsMined\" and y=\"TotalCoinSupply\"\n",
    "\n",
    "clustered_df.hvplot(\n",
    "    kind=\"scatter\", \n",
    "    x=\"TotalCoinsMined\", \n",
    "    y=\"TotalCoinSupply\", \n",
    "    c='Class', \n",
    "    colormap=\"viridis\", \n",
    "    hover_cols=['CoinName'],\n",
    "    yformatter='%.0f',\n",
    "    xformatter='%.0f'\n",
    ")"
   ]
  },
  {
   "cell_type": "code",
   "execution_count": null,
   "metadata": {},
   "outputs": [],
   "source": []
  },
  {
   "cell_type": "code",
   "execution_count": null,
   "metadata": {},
   "outputs": [],
   "source": []
  }
 ],
 "metadata": {
  "file_extension": ".py",
  "kernelspec": {
   "display_name": "Python 3",
   "language": "python",
   "name": "python3"
  },
  "language_info": {
   "codemirror_mode": {
    "name": "ipython",
    "version": 3
   },
   "file_extension": ".py",
   "mimetype": "text/x-python",
   "name": "python",
   "nbconvert_exporter": "python",
   "pygments_lexer": "ipython3",
   "version": "3.7.10"
  },
  "mimetype": "text/x-python",
  "name": "python",
  "npconvert_exporter": "python",
  "pygments_lexer": "ipython3",
  "version": 3
 },
 "nbformat": 4,
 "nbformat_minor": 4
}
